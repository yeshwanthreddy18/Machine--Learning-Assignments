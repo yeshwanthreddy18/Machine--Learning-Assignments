{
 "cells": [
  {
   "cell_type": "markdown",
   "metadata": {},
   "source": [
    "# Amazon Fine Food Reviews Analysis\n",
    "\n",
    "\n",
    "Data Source: https://www.kaggle.com/snap/amazon-fine-food-reviews <br>\n",
    "\n",
    "EDA: https://nycdatascience.com/blog/student-works/amazon-fine-foods-visualization/\n",
    "\n",
    "\n",
    "The Amazon Fine Food Reviews dataset consists of reviews of fine foods from Amazon.<br>\n",
    "\n",
    "Number of reviews: 568,454<br>\n",
    "Number of users: 256,059<br>\n",
    "Number of products: 74,258<br>\n",
    "Timespan: Oct 1999 - Oct 2012<br>\n",
    "Number of Attributes/Columns in data: 10 \n",
    "\n",
    "Attribute Information:\n",
    "\n",
    "1. Id\n",
    "2. ProductId - unique identifier for the product\n",
    "3. UserId - unqiue identifier for the user\n",
    "4. ProfileName\n",
    "5. HelpfulnessNumerator - number of users who found the review helpful\n",
    "6. HelpfulnessDenominator - number of users who indicated whether they found the review helpful or not\n",
    "7. Score - rating between 1 and 5\n",
    "8. Time - timestamp for the review\n",
    "9. Summary - brief summary of the review\n",
    "10. Text - text of the review\n",
    "\n",
    "\n",
    "#### Objective:\n",
    "Given a review, determine whether the review is positive (rating of 4 or 5) or negative (rating of 1 or 2).\n",
    "\n",
    "<br>\n",
    "[Q] How to determine if a review is positive or negative?<br>\n",
    "<br> \n",
    "[Ans] We could use Score/Rating. A rating of 4 or 5 can be cosnidered as a positive review. A rating of 1 or 2 can be considered as negative one. A review of rating 3 is considered nuetral and such reviews are ignored from our analysis. This is an approximate and proxy way of determining the polarity (positivity/negativity) of a review.\n",
    "\n",
    "\n"
   ]
  },
  {
   "cell_type": "markdown",
   "metadata": {},
   "source": [
    "# [1]. Reading Data"
   ]
  },
  {
   "cell_type": "markdown",
   "metadata": {},
   "source": [
    "## [1.1] Loading the data\n",
    "\n",
    "The dataset is available in two forms\n",
    "1. .csv file\n",
    "2. SQLite Database\n",
    "\n",
    "In order to load the data, We have used the SQLITE dataset as it is easier to query the data and visualise the data efficiently.\n",
    "<br> \n",
    "\n",
    "Here as we only want to get the global sentiment of the recommendations (positive or negative), we will purposefully ignore all Scores equal to 3. If the score is above 3, then the recommendation wil be set to \"positive\". Otherwise, it will be set to \"negative\"."
   ]
  },
  {
   "cell_type": "code",
   "execution_count": 2,
   "metadata": {},
   "outputs": [],
   "source": [
    "%matplotlib inline\n",
    "import warnings\n",
    "warnings.filterwarnings(\"ignore\")\n",
    "\n",
    "\n",
    "import sqlite3\n",
    "import pandas as pd\n",
    "import numpy as np\n",
    "import nltk\n",
    "import string\n",
    "import matplotlib.pyplot as plt\n",
    "import seaborn as sns\n",
    "from sklearn.feature_extraction.text import TfidfTransformer\n",
    "from sklearn.feature_extraction.text import TfidfVectorizer\n",
    "\n",
    "from sklearn.feature_extraction.text import CountVectorizer\n",
    "from sklearn.metrics import confusion_matrix\n",
    "from sklearn import metrics\n",
    "from sklearn.metrics import roc_curve, auc\n",
    "from nltk.stem.porter import PorterStemmer\n",
    "\n",
    "import re\n",
    "# Tutorial about Python regular expressions: https://pymotw.com/2/re/\n",
    "import string\n",
    "from nltk.corpus import stopwords\n",
    "from nltk.stem import PorterStemmer\n",
    "from nltk.stem.wordnet import WordNetLemmatizer\n",
    "\n",
    "from gensim.models import Word2Vec\n",
    "from gensim.models import KeyedVectors\n",
    "import pickle\n",
    "\n",
    "from tqdm import tqdm\n",
    "import os"
   ]
  },
  {
   "cell_type": "code",
   "execution_count": 127,
   "metadata": {},
   "outputs": [
    {
     "name": "stdout",
     "output_type": "stream",
     "text": [
      "Number of data points in our data (50000, 10)\n"
     ]
    },
    {
     "data": {
      "text/html": [
       "<div>\n",
       "<style scoped>\n",
       "    .dataframe tbody tr th:only-of-type {\n",
       "        vertical-align: middle;\n",
       "    }\n",
       "\n",
       "    .dataframe tbody tr th {\n",
       "        vertical-align: top;\n",
       "    }\n",
       "\n",
       "    .dataframe thead th {\n",
       "        text-align: right;\n",
       "    }\n",
       "</style>\n",
       "<table border=\"1\" class=\"dataframe\">\n",
       "  <thead>\n",
       "    <tr style=\"text-align: right;\">\n",
       "      <th></th>\n",
       "      <th>Id</th>\n",
       "      <th>ProductId</th>\n",
       "      <th>UserId</th>\n",
       "      <th>ProfileName</th>\n",
       "      <th>HelpfulnessNumerator</th>\n",
       "      <th>HelpfulnessDenominator</th>\n",
       "      <th>Score</th>\n",
       "      <th>Time</th>\n",
       "      <th>Summary</th>\n",
       "      <th>Text</th>\n",
       "    </tr>\n",
       "  </thead>\n",
       "  <tbody>\n",
       "    <tr>\n",
       "      <th>0</th>\n",
       "      <td>1</td>\n",
       "      <td>B001E4KFG0</td>\n",
       "      <td>A3SGXH7AUHU8GW</td>\n",
       "      <td>delmartian</td>\n",
       "      <td>1</td>\n",
       "      <td>1</td>\n",
       "      <td>positive</td>\n",
       "      <td>1303862400</td>\n",
       "      <td>Good Quality Dog Food</td>\n",
       "      <td>I have bought several of the Vitality canned d...</td>\n",
       "    </tr>\n",
       "    <tr>\n",
       "      <th>1</th>\n",
       "      <td>2</td>\n",
       "      <td>B00813GRG4</td>\n",
       "      <td>A1D87F6ZCVE5NK</td>\n",
       "      <td>dll pa</td>\n",
       "      <td>0</td>\n",
       "      <td>0</td>\n",
       "      <td>negative</td>\n",
       "      <td>1346976000</td>\n",
       "      <td>Not as Advertised</td>\n",
       "      <td>Product arrived labeled as Jumbo Salted Peanut...</td>\n",
       "    </tr>\n",
       "    <tr>\n",
       "      <th>2</th>\n",
       "      <td>3</td>\n",
       "      <td>B000LQOCH0</td>\n",
       "      <td>ABXLMWJIXXAIN</td>\n",
       "      <td>Natalia Corres \"Natalia Corres\"</td>\n",
       "      <td>1</td>\n",
       "      <td>1</td>\n",
       "      <td>positive</td>\n",
       "      <td>1219017600</td>\n",
       "      <td>\"Delight\" says it all</td>\n",
       "      <td>This is a confection that has been around a fe...</td>\n",
       "    </tr>\n",
       "  </tbody>\n",
       "</table>\n",
       "</div>"
      ],
      "text/plain": [
       "   Id   ProductId          UserId                      ProfileName  \\\n",
       "0   1  B001E4KFG0  A3SGXH7AUHU8GW                       delmartian   \n",
       "1   2  B00813GRG4  A1D87F6ZCVE5NK                           dll pa   \n",
       "2   3  B000LQOCH0   ABXLMWJIXXAIN  Natalia Corres \"Natalia Corres\"   \n",
       "\n",
       "   HelpfulnessNumerator  HelpfulnessDenominator     Score        Time  \\\n",
       "0                     1                       1  positive  1303862400   \n",
       "1                     0                       0  negative  1346976000   \n",
       "2                     1                       1  positive  1219017600   \n",
       "\n",
       "                 Summary                                               Text  \n",
       "0  Good Quality Dog Food  I have bought several of the Vitality canned d...  \n",
       "1      Not as Advertised  Product arrived labeled as Jumbo Salted Peanut...  \n",
       "2  \"Delight\" says it all  This is a confection that has been around a fe...  "
      ]
     },
     "execution_count": 127,
     "metadata": {},
     "output_type": "execute_result"
    }
   ],
   "source": [
    "# using SQLite Table to read data.\n",
    "con = sqlite3.connect('database.sqlite') \n",
    "\n",
    "# filtering only positive and negative reviews i.e. \n",
    "# not taking into consideration those reviews with Score=3\n",
    "# SELECT * FROM Reviews WHERE Score != 3 LIMIT 500000, will give top 500000 data points\n",
    "# you can change the number to any other number based on your computing power\n",
    "\n",
    "# filtered_data = pd.read_sql_query(\"\"\" SELECT * FROM Reviews WHERE Score != 3 LIMIT 500000\"\"\", con) \n",
    "# for tsne assignment you can take 5k data points\n",
    "\n",
    "filtered_data = pd.read_sql_query(\"\"\" SELECT * FROM Reviews WHERE Score != 3 LIMIT 50000\"\"\", con) \n",
    "\n",
    "# Give reviews with Score>3 a positive rating(1), and reviews with a score<3 a negative rating(0).\n",
    "def partition(x):\n",
    "    if x < 3:\n",
    "        return \"negative\"\n",
    "    return \"positive\"\n",
    "\n",
    "#changing reviews with score less than 3 to be positive and vice-versa\n",
    "actualScore = filtered_data['Score']\n",
    "positiveNegative = actualScore.map(partition) \n",
    "filtered_data['Score'] = positiveNegative\n",
    "print(\"Number of data points in our data\", filtered_data.shape)\n",
    "filtered_data.head(3)"
   ]
  },
  {
   "cell_type": "code",
   "execution_count": 128,
   "metadata": {},
   "outputs": [],
   "source": [
    "display = pd.read_sql_query(\"\"\"\n",
    "SELECT UserId, ProductId, ProfileName, Time, Score, Text, COUNT(*)\n",
    "FROM Reviews\n",
    "GROUP BY UserId\n",
    "HAVING COUNT(*)>1\n",
    "\"\"\", con)"
   ]
  },
  {
   "cell_type": "code",
   "execution_count": 129,
   "metadata": {
    "scrolled": true
   },
   "outputs": [
    {
     "name": "stdout",
     "output_type": "stream",
     "text": [
      "(80668, 7)\n"
     ]
    },
    {
     "data": {
      "text/html": [
       "<div>\n",
       "<style scoped>\n",
       "    .dataframe tbody tr th:only-of-type {\n",
       "        vertical-align: middle;\n",
       "    }\n",
       "\n",
       "    .dataframe tbody tr th {\n",
       "        vertical-align: top;\n",
       "    }\n",
       "\n",
       "    .dataframe thead th {\n",
       "        text-align: right;\n",
       "    }\n",
       "</style>\n",
       "<table border=\"1\" class=\"dataframe\">\n",
       "  <thead>\n",
       "    <tr style=\"text-align: right;\">\n",
       "      <th></th>\n",
       "      <th>UserId</th>\n",
       "      <th>ProductId</th>\n",
       "      <th>ProfileName</th>\n",
       "      <th>Time</th>\n",
       "      <th>Score</th>\n",
       "      <th>Text</th>\n",
       "      <th>COUNT(*)</th>\n",
       "    </tr>\n",
       "  </thead>\n",
       "  <tbody>\n",
       "    <tr>\n",
       "      <th>0</th>\n",
       "      <td>#oc-R115TNMSPFT9I7</td>\n",
       "      <td>B005ZBZLT4</td>\n",
       "      <td>Breyton</td>\n",
       "      <td>1331510400</td>\n",
       "      <td>2</td>\n",
       "      <td>Overall its just OK when considering the price...</td>\n",
       "      <td>2</td>\n",
       "    </tr>\n",
       "    <tr>\n",
       "      <th>1</th>\n",
       "      <td>#oc-R11D9D7SHXIJB9</td>\n",
       "      <td>B005HG9ESG</td>\n",
       "      <td>Louis E. Emory \"hoppy\"</td>\n",
       "      <td>1342396800</td>\n",
       "      <td>5</td>\n",
       "      <td>My wife has recurring extreme muscle spasms, u...</td>\n",
       "      <td>3</td>\n",
       "    </tr>\n",
       "    <tr>\n",
       "      <th>2</th>\n",
       "      <td>#oc-R11DNU2NBKQ23Z</td>\n",
       "      <td>B005ZBZLT4</td>\n",
       "      <td>Kim Cieszykowski</td>\n",
       "      <td>1348531200</td>\n",
       "      <td>1</td>\n",
       "      <td>This coffee is horrible and unfortunately not ...</td>\n",
       "      <td>2</td>\n",
       "    </tr>\n",
       "    <tr>\n",
       "      <th>3</th>\n",
       "      <td>#oc-R11O5J5ZVQE25C</td>\n",
       "      <td>B005HG9ESG</td>\n",
       "      <td>Penguin Chick</td>\n",
       "      <td>1346889600</td>\n",
       "      <td>5</td>\n",
       "      <td>This will be the bottle that you grab from the...</td>\n",
       "      <td>3</td>\n",
       "    </tr>\n",
       "    <tr>\n",
       "      <th>4</th>\n",
       "      <td>#oc-R12KPBODL2B5ZD</td>\n",
       "      <td>B007OSBEV0</td>\n",
       "      <td>Christopher P. Presta</td>\n",
       "      <td>1348617600</td>\n",
       "      <td>1</td>\n",
       "      <td>I didnt like this coffee. Instead of telling y...</td>\n",
       "      <td>2</td>\n",
       "    </tr>\n",
       "  </tbody>\n",
       "</table>\n",
       "</div>"
      ],
      "text/plain": [
       "               UserId   ProductId             ProfileName        Time  Score  \\\n",
       "0  #oc-R115TNMSPFT9I7  B005ZBZLT4                 Breyton  1331510400      2   \n",
       "1  #oc-R11D9D7SHXIJB9  B005HG9ESG  Louis E. Emory \"hoppy\"  1342396800      5   \n",
       "2  #oc-R11DNU2NBKQ23Z  B005ZBZLT4        Kim Cieszykowski  1348531200      1   \n",
       "3  #oc-R11O5J5ZVQE25C  B005HG9ESG           Penguin Chick  1346889600      5   \n",
       "4  #oc-R12KPBODL2B5ZD  B007OSBEV0   Christopher P. Presta  1348617600      1   \n",
       "\n",
       "                                                Text  COUNT(*)  \n",
       "0  Overall its just OK when considering the price...         2  \n",
       "1  My wife has recurring extreme muscle spasms, u...         3  \n",
       "2  This coffee is horrible and unfortunately not ...         2  \n",
       "3  This will be the bottle that you grab from the...         3  \n",
       "4  I didnt like this coffee. Instead of telling y...         2  "
      ]
     },
     "execution_count": 129,
     "metadata": {},
     "output_type": "execute_result"
    }
   ],
   "source": [
    "print(display.shape)\n",
    "display.head()"
   ]
  },
  {
   "cell_type": "code",
   "execution_count": 130,
   "metadata": {},
   "outputs": [
    {
     "data": {
      "text/html": [
       "<div>\n",
       "<style scoped>\n",
       "    .dataframe tbody tr th:only-of-type {\n",
       "        vertical-align: middle;\n",
       "    }\n",
       "\n",
       "    .dataframe tbody tr th {\n",
       "        vertical-align: top;\n",
       "    }\n",
       "\n",
       "    .dataframe thead th {\n",
       "        text-align: right;\n",
       "    }\n",
       "</style>\n",
       "<table border=\"1\" class=\"dataframe\">\n",
       "  <thead>\n",
       "    <tr style=\"text-align: right;\">\n",
       "      <th></th>\n",
       "      <th>UserId</th>\n",
       "      <th>ProductId</th>\n",
       "      <th>ProfileName</th>\n",
       "      <th>Time</th>\n",
       "      <th>Score</th>\n",
       "      <th>Text</th>\n",
       "      <th>COUNT(*)</th>\n",
       "    </tr>\n",
       "  </thead>\n",
       "  <tbody>\n",
       "    <tr>\n",
       "      <th>80638</th>\n",
       "      <td>AZY10LLTJ71NX</td>\n",
       "      <td>B001ATMQK2</td>\n",
       "      <td>undertheshrine \"undertheshrine\"</td>\n",
       "      <td>1296691200</td>\n",
       "      <td>5</td>\n",
       "      <td>I bought this 6 pack because for the price tha...</td>\n",
       "      <td>5</td>\n",
       "    </tr>\n",
       "  </tbody>\n",
       "</table>\n",
       "</div>"
      ],
      "text/plain": [
       "              UserId   ProductId                      ProfileName        Time  \\\n",
       "80638  AZY10LLTJ71NX  B001ATMQK2  undertheshrine \"undertheshrine\"  1296691200   \n",
       "\n",
       "       Score                                               Text  COUNT(*)  \n",
       "80638      5  I bought this 6 pack because for the price tha...         5  "
      ]
     },
     "execution_count": 130,
     "metadata": {},
     "output_type": "execute_result"
    }
   ],
   "source": [
    "display[display['UserId']=='AZY10LLTJ71NX']"
   ]
  },
  {
   "cell_type": "code",
   "execution_count": 131,
   "metadata": {},
   "outputs": [
    {
     "data": {
      "text/plain": [
       "393063"
      ]
     },
     "execution_count": 131,
     "metadata": {},
     "output_type": "execute_result"
    }
   ],
   "source": [
    "display['COUNT(*)'].sum()"
   ]
  },
  {
   "cell_type": "markdown",
   "metadata": {},
   "source": [
    "#  [2] Exploratory Data Analysis"
   ]
  },
  {
   "cell_type": "markdown",
   "metadata": {},
   "source": [
    "## [2.1] Data Cleaning: Deduplication\n",
    "\n",
    "It is observed (as shown in the table below) that the reviews data had many duplicate entries. Hence it was necessary to remove duplicates in order to get unbiased results for the analysis of the data.  Following is an example:"
   ]
  },
  {
   "cell_type": "code",
   "execution_count": 132,
   "metadata": {
    "scrolled": false
   },
   "outputs": [
    {
     "data": {
      "text/html": [
       "<div>\n",
       "<style scoped>\n",
       "    .dataframe tbody tr th:only-of-type {\n",
       "        vertical-align: middle;\n",
       "    }\n",
       "\n",
       "    .dataframe tbody tr th {\n",
       "        vertical-align: top;\n",
       "    }\n",
       "\n",
       "    .dataframe thead th {\n",
       "        text-align: right;\n",
       "    }\n",
       "</style>\n",
       "<table border=\"1\" class=\"dataframe\">\n",
       "  <thead>\n",
       "    <tr style=\"text-align: right;\">\n",
       "      <th></th>\n",
       "      <th>Id</th>\n",
       "      <th>ProductId</th>\n",
       "      <th>UserId</th>\n",
       "      <th>ProfileName</th>\n",
       "      <th>HelpfulnessNumerator</th>\n",
       "      <th>HelpfulnessDenominator</th>\n",
       "      <th>Score</th>\n",
       "      <th>Time</th>\n",
       "      <th>Summary</th>\n",
       "      <th>Text</th>\n",
       "    </tr>\n",
       "  </thead>\n",
       "  <tbody>\n",
       "    <tr>\n",
       "      <th>0</th>\n",
       "      <td>78445</td>\n",
       "      <td>B000HDL1RQ</td>\n",
       "      <td>AR5J8UI46CURR</td>\n",
       "      <td>Geetha Krishnan</td>\n",
       "      <td>2</td>\n",
       "      <td>2</td>\n",
       "      <td>5</td>\n",
       "      <td>1199577600</td>\n",
       "      <td>LOACKER QUADRATINI VANILLA WAFERS</td>\n",
       "      <td>DELICIOUS WAFERS. I FIND THAT EUROPEAN WAFERS ...</td>\n",
       "    </tr>\n",
       "    <tr>\n",
       "      <th>1</th>\n",
       "      <td>138317</td>\n",
       "      <td>B000HDOPYC</td>\n",
       "      <td>AR5J8UI46CURR</td>\n",
       "      <td>Geetha Krishnan</td>\n",
       "      <td>2</td>\n",
       "      <td>2</td>\n",
       "      <td>5</td>\n",
       "      <td>1199577600</td>\n",
       "      <td>LOACKER QUADRATINI VANILLA WAFERS</td>\n",
       "      <td>DELICIOUS WAFERS. I FIND THAT EUROPEAN WAFERS ...</td>\n",
       "    </tr>\n",
       "    <tr>\n",
       "      <th>2</th>\n",
       "      <td>138277</td>\n",
       "      <td>B000HDOPYM</td>\n",
       "      <td>AR5J8UI46CURR</td>\n",
       "      <td>Geetha Krishnan</td>\n",
       "      <td>2</td>\n",
       "      <td>2</td>\n",
       "      <td>5</td>\n",
       "      <td>1199577600</td>\n",
       "      <td>LOACKER QUADRATINI VANILLA WAFERS</td>\n",
       "      <td>DELICIOUS WAFERS. I FIND THAT EUROPEAN WAFERS ...</td>\n",
       "    </tr>\n",
       "    <tr>\n",
       "      <th>3</th>\n",
       "      <td>73791</td>\n",
       "      <td>B000HDOPZG</td>\n",
       "      <td>AR5J8UI46CURR</td>\n",
       "      <td>Geetha Krishnan</td>\n",
       "      <td>2</td>\n",
       "      <td>2</td>\n",
       "      <td>5</td>\n",
       "      <td>1199577600</td>\n",
       "      <td>LOACKER QUADRATINI VANILLA WAFERS</td>\n",
       "      <td>DELICIOUS WAFERS. I FIND THAT EUROPEAN WAFERS ...</td>\n",
       "    </tr>\n",
       "    <tr>\n",
       "      <th>4</th>\n",
       "      <td>155049</td>\n",
       "      <td>B000PAQ75C</td>\n",
       "      <td>AR5J8UI46CURR</td>\n",
       "      <td>Geetha Krishnan</td>\n",
       "      <td>2</td>\n",
       "      <td>2</td>\n",
       "      <td>5</td>\n",
       "      <td>1199577600</td>\n",
       "      <td>LOACKER QUADRATINI VANILLA WAFERS</td>\n",
       "      <td>DELICIOUS WAFERS. I FIND THAT EUROPEAN WAFERS ...</td>\n",
       "    </tr>\n",
       "  </tbody>\n",
       "</table>\n",
       "</div>"
      ],
      "text/plain": [
       "       Id   ProductId         UserId      ProfileName  HelpfulnessNumerator  \\\n",
       "0   78445  B000HDL1RQ  AR5J8UI46CURR  Geetha Krishnan                     2   \n",
       "1  138317  B000HDOPYC  AR5J8UI46CURR  Geetha Krishnan                     2   \n",
       "2  138277  B000HDOPYM  AR5J8UI46CURR  Geetha Krishnan                     2   \n",
       "3   73791  B000HDOPZG  AR5J8UI46CURR  Geetha Krishnan                     2   \n",
       "4  155049  B000PAQ75C  AR5J8UI46CURR  Geetha Krishnan                     2   \n",
       "\n",
       "   HelpfulnessDenominator  Score        Time  \\\n",
       "0                       2      5  1199577600   \n",
       "1                       2      5  1199577600   \n",
       "2                       2      5  1199577600   \n",
       "3                       2      5  1199577600   \n",
       "4                       2      5  1199577600   \n",
       "\n",
       "                             Summary  \\\n",
       "0  LOACKER QUADRATINI VANILLA WAFERS   \n",
       "1  LOACKER QUADRATINI VANILLA WAFERS   \n",
       "2  LOACKER QUADRATINI VANILLA WAFERS   \n",
       "3  LOACKER QUADRATINI VANILLA WAFERS   \n",
       "4  LOACKER QUADRATINI VANILLA WAFERS   \n",
       "\n",
       "                                                Text  \n",
       "0  DELICIOUS WAFERS. I FIND THAT EUROPEAN WAFERS ...  \n",
       "1  DELICIOUS WAFERS. I FIND THAT EUROPEAN WAFERS ...  \n",
       "2  DELICIOUS WAFERS. I FIND THAT EUROPEAN WAFERS ...  \n",
       "3  DELICIOUS WAFERS. I FIND THAT EUROPEAN WAFERS ...  \n",
       "4  DELICIOUS WAFERS. I FIND THAT EUROPEAN WAFERS ...  "
      ]
     },
     "execution_count": 132,
     "metadata": {},
     "output_type": "execute_result"
    }
   ],
   "source": [
    "display= pd.read_sql_query(\"\"\"\n",
    "SELECT *\n",
    "FROM Reviews\n",
    "WHERE Score != 3 AND UserId=\"AR5J8UI46CURR\"\n",
    "ORDER BY ProductID\n",
    "\"\"\", con)\n",
    "display.head()"
   ]
  },
  {
   "cell_type": "markdown",
   "metadata": {},
   "source": [
    "As it can be seen above that same user has multiple reviews with same values for HelpfulnessNumerator, HelpfulnessDenominator, Score, Time, Summary and Text and on doing analysis it was found that <br>\n",
    "<br> \n",
    "ProductId=B000HDOPZG was Loacker Quadratini Vanilla Wafer Cookies, 8.82-Ounce Packages (Pack of 8)<br>\n",
    "<br> \n",
    "ProductId=B000HDL1RQ was Loacker Quadratini Lemon Wafer Cookies, 8.82-Ounce Packages (Pack of 8) and so on<br>\n",
    "\n",
    "It was inferred after analysis that reviews with same parameters other than ProductId belonged to the same product just having different flavour or quantity. Hence in order to reduce redundancy it was decided to eliminate the rows having same parameters.<br>\n",
    "\n",
    "The method used for the same was that we first sort the data according to ProductId and then just keep the first similar product review and delelte the others. for eg. in the above just the review for ProductId=B000HDL1RQ remains. This method ensures that there is only one representative for each product and deduplication without sorting would lead to possibility of different representatives still existing for the same product."
   ]
  },
  {
   "cell_type": "code",
   "execution_count": 133,
   "metadata": {},
   "outputs": [],
   "source": [
    "#Sorting data according to ProductId in ascending order\n",
    "sorted_data=filtered_data.sort_values('ProductId', axis=0, ascending=True, inplace=False, kind='quicksort', na_position='last')"
   ]
  },
  {
   "cell_type": "code",
   "execution_count": 134,
   "metadata": {},
   "outputs": [
    {
     "data": {
      "text/plain": [
       "(46072, 10)"
      ]
     },
     "execution_count": 134,
     "metadata": {},
     "output_type": "execute_result"
    }
   ],
   "source": [
    "#Deduplication of entries\n",
    "final=sorted_data.drop_duplicates(subset={\"UserId\",\"ProfileName\",\"Time\",\"Text\"}, keep='first', inplace=False)\n",
    "final.shape"
   ]
  },
  {
   "cell_type": "code",
   "execution_count": 135,
   "metadata": {},
   "outputs": [
    {
     "data": {
      "text/plain": [
       "92.144"
      ]
     },
     "execution_count": 135,
     "metadata": {},
     "output_type": "execute_result"
    }
   ],
   "source": [
    "#Checking to see how much % of data still remains\n",
    "(final['Id'].size*1.0)/(filtered_data['Id'].size*1.0)*100"
   ]
  },
  {
   "cell_type": "markdown",
   "metadata": {},
   "source": [
    "<b>Observation:-</b> It was also seen that in two rows given below the value of HelpfulnessNumerator is greater than HelpfulnessDenominator which is not practically possible hence these two rows too are removed from calcualtions"
   ]
  },
  {
   "cell_type": "code",
   "execution_count": 136,
   "metadata": {},
   "outputs": [
    {
     "data": {
      "text/html": [
       "<div>\n",
       "<style scoped>\n",
       "    .dataframe tbody tr th:only-of-type {\n",
       "        vertical-align: middle;\n",
       "    }\n",
       "\n",
       "    .dataframe tbody tr th {\n",
       "        vertical-align: top;\n",
       "    }\n",
       "\n",
       "    .dataframe thead th {\n",
       "        text-align: right;\n",
       "    }\n",
       "</style>\n",
       "<table border=\"1\" class=\"dataframe\">\n",
       "  <thead>\n",
       "    <tr style=\"text-align: right;\">\n",
       "      <th></th>\n",
       "      <th>Id</th>\n",
       "      <th>ProductId</th>\n",
       "      <th>UserId</th>\n",
       "      <th>ProfileName</th>\n",
       "      <th>HelpfulnessNumerator</th>\n",
       "      <th>HelpfulnessDenominator</th>\n",
       "      <th>Score</th>\n",
       "      <th>Time</th>\n",
       "      <th>Summary</th>\n",
       "      <th>Text</th>\n",
       "    </tr>\n",
       "  </thead>\n",
       "  <tbody>\n",
       "    <tr>\n",
       "      <th>0</th>\n",
       "      <td>64422</td>\n",
       "      <td>B000MIDROQ</td>\n",
       "      <td>A161DK06JJMCYF</td>\n",
       "      <td>J. E. Stephens \"Jeanne\"</td>\n",
       "      <td>3</td>\n",
       "      <td>1</td>\n",
       "      <td>5</td>\n",
       "      <td>1224892800</td>\n",
       "      <td>Bought This for My Son at College</td>\n",
       "      <td>My son loves spaghetti so I didn't hesitate or...</td>\n",
       "    </tr>\n",
       "    <tr>\n",
       "      <th>1</th>\n",
       "      <td>44737</td>\n",
       "      <td>B001EQ55RW</td>\n",
       "      <td>A2V0I904FH7ABY</td>\n",
       "      <td>Ram</td>\n",
       "      <td>3</td>\n",
       "      <td>2</td>\n",
       "      <td>4</td>\n",
       "      <td>1212883200</td>\n",
       "      <td>Pure cocoa taste with crunchy almonds inside</td>\n",
       "      <td>It was almost a 'love at first bite' - the per...</td>\n",
       "    </tr>\n",
       "  </tbody>\n",
       "</table>\n",
       "</div>"
      ],
      "text/plain": [
       "      Id   ProductId          UserId              ProfileName  \\\n",
       "0  64422  B000MIDROQ  A161DK06JJMCYF  J. E. Stephens \"Jeanne\"   \n",
       "1  44737  B001EQ55RW  A2V0I904FH7ABY                      Ram   \n",
       "\n",
       "   HelpfulnessNumerator  HelpfulnessDenominator  Score        Time  \\\n",
       "0                     3                       1      5  1224892800   \n",
       "1                     3                       2      4  1212883200   \n",
       "\n",
       "                                        Summary  \\\n",
       "0             Bought This for My Son at College   \n",
       "1  Pure cocoa taste with crunchy almonds inside   \n",
       "\n",
       "                                                Text  \n",
       "0  My son loves spaghetti so I didn't hesitate or...  \n",
       "1  It was almost a 'love at first bite' - the per...  "
      ]
     },
     "execution_count": 136,
     "metadata": {},
     "output_type": "execute_result"
    }
   ],
   "source": [
    "display= pd.read_sql_query(\"\"\"\n",
    "SELECT *\n",
    "FROM Reviews\n",
    "WHERE Score != 3 AND Id=44737 OR Id=64422\n",
    "ORDER BY ProductID\n",
    "\"\"\", con)\n",
    "\n",
    "display.head()"
   ]
  },
  {
   "cell_type": "code",
   "execution_count": 137,
   "metadata": {},
   "outputs": [],
   "source": [
    "final=final[final.HelpfulnessNumerator<=final.HelpfulnessDenominator]"
   ]
  },
  {
   "cell_type": "code",
   "execution_count": 138,
   "metadata": {},
   "outputs": [
    {
     "name": "stdout",
     "output_type": "stream",
     "text": [
      "(46071, 10)\n"
     ]
    },
    {
     "data": {
      "text/plain": [
       "positive    38479\n",
       "negative     7592\n",
       "Name: Score, dtype: int64"
      ]
     },
     "execution_count": 138,
     "metadata": {},
     "output_type": "execute_result"
    }
   ],
   "source": [
    "#Before starting the next phase of preprocessing lets see the number of entries left\n",
    "print(final.shape)\n",
    "\n",
    "#How many positive and negative reviews are present in our dataset?\n",
    "final['Score'].value_counts()"
   ]
  },
  {
   "cell_type": "markdown",
   "metadata": {},
   "source": [
    "#  [3] Preprocessing"
   ]
  },
  {
   "cell_type": "markdown",
   "metadata": {},
   "source": [
    "## [3.1].  Preprocessing Review Text\n",
    "\n",
    "Now that we have finished deduplication our data requires some preprocessing before we go on further with analysis and making the prediction model.\n",
    "\n",
    "Hence in the Preprocessing phase we do the following in the order below:-\n",
    "\n",
    "1. Begin by removing the html tags\n",
    "2. Remove any punctuations or limited set of special characters like , or . or # etc.\n",
    "3. Check if the word is made up of english letters and is not alpha-numeric\n",
    "4. Check to see if the length of the word is greater than 2 (as it was researched that there is no adjective in 2-letters)\n",
    "5. Convert the word to lowercase\n",
    "6. Remove Stopwords\n",
    "7. Finally Snowball Stemming the word (it was obsereved to be better than Porter Stemming)<br>\n",
    "\n",
    "After which we collect the words used to describe positive and negative reviews"
   ]
  },
  {
   "cell_type": "code",
   "execution_count": 139,
   "metadata": {},
   "outputs": [
    {
     "name": "stdout",
     "output_type": "stream",
     "text": [
      "My dogs loves this chicken but its a product from China, so we wont be buying it anymore.  Its very hard to find any chicken products made in the USA but they are out there, but this one isnt.  Its too bad too because its a good product but I wont take any chances till they know what is going on with the china imports.\n",
      "==================================================\n",
      "this is yummy, easy and unusual. it makes a quick, delicous pie, crisp or cobbler. home made is better, but a heck of a lot more work. this is great to have on hand for last minute dessert needs where you really want to impress wih your creativity in cooking! recommended.\n",
      "==================================================\n",
      "Great flavor, low in calories, high in nutrients, high in protein! Usually protein powders are high priced and high in calories, this one is a great bargain and tastes great, I highly recommend for the lady gym rats, probably not \"macho\" enough for guys since it is soy based...\n",
      "==================================================\n",
      "For those of you wanting a high-quality, yet affordable green tea, you should definitely give this one a try. Let me first start by saying that everyone is looking for something different for their ideal tea, and I will attempt to briefly highlight what makes this tea attractive to a wide range of tea drinkers (whether you are a beginner or long-time tea enthusiast).  I have gone through over 12 boxes of this tea myself, and highly recommend it for the following reasons:<br /><br />-Quality:  First, this tea offers a smooth quality without any harsh or bitter after tones, which often turns people off from many green teas.  I've found my ideal brewing time to be between 3-5 minutes, giving you a light but flavorful cup of tea.  However, if you get distracted or forget about your tea and leave it brewing for 20+ minutes like I sometimes do, the quality of this tea is such that you still get a smooth but deeper flavor without the bad after taste.  The leaves themselves are whole leaves (not powdered stems, branches, etc commonly found in other brands), and the high-quality nylon bags also include chunks of tropical fruit and other discernible ingredients.  This isn't your standard cheap paper bag with a mix of unknown ingredients that have been ground down to a fine powder, leaving you to wonder what it is you are actually drinking.<br /><br />-Taste:  This tea offers notes of real pineapple and other hints of tropical fruits, yet isn't sweet or artificially flavored.  You have the foundation of a high-quality young hyson green tea for those true \"tea flavor\" lovers, yet the subtle hints of fruit make this a truly unique tea that I believe most will enjoy.  If you want it sweet, you can add sugar, splenda, etc but this really is not necessary as this tea offers an inherent warmth of flavor through it's ingredients.<br /><br />-Price:  This tea offers an excellent product at an exceptional price (especially when purchased at the prices Amazon offers).  Compared to other brands which I believe to be of similar quality (Mighty Leaf, Rishi, Two Leaves, etc.), Revolution offers a superior product at an outstanding price.  I have been purchasing this through Amazon for less per box than I would be paying at my local grocery store for Lipton, etc.<br /><br />Overall, this is a wonderful tea that is comparable, and even better than, other teas that are priced much higher.  It offers a well-balanced cup of green tea that I believe many will enjoy.  In terms of taste, quality, and price, I would argue you won't find a better combination that that offered by Revolution's Tropical Green Tea.\n",
      "==================================================\n"
     ]
    }
   ],
   "source": [
    "# printing some random reviews\n",
    "sent_0 = final['Text'].values[0]\n",
    "print(sent_0)\n",
    "print(\"=\"*50)\n",
    "\n",
    "sent_1000 = final['Text'].values[1000]\n",
    "print(sent_1000)\n",
    "print(\"=\"*50)\n",
    "\n",
    "sent_1500 = final['Text'].values[1500]\n",
    "print(sent_1500)\n",
    "print(\"=\"*50)\n",
    "\n",
    "sent_4900 = final['Text'].values[4900]\n",
    "print(sent_4900)\n",
    "print(\"=\"*50)"
   ]
  },
  {
   "cell_type": "code",
   "execution_count": 140,
   "metadata": {},
   "outputs": [
    {
     "name": "stdout",
     "output_type": "stream",
     "text": [
      "My dogs loves this chicken but its a product from China, so we wont be buying it anymore.  Its very hard to find any chicken products made in the USA but they are out there, but this one isnt.  Its too bad too because its a good product but I wont take any chances till they know what is going on with the china imports.\n"
     ]
    }
   ],
   "source": [
    "# remove urls from text python: https://stackoverflow.com/a/40823105/4084039\n",
    "sent_0 = re.sub(r\"http\\S+\", \"\", sent_0)\n",
    "sent_1000 = re.sub(r\"http\\S+\", \"\", sent_1000)\n",
    "sent_150 = re.sub(r\"http\\S+\", \"\", sent_1500)\n",
    "sent_4900 = re.sub(r\"http\\S+\", \"\", sent_4900)\n",
    "\n",
    "print(sent_0)"
   ]
  },
  {
   "cell_type": "code",
   "execution_count": 141,
   "metadata": {},
   "outputs": [
    {
     "name": "stdout",
     "output_type": "stream",
     "text": [
      "My dogs loves this chicken but its a product from China, so we wont be buying it anymore.  Its very hard to find any chicken products made in the USA but they are out there, but this one isnt.  Its too bad too because its a good product but I wont take any chances till they know what is going on with the china imports.\n",
      "==================================================\n",
      "this is yummy, easy and unusual. it makes a quick, delicous pie, crisp or cobbler. home made is better, but a heck of a lot more work. this is great to have on hand for last minute dessert needs where you really want to impress wih your creativity in cooking! recommended.\n",
      "==================================================\n",
      "Great flavor, low in calories, high in nutrients, high in protein! Usually protein powders are high priced and high in calories, this one is a great bargain and tastes great, I highly recommend for the lady gym rats, probably not \"macho\" enough for guys since it is soy based...\n",
      "==================================================\n",
      "For those of you wanting a high-quality, yet affordable green tea, you should definitely give this one a try. Let me first start by saying that everyone is looking for something different for their ideal tea, and I will attempt to briefly highlight what makes this tea attractive to a wide range of tea drinkers (whether you are a beginner or long-time tea enthusiast).  I have gone through over 12 boxes of this tea myself, and highly recommend it for the following reasons:-Quality:  First, this tea offers a smooth quality without any harsh or bitter after tones, which often turns people off from many green teas.  I've found my ideal brewing time to be between 3-5 minutes, giving you a light but flavorful cup of tea.  However, if you get distracted or forget about your tea and leave it brewing for 20+ minutes like I sometimes do, the quality of this tea is such that you still get a smooth but deeper flavor without the bad after taste.  The leaves themselves are whole leaves (not powdered stems, branches, etc commonly found in other brands), and the high-quality nylon bags also include chunks of tropical fruit and other discernible ingredients.  This isn't your standard cheap paper bag with a mix of unknown ingredients that have been ground down to a fine powder, leaving you to wonder what it is you are actually drinking.-Taste:  This tea offers notes of real pineapple and other hints of tropical fruits, yet isn't sweet or artificially flavored.  You have the foundation of a high-quality young hyson green tea for those true \"tea flavor\" lovers, yet the subtle hints of fruit make this a truly unique tea that I believe most will enjoy.  If you want it sweet, you can add sugar, splenda, etc but this really is not necessary as this tea offers an inherent warmth of flavor through it's ingredients.-Price:  This tea offers an excellent product at an exceptional price (especially when purchased at the prices Amazon offers).  Compared to other brands which I believe to be of similar quality (Mighty Leaf, Rishi, Two Leaves, etc.), Revolution offers a superior product at an outstanding price.  I have been purchasing this through Amazon for less per box than I would be paying at my local grocery store for Lipton, etc.Overall, this is a wonderful tea that is comparable, and even better than, other teas that are priced much higher.  It offers a well-balanced cup of green tea that I believe many will enjoy.  In terms of taste, quality, and price, I would argue you won't find a better combination that that offered by Revolution's Tropical Green Tea.\n"
     ]
    }
   ],
   "source": [
    "# https://stackoverflow.com/questions/16206380/python-beautifulsoup-how-to-remove-all-tags-from-an-element\n",
    "from bs4 import BeautifulSoup\n",
    "\n",
    "soup = BeautifulSoup(sent_0, 'lxml')\n",
    "text = soup.get_text()\n",
    "print(text)\n",
    "print(\"=\"*50)\n",
    "\n",
    "soup = BeautifulSoup(sent_1000, 'lxml')\n",
    "text = soup.get_text()\n",
    "print(text)\n",
    "print(\"=\"*50)\n",
    "\n",
    "soup = BeautifulSoup(sent_1500, 'lxml')\n",
    "text = soup.get_text()\n",
    "print(text)\n",
    "print(\"=\"*50)\n",
    "\n",
    "soup = BeautifulSoup(sent_4900, 'lxml')\n",
    "text = soup.get_text()\n",
    "print(text)"
   ]
  },
  {
   "cell_type": "code",
   "execution_count": 142,
   "metadata": {},
   "outputs": [],
   "source": [
    "# https://stackoverflow.com/a/47091490/4084039\n",
    "import re\n",
    "\n",
    "def decontracted(phrase):\n",
    "    # specific\n",
    "    phrase = re.sub(r\"won't\", \"will not\", phrase)\n",
    "    phrase = re.sub(r\"can\\'t\", \"can not\", phrase)\n",
    "\n",
    "    # general\n",
    "    phrase = re.sub(r\"n\\'t\", \" not\", phrase)\n",
    "    phrase = re.sub(r\"\\'re\", \" are\", phrase)\n",
    "    phrase = re.sub(r\"\\'s\", \" is\", phrase)\n",
    "    phrase = re.sub(r\"\\'d\", \" would\", phrase)\n",
    "    phrase = re.sub(r\"\\'ll\", \" will\", phrase)\n",
    "    phrase = re.sub(r\"\\'t\", \" not\", phrase)\n",
    "    phrase = re.sub(r\"\\'ve\", \" have\", phrase)\n",
    "    phrase = re.sub(r\"\\'m\", \" am\", phrase)\n",
    "    return phrase"
   ]
  },
  {
   "cell_type": "code",
   "execution_count": 143,
   "metadata": {},
   "outputs": [
    {
     "name": "stdout",
     "output_type": "stream",
     "text": [
      "Great flavor, low in calories, high in nutrients, high in protein! Usually protein powders are high priced and high in calories, this one is a great bargain and tastes great, I highly recommend for the lady gym rats, probably not \"macho\" enough for guys since it is soy based...\n",
      "==================================================\n"
     ]
    }
   ],
   "source": [
    "sent_1500 = decontracted(sent_1500)\n",
    "print(sent_1500)\n",
    "print(\"=\"*50)"
   ]
  },
  {
   "cell_type": "code",
   "execution_count": 144,
   "metadata": {},
   "outputs": [
    {
     "name": "stdout",
     "output_type": "stream",
     "text": [
      "My dogs loves this chicken but its a product from China, so we wont be buying it anymore.  Its very hard to find any chicken products made in the USA but they are out there, but this one isnt.  Its too bad too because its a good product but I wont take any chances till they know what is going on with the china imports.\n"
     ]
    }
   ],
   "source": [
    "#remove words with numbers python: https://stackoverflow.com/a/18082370/4084039\n",
    "sent_0 = re.sub(\"\\S*\\d\\S*\", \"\", sent_0).strip()\n",
    "print(sent_0)"
   ]
  },
  {
   "cell_type": "code",
   "execution_count": 145,
   "metadata": {},
   "outputs": [
    {
     "name": "stdout",
     "output_type": "stream",
     "text": [
      "Great flavor low in calories high in nutrients high in protein Usually protein powders are high priced and high in calories this one is a great bargain and tastes great I highly recommend for the lady gym rats probably not macho enough for guys since it is soy based \n"
     ]
    }
   ],
   "source": [
    "#remove spacial character: https://stackoverflow.com/a/5843547/4084039\n",
    "sent_1500 = re.sub('[^A-Za-z0-9]+', ' ', sent_1500)\n",
    "print(sent_1500)"
   ]
  },
  {
   "cell_type": "code",
   "execution_count": 146,
   "metadata": {},
   "outputs": [],
   "source": [
    "# https://gist.github.com/sebleier/554280\n",
    "# we are removing the words from the stop words list: 'no', 'nor', 'not'\n",
    "# <br /><br /> ==> after the above steps, we are getting \"br br\"\n",
    "# we are including them into stop words list\n",
    "# instead of <br /> if we have <br/> these tags would have revmoved in the 1st step\n",
    "\n",
    "stopwords= set(['br', 'the', 'i', 'me', 'my', 'myself', 'we', 'our', 'ours', 'ourselves', 'you', \"you're\", \"you've\",\\\n",
    "            \"you'll\", \"you'd\", 'your', 'yours', 'yourself', 'yourselves', 'he', 'him', 'his', 'himself', \\\n",
    "            'she', \"she's\", 'her', 'hers', 'herself', 'it', \"it's\", 'its', 'itself', 'they', 'them', 'their',\\\n",
    "            'theirs', 'themselves', 'what', 'which', 'who', 'whom', 'this', 'that', \"that'll\", 'these', 'those', \\\n",
    "            'am', 'is', 'are', 'was', 'were', 'be', 'been', 'being', 'have', 'has', 'had', 'having', 'do', 'does', \\\n",
    "            'did', 'doing', 'a', 'an', 'the', 'and', 'but', 'if', 'or', 'because', 'as', 'until', 'while', 'of', \\\n",
    "            'at', 'by', 'for', 'with', 'about', 'against', 'between', 'into', 'through', 'during', 'before', 'after',\\\n",
    "            'above', 'below', 'to', 'from', 'up', 'down', 'in', 'out', 'on', 'off', 'over', 'under', 'again', 'further',\\\n",
    "            'then', 'once', 'here', 'there', 'when', 'where', 'why', 'how', 'all', 'any', 'both', 'each', 'few', 'more',\\\n",
    "            'most', 'other', 'some', 'such', 'only', 'own', 'same', 'so', 'than', 'too', 'very', \\\n",
    "            's', 't', 'can', 'will', 'just', 'don', \"don't\", 'should', \"should've\", 'now', 'd', 'll', 'm', 'o', 're', \\\n",
    "            've', 'y', 'ain', 'aren', \"aren't\", 'couldn', \"couldn't\", 'didn', \"didn't\", 'doesn', \"doesn't\", 'hadn',\\\n",
    "            \"hadn't\", 'hasn', \"hasn't\", 'haven', \"haven't\", 'isn', \"isn't\", 'ma', 'mightn', \"mightn't\", 'mustn',\\\n",
    "            \"mustn't\", 'needn', \"needn't\", 'shan', \"shan't\", 'shouldn', \"shouldn't\", 'wasn', \"wasn't\", 'weren', \"weren't\", \\\n",
    "            'won', \"won't\", 'wouldn', \"wouldn't\"])"
   ]
  },
  {
   "cell_type": "code",
   "execution_count": 147,
   "metadata": {},
   "outputs": [
    {
     "name": "stderr",
     "output_type": "stream",
     "text": [
      "100%|██████████████████████████████████████████████████████████████████████████| 46071/46071 [00:32<00:00, 1437.20it/s]\n"
     ]
    }
   ],
   "source": [
    "# Combining all the above stundents \n",
    "from tqdm import tqdm\n",
    "preprocessed_reviews = []\n",
    "# tqdm is for printing the status bar\n",
    "for sentance in tqdm(final['Text'].values):\n",
    "    sentance = re.sub(r\"http\\S+\", \"\", sentance)\n",
    "    sentance = BeautifulSoup(sentance, 'lxml').get_text()\n",
    "    sentance = decontracted(sentance)\n",
    "    sentance = re.sub(\"\\S*\\d\\S*\", \"\", sentance).strip()\n",
    "    sentance = re.sub('[^A-Za-z]+', ' ', sentance)\n",
    "    # https://gist.github.com/sebleier/554280\n",
    "    sentance = ' '.join(e.lower() for e in sentance.split() if e.lower() not in stopwords)\n",
    "    preprocessed_reviews.append(sentance.strip())"
   ]
  },
  {
   "cell_type": "code",
   "execution_count": 148,
   "metadata": {},
   "outputs": [
    {
     "data": {
      "text/plain": [
       "'great flavor low calories high nutrients high protein usually protein powders high priced high calories one great bargain tastes great highly recommend lady gym rats probably not macho enough guys since soy based'"
      ]
     },
     "execution_count": 148,
     "metadata": {},
     "output_type": "execute_result"
    }
   ],
   "source": [
    "preprocessed_reviews[1500]"
   ]
  },
  {
   "cell_type": "markdown",
   "metadata": {},
   "source": [
    "<h2><font color='red'>[3.2] Preprocessing Review Summary</font></h2>"
   ]
  },
  {
   "cell_type": "code",
   "execution_count": 24,
   "metadata": {},
   "outputs": [],
   "source": [
    "## Similartly you can do preprocessing for review summary also."
   ]
  },
  {
   "cell_type": "markdown",
   "metadata": {},
   "source": [
    "# [4] Featurization"
   ]
  },
  {
   "cell_type": "markdown",
   "metadata": {},
   "source": [
    "## [4.1] BAG OF WORDS"
   ]
  },
  {
   "cell_type": "code",
   "execution_count": 25,
   "metadata": {},
   "outputs": [
    {
     "name": "stdout",
     "output_type": "stream",
     "text": [
      "some feature names  ['aa', 'aaa', 'aaaa', 'aaaaa', 'aaaaaaaaaaaa', 'aaaand', 'aaah', 'aadp', 'aafco', 'aah']\n",
      "==================================================\n",
      "the type of count vectorizer  <class 'scipy.sparse.csr.csr_matrix'>\n",
      "the shape of out text BOW vectorizer  (28072, 30623)\n",
      "the number of unique words  30623\n"
     ]
    }
   ],
   "source": [
    "#BoW\n",
    "count_vect = CountVectorizer() #in scikit-learn\n",
    "count_vect.fit(preprocessed_reviews)\n",
    "print(\"some feature names \", count_vect.get_feature_names()[:10])\n",
    "print('='*50)\n",
    "\n",
    "final_counts = count_vect.transform(preprocessed_reviews)\n",
    "print(\"the type of count vectorizer \",type(final_counts))\n",
    "print(\"the shape of out text BOW vectorizer \",final_counts.get_shape())\n",
    "print(\"the number of unique words \", final_counts.get_shape()[1])"
   ]
  },
  {
   "cell_type": "markdown",
   "metadata": {},
   "source": [
    "## [4.2] Bi-Grams and n-Grams."
   ]
  },
  {
   "cell_type": "code",
   "execution_count": 26,
   "metadata": {},
   "outputs": [
    {
     "name": "stdout",
     "output_type": "stream",
     "text": [
      "the type of count vectorizer  <class 'scipy.sparse.csr.csr_matrix'>\n",
      "the shape of out text BOW vectorizer  (28072, 5000)\n",
      "the number of unique words including both unigrams and bigrams  5000\n"
     ]
    }
   ],
   "source": [
    "#bi-gram, tri-gram and n-gram\n",
    "\n",
    "#removing stop words like \"not\" should be avoided before building n-grams\n",
    "# count_vect = CountVectorizer(ngram_range=(1,2))\n",
    "# please do read the CountVectorizer documentation http://scikit-learn.org/stable/modules/generated/sklearn.feature_extraction.text.CountVectorizer.html\n",
    "\n",
    "# you can choose these numebrs min_df=10, max_features=5000, of your choice\n",
    "count_vect = CountVectorizer(ngram_range=(1,2), min_df=10, max_features=5000)\n",
    "final_bigram_counts = count_vect.fit_transform(preprocessed_reviews)\n",
    "print(\"the type of count vectorizer \",type(final_bigram_counts))\n",
    "print(\"the shape of out text BOW vectorizer \",final_bigram_counts.get_shape())\n",
    "print(\"the number of unique words including both unigrams and bigrams \", final_bigram_counts.get_shape()[1])"
   ]
  },
  {
   "cell_type": "markdown",
   "metadata": {},
   "source": [
    "## [4.3] TF-IDF"
   ]
  },
  {
   "cell_type": "code",
   "execution_count": 27,
   "metadata": {},
   "outputs": [
    {
     "name": "stdout",
     "output_type": "stream",
     "text": [
      "some sample features(unique words in the corpus) ['ability', 'able', 'able buy', 'able drink', 'able eat', 'able enjoy', 'able find', 'able get', 'able give', 'able make']\n",
      "==================================================\n",
      "the type of count vectorizer  <class 'scipy.sparse.csr.csr_matrix'>\n",
      "the shape of out text TFIDF vectorizer  (28072, 16784)\n",
      "the number of unique words including both unigrams and bigrams  16784\n"
     ]
    }
   ],
   "source": [
    "tf_idf_vect = TfidfVectorizer(ngram_range=(1,2), min_df=10)\n",
    "tf_idf_vect.fit(preprocessed_reviews)\n",
    "print(\"some sample features(unique words in the corpus)\",tf_idf_vect.get_feature_names()[0:10])\n",
    "print('='*50)\n",
    "\n",
    "final_tf_idf = tf_idf_vect.transform(preprocessed_reviews)\n",
    "print(\"the type of count vectorizer \",type(final_tf_idf))\n",
    "print(\"the shape of out text TFIDF vectorizer \",final_tf_idf.get_shape())\n",
    "print(\"the number of unique words including both unigrams and bigrams \", final_tf_idf.get_shape()[1])"
   ]
  },
  {
   "cell_type": "markdown",
   "metadata": {},
   "source": [
    "## [4.4] Word2Vec"
   ]
  },
  {
   "cell_type": "code",
   "execution_count": 28,
   "metadata": {},
   "outputs": [],
   "source": [
    "# Train your own Word2Vec model using your own text corpus\n",
    "i=0\n",
    "list_of_sentance=[]\n",
    "for sentance in preprocessed_reviews:\n",
    "    list_of_sentance.append(sentance.split())"
   ]
  },
  {
   "cell_type": "code",
   "execution_count": 29,
   "metadata": {
    "scrolled": true
   },
   "outputs": [
    {
     "name": "stdout",
     "output_type": "stream",
     "text": [
      "[('fantastic', 0.8358782529830933), ('awesome', 0.8203850984573364), ('excellent', 0.8134142160415649), ('good', 0.802933394908905), ('amazing', 0.79323810338974), ('wonderful', 0.7697443962097168), ('decent', 0.7353018522262573), ('perfect', 0.7223644256591797), ('terrific', 0.7184598445892334), ('fabulous', 0.6683868169784546)]\n",
      "==================================================\n",
      "[('best', 0.7634663581848145), ('closest', 0.7543458938598633), ('tastiest', 0.7255289554595947), ('greatest', 0.710338830947876), ('awful', 0.6774196028709412), ('ever', 0.6675983667373657), ('world', 0.6531360149383545), ('tasted', 0.6489773988723755), ('eaten', 0.6462610363960266), ('terrible', 0.6456573009490967)]\n"
     ]
    }
   ],
   "source": [
    "# Using Google News Word2Vectors\n",
    "\n",
    "# in this project we are using a pretrained model by google\n",
    "# its 3.3G file, once you load this into your memory \n",
    "# it occupies ~9Gb, so please do this step only if you have >12G of ram\n",
    "# we will provide a pickle file wich contains a dict , \n",
    "# and it contains all our courpus words as keys and  model[word] as values\n",
    "# To use this code-snippet, download \"GoogleNews-vectors-negative300.bin\" \n",
    "# from https://drive.google.com/file/d/0B7XkCwpI5KDYNlNUTTlSS21pQmM/edit\n",
    "# it's 1.9GB in size.\n",
    "\n",
    "\n",
    "# http://kavita-ganesan.com/gensim-word2vec-tutorial-starter-code/#.W17SRFAzZPY\n",
    "# you can comment this whole cell\n",
    "# or change these varible according to your need\n",
    "\n",
    "is_your_ram_gt_16g=False\n",
    "want_to_use_google_w2v = False\n",
    "want_to_train_w2v = True\n",
    "\n",
    "if want_to_train_w2v:\n",
    "    # min_count = 5 considers only words that occured atleast 5 times\n",
    "    w2v_model=Word2Vec(list_of_sentance,min_count=5,size=50, workers=4)\n",
    "    print(w2v_model.wv.most_similar('great'))\n",
    "    print('='*50)\n",
    "    print(w2v_model.wv.most_similar('worst'))\n",
    "    \n",
    "elif want_to_use_google_w2v and is_your_ram_gt_16g:\n",
    "    if os.path.isfile('GoogleNews-vectors-negative300.bin'):\n",
    "        w2v_model=KeyedVectors.load_word2vec_format('GoogleNews-vectors-negative300.bin', binary=True)\n",
    "        print(w2v_model.wv.most_similar('great'))\n",
    "        print(w2v_model.wv.most_similar('worst'))\n",
    "    else:\n",
    "        print(\"you don't have gogole's word2vec file, keep want_to_train_w2v = True, to train your own w2v \")"
   ]
  },
  {
   "cell_type": "code",
   "execution_count": 30,
   "metadata": {},
   "outputs": [
    {
     "name": "stdout",
     "output_type": "stream",
     "text": [
      "number of words that occured minimum 5 times  9965\n",
      "sample words  ['dogs', 'love', 'saw', 'pet', 'store', 'tag', 'attached', 'regarding', 'made', 'china', 'satisfied', 'safe', 'loves', 'chicken', 'product', 'wont', 'buying', 'anymore', 'hard', 'find', 'products', 'usa', 'one', 'isnt', 'bad', 'good', 'take', 'chances', 'till', 'know', 'going', 'imports', 'available', 'traps', 'unreal', 'course', 'total', 'fly', 'pretty', 'stinky', 'right', 'nearby', 'used', 'bait', 'seasons', 'ca', 'not', 'beat', 'great', 'received']\n"
     ]
    }
   ],
   "source": [
    "w2v_words = list(w2v_model.wv.vocab)\n",
    "print(\"number of words that occured minimum 5 times \",len(w2v_words))\n",
    "print(\"sample words \", w2v_words[0:50])"
   ]
  },
  {
   "cell_type": "markdown",
   "metadata": {},
   "source": [
    "## [4.4.1] Converting text into vectors using Avg W2V, TFIDF-W2V"
   ]
  },
  {
   "cell_type": "markdown",
   "metadata": {},
   "source": [
    "#### [4.4.1.1] Avg W2v"
   ]
  },
  {
   "cell_type": "code",
   "execution_count": 31,
   "metadata": {},
   "outputs": [
    {
     "name": "stderr",
     "output_type": "stream",
     "text": [
      "100%|███████████████████████████████████████████████████████████████████████████| 28072/28072 [00:50<00:00, 550.80it/s]\n"
     ]
    },
    {
     "name": "stdout",
     "output_type": "stream",
     "text": [
      "28072\n",
      "50\n"
     ]
    }
   ],
   "source": [
    "# average Word2Vec\n",
    "# compute average word2vec for each review.\n",
    "sent_vectors = []; # the avg-w2v for each sentence/review is stored in this list\n",
    "for sent in tqdm(list_of_sentance): # for each review/sentence\n",
    "    sent_vec = np.zeros(50) # as word vectors are of zero length 50, you might need to change this to 300 if you use google's w2v\n",
    "    cnt_words =0; # num of words with a valid vector in the sentence/review\n",
    "    for word in sent: # for each word in a review/sentence\n",
    "        if word in w2v_words:\n",
    "            vec = w2v_model.wv[word]\n",
    "            sent_vec += vec\n",
    "            cnt_words += 1\n",
    "    if cnt_words != 0:\n",
    "        sent_vec /= cnt_words\n",
    "    sent_vectors.append(sent_vec)\n",
    "print(len(sent_vectors))\n",
    "print(len(sent_vectors[0]))"
   ]
  },
  {
   "cell_type": "markdown",
   "metadata": {},
   "source": [
    "#### [4.4.1.2] TFIDF weighted W2v"
   ]
  },
  {
   "cell_type": "code",
   "execution_count": 32,
   "metadata": {},
   "outputs": [],
   "source": [
    "# S = [\"abc def pqr\", \"def def def abc\", \"pqr pqr def\"]\n",
    "model = TfidfVectorizer()\n",
    "tf_idf_matrix = model.fit_transform(preprocessed_reviews)\n",
    "# we are converting a dictionary with word as a key, and the idf as a value\n",
    "dictionary = dict(zip(model.get_feature_names(), list(model.idf_)))"
   ]
  },
  {
   "cell_type": "code",
   "execution_count": 33,
   "metadata": {
    "scrolled": true
   },
   "outputs": [
    {
     "name": "stderr",
     "output_type": "stream",
     "text": [
      "100%|████████████████████████████████████████████████████████████████████████████| 28072/28072 [08:34<00:00, 54.61it/s]\n"
     ]
    }
   ],
   "source": [
    "# TF-IDF weighted Word2Vec\n",
    "tfidf_feat = model.get_feature_names() # tfidf words/col-names\n",
    "# final_tf_idf is the sparse matrix with row= sentence, col=word and cell_val = tfidf\n",
    "\n",
    "tfidf_sent_vectors = []; # the tfidf-w2v for each sentence/review is stored in this list\n",
    "row=0;\n",
    "for sent in tqdm(list_of_sentance): # for each review/sentence \n",
    "    sent_vec = np.zeros(50) # as word vectors are of zero length\n",
    "    weight_sum =0; # num of words with a valid vector in the sentence/review\n",
    "    for word in sent: # for each word in a review/sentence\n",
    "        if word in w2v_words and word in tfidf_feat:\n",
    "            vec = w2v_model.wv[word]\n",
    "#             tf_idf = tf_idf_matrix[row, tfidf_feat.index(word)]\n",
    "            # to reduce the computation we are \n",
    "            # dictionary[word] = idf value of word in whole courpus\n",
    "            # sent.count(word) = tf valeus of word in this review\n",
    "            tf_idf = dictionary[word]*(sent.count(word)/len(sent))\n",
    "            sent_vec += (vec * tf_idf)\n",
    "            weight_sum += tf_idf\n",
    "    if weight_sum != 0:\n",
    "        sent_vec /= weight_sum\n",
    "    tfidf_sent_vectors.append(sent_vec)\n",
    "    row += 1"
   ]
  },
  {
   "cell_type": "code",
   "execution_count": null,
   "metadata": {},
   "outputs": [],
   "source": []
  },
  {
   "cell_type": "markdown",
   "metadata": {},
   "source": [
    "# [5] Assignment 3: KNN"
   ]
  },
  {
   "cell_type": "markdown",
   "metadata": {},
   "source": [
    "<ol>\n",
    "    <li><strong>Apply Knn(brute force version) on these feature sets</strong>\n",
    "        <ul>\n",
    "            <li><font color='red'>SET 1:</font>Review text, preprocessed one converted into vectors using (BOW)</li>\n",
    "            <li><font color='red'>SET 2:</font>Review text, preprocessed one converted into vectors using (TFIDF)</li>\n",
    "            <li><font color='red'>SET 3:</font>Review text, preprocessed one converted into vectors using (AVG W2v)</li>\n",
    "            <li><font color='red'>SET 4:</font>Review text, preprocessed one converted into vectors using (TFIDF W2v)</li>\n",
    "        </ul>\n",
    "    </li>\n",
    "    <br>\n",
    "    <li><strong>Apply Knn(kd tree version) on these feature sets</strong>\n",
    "        <br><font color='red'>NOTE: </font>sklearn implementation of kd-tree accepts only dense matrices, you need to convert the sparse matrices of CountVectorizer/TfidfVectorizer into dense matices. You can convert sparse matrices to dense using .toarray() attribute. For more information please visit this <a href='https://docs.scipy.org/doc/scipy-0.18.1/reference/generated/scipy.sparse.csr_matrix.toarray.html'>link</a>\n",
    "        <ul>\n",
    "            <li><font color='red'>SET 5:</font>Review text, preprocessed one converted into vectors using (BOW) but with restriction on maximum features generated.\n",
    "            <pre>\n",
    "            count_vect = CountVectorizer(min_df=10, max_features=500) \n",
    "            count_vect.fit(preprocessed_reviews)\n",
    "            </pre>\n",
    "            </li>\n",
    "            <li><font color='red'>SET 6:</font>Review text, preprocessed one converted into vectors using (TFIDF) but with restriction on maximum features generated.\n",
    "            <pre>\n",
    "                tf_idf_vect = TfidfVectorizer(min_df=10, max_features=500)\n",
    "                tf_idf_vect.fit(preprocessed_reviews)\n",
    "            </pre>\n",
    "            </li>\n",
    "            <li><font color='red'>SET 3:</font>Review text, preprocessed one converted into vectors using (AVG W2v)</li>\n",
    "            <li><font color='red'>SET 4:</font>Review text, preprocessed one converted into vectors using (TFIDF W2v)</li>\n",
    "        </ul>\n",
    "    </li>\n",
    "    <br>\n",
    "    <li><strong>The hyper paramter tuning(find best K)</strong>\n",
    "        <ul>\n",
    "    <li>Find the best hyper parameter which will give the maximum <a href='https://www.appliedaicourse.com/course/applied-ai-course-online/lessons/receiver-operating-characteristic-curve-roc-curve-and-auc-1/'>AUC</a> value</li>\n",
    "    <li>Find the best hyper paramter using k-fold cross validation or simple cross validation data</li>\n",
    "    <li>Use gridsearch cv or randomsearch cv or you can also write your own for loops to do this task of hyperparameter tuning</li>\n",
    "        </ul>\n",
    "    </li>\n",
    "    <br>\n",
    "    <li>\n",
    "    <strong>Representation of results</strong>\n",
    "        <ul>\n",
    "    <li>You need to plot the performance of model both on train data and cross validation data for each hyper parameter, like shown in the figure\n",
    "    <img src='train_cv_auc.JPG' width=300px></li>\n",
    "    <li>Once after you found the best hyper parameter, you need to train your model with it, and find the AUC on test data and plot the ROC curve on both train and test.\n",
    "    <img src='train_test_auc.JPG' width=300px></li>\n",
    "    <li>Along with plotting ROC curve, you need to print the <a href='https://www.appliedaicourse.com/course/applied-ai-course-online/lessons/confusion-matrix-tpr-fpr-fnr-tnr-1/'>confusion matrix</a> with predicted and original labels of test data points\n",
    "    <img src='confusion_matrix.png' width=300px></li>\n",
    "        </ul>\n",
    "    </li>\n",
    "    <br>\n",
    "    <li><strong>Conclusion</strong>\n",
    "        <ul>\n",
    "    <li>You need to summarize the results at the end of the notebook, summarize it in the table format. To print out a table please refer to this prettytable library<a href='http://zetcode.com/python/prettytable/'> link</a> \n",
    "        <img src='summary.JPG' width=400px>\n",
    "    </li>\n",
    "        </ul>\n",
    "</ol>"
   ]
  },
  {
   "cell_type": "markdown",
   "metadata": {},
   "source": [
    "<h4><font color='red'>Note: Data Leakage</font></h4>\n",
    "\n",
    "1. There will be an issue of data-leakage if you vectorize the entire data and then split it into train/cv/test.\n",
    "2. To avoid the issue of data-leakag, make sure to split your data first and then vectorize it. \n",
    "3. While vectorizing your data, apply the method fit_transform() on you train data, and apply the method transform() on cv/test data.\n",
    "4. For more details please go through this <a href='https://soundcloud.com/applied-ai-course/leakage-bow-and-tfidf'>link.</a>"
   ]
  },
  {
   "cell_type": "code",
   "execution_count": 149,
   "metadata": {},
   "outputs": [
    {
     "data": {
      "text/plain": [
       "46071"
      ]
     },
     "execution_count": 149,
     "metadata": {},
     "output_type": "execute_result"
    }
   ],
   "source": [
    "len(preprocessed_reviews)"
   ]
  },
  {
   "cell_type": "code",
   "execution_count": 155,
   "metadata": {},
   "outputs": [
    {
     "name": "stdout",
     "output_type": "stream",
     "text": [
      "total number of data points  =  46071\n"
     ]
    }
   ],
   "source": [
    "print(\"total number of data points  = \",len(preprocessed_reviews))"
   ]
  },
  {
   "cell_type": "code",
   "execution_count": 150,
   "metadata": {},
   "outputs": [
    {
     "data": {
      "text/plain": [
       "46071"
      ]
     },
     "execution_count": 150,
     "metadata": {},
     "output_type": "execute_result"
    }
   ],
   "source": [
    "len(final['Score']) "
   ]
  },
  {
   "cell_type": "code",
   "execution_count": 152,
   "metadata": {},
   "outputs": [
    {
     "name": "stdout",
     "output_type": "stream",
     "text": [
      "number of negative data points are  7592\n",
      "number of positive data points are  38479\n"
     ]
    }
   ],
   "source": [
    "print(\"number of negative data points are \",list(final['Score'].values).count(\"negative\"))\n",
    "print(\"number of positive data points are \",list(final['Score'].values).count(\"positive\"))"
   ]
  },
  {
   "cell_type": "code",
   "execution_count": 153,
   "metadata": {},
   "outputs": [
    {
     "name": "stdout",
     "output_type": "stream",
     "text": [
      "(20680,) (20680,)\n",
      "(10187,) (10187,)\n",
      "(15204,) (15204,)\n",
      "==================================================\n"
     ]
    }
   ],
   "source": [
    "# https://scikit-learn.org/stable/modules/generated/sklearn.model_selection.train_test_split.html\n",
    "from sklearn.model_selection import train_test_split\n",
    "X_train, X_test, y_train, y_test = train_test_split( np.asarray(preprocessed_reviews), final['Score'].values, test_size=0.33, random_state=0)\n",
    "X_train, X_cv, y_train, y_cv = train_test_split(X_train, y_train, test_size=0.33) \n",
    "\n",
    "\n",
    "print(X_train.shape, y_train.shape)\n",
    "print(X_cv.shape, y_cv.shape)\n",
    "print(X_test.shape, y_test.shape)\n",
    "\n",
    "print(\"=\"*50)"
   ]
  },
  {
   "cell_type": "markdown",
   "metadata": {},
   "source": [
    "## [5.1] Applying KNN brute force "
   ]
  },
  {
   "cell_type": "markdown",
   "metadata": {},
   "source": [
    "### [5.1.1] Applying KNN brute force on BOW,<font color='red'> SET 1</font>"
   ]
  },
  {
   "cell_type": "code",
   "execution_count": 156,
   "metadata": {},
   "outputs": [
    {
     "name": "stdout",
     "output_type": "stream",
     "text": [
      "(20680, 27190)\n",
      "(10187, 27190)\n",
      "(15204, 27190)\n",
      "==================================================\n"
     ]
    }
   ],
   "source": [
    "#BoW\n",
    "count_vect = CountVectorizer() #in scikit-learn\n",
    "count_vect.fit(X_train)\n",
    "\n",
    "X_train_Bow = count_vect.transform(X_train) \n",
    "X_cv_Bow = count_vect.transform(X_cv) \n",
    "X_test_Bow = count_vect.transform(X_test) \n",
    "\n",
    "print(X_train_Bow.shape)\n",
    "print(X_cv_Bow.shape)\n",
    "print(X_test_Bow.shape)\n",
    "\n",
    "print(\"=\"*50)"
   ]
  },
  {
   "cell_type": "code",
   "execution_count": 157,
   "metadata": {},
   "outputs": [],
   "source": [
    "# https://scikit-learn.org/stable/modules/generated/sklearn.neighbors.KNeighborsClassifier.html\n",
    "# https://scikit-learn.org/stable/modules/generated/sklearn.metrics.roc_auc_score.html\n",
    "\n",
    "from sklearn.neighbors import KNeighborsClassifier\n",
    "from sklearn.metrics import roc_auc_score\n",
    "import matplotlib.pyplot as plt\n",
    "from sklearn.preprocessing import StandardScaler"
   ]
  },
  {
   "cell_type": "code",
   "execution_count": 158,
   "metadata": {},
   "outputs": [],
   "source": [
    "X_train_Bow = StandardScaler(with_mean=False).fit_transform(X_train_Bow)\n",
    "X_cv_Bow = StandardScaler(with_mean=False).fit_transform(X_cv_Bow)\n",
    "X_test_Bow = StandardScaler(with_mean=False).fit_transform(X_test_Bow)"
   ]
  },
  {
   "cell_type": "code",
   "execution_count": null,
   "metadata": {},
   "outputs": [],
   "source": []
  },
  {
   "cell_type": "code",
   "execution_count": 159,
   "metadata": {},
   "outputs": [
    {
     "data": {
      "image/png": "[encoded data removed]",
      "text/plain": [
       "<Figure size 432x288 with 1 Axes>"
      ]
     },
     "metadata": {
      "needs_background": "light"
     },
     "output_type": "display_data"
    }
   ],
   "source": [
    "\n",
    "\"\"\"\n",
    "y_true : array, shape = [n_samples] or [n_samples, n_classes]\n",
    "True binary labels or binary label indicators.\n",
    "\n",
    "y_score : array, shape = [n_samples] or [n_samples, n_classes]\n",
    "Target scores, can either be probability estimates of the positive class, confidence values, or non-thresholded measure of\n",
    "decisions (as returned by “decision_function” on some classifiers). \n",
    "For binary y_true, y_score is supposed to be the score of the class with greater label.\n",
    "\n",
    "\"\"\"\n",
    "train_auc = []\n",
    "cv_auc = []\n",
    "K = [1, 7, 14, 21, 28,35 , 42,50]\n",
    "for i in K:\n",
    "    neigh = KNeighborsClassifier(n_neighbors=i,algorithm = 'brute')\n",
    "   \n",
    "    # roc_auc_score(y_true, y_score) the 2nd parameter should be probability estimates of the positive class\n",
    "    # not the predicted outputs\n",
    "    \n",
    "    \n",
    "plt.plot(K, train_auc, label='Train AUC')\n",
    "plt.plot(K, cv_auc, label='CV AUC')\n",
    "plt.legend()\n",
    "plt.xlabel(\"K: hyperparameter\")\n",
    "plt.ylabel(\"AUC\")\n",
    "plt.title(\"ERROR PLOTS\")\n",
    "plt.show()"
   ]
  },
  {
   "cell_type": "code",
   "execution_count": 160,
   "metadata": {},
   "outputs": [
    {
     "data": {
      "text/plain": [
       "7"
      ]
     },
     "execution_count": 160,
     "metadata": {},
     "output_type": "execute_result"
    }
   ],
   "source": [
    "#here we are choosing the best_k based on forloop cv_auc results\n",
    "best_k = K[cv_auc.index(max(cv_auc))]\n",
    "best_k"
   ]
  },
  {
   "cell_type": "code",
   "execution_count": 161,
   "metadata": {},
   "outputs": [],
   "source": [
    "def into01(n):\n",
    "    if(n==\"positive\"):\n",
    "        return 1\n",
    "    else :\n",
    "        return 0"
   ]
  },
  {
   "cell_type": "code",
   "execution_count": 162,
   "metadata": {},
   "outputs": [],
   "source": [
    "y_train_roc = list(map(into01,y_train))\n",
    "y_test_roc = list(map(into01,y_test))\n"
   ]
  },
  {
   "cell_type": "markdown",
   "metadata": {},
   "source": [
    "## Testing with Test data\n"
   ]
  },
  {
   "cell_type": "code",
   "execution_count": 163,
   "metadata": {},
   "outputs": [
    {
     "data": {
      "image/png": "[encoded data removed]",
      "text/plain": [
       "<Figure size 432x288 with 1 Axes>"
      ]
     },
     "metadata": {
      "needs_background": "light"
     },
     "output_type": "display_data"
    },
    {
     "name": "stdout",
     "output_type": "stream",
     "text": [
      "====================================================================================================\n",
      "Train confusion matrix\n",
      "[[  229  3198]\n",
      " [   16 17237]]\n",
      "Test confusion matrix\n",
      "[[   50  2425]\n",
      " [   26 12703]]\n"
     ]
    }
   ],
   "source": [
    "\n",
    "# https://scikit-learn.org/stable/modules/generated/sklearn.metrics.roc_curve.html\n",
    "#sklearn.metrics.roc_curve\n",
    "from sklearn.metrics import roc_curve, auc\n",
    "\n",
    "\n",
    "neigh = KNeighborsClassifier(n_neighbors=best_k,algorithm = 'brute')\n",
    "neigh.fit(X_train_Bow, y_train)\n",
    "# roc_auc_score(y_true, y_score) the 2nd parameter should be probability estimates of the positive class\n",
    "# not the predicted outputs\n",
    "train_fpr, train_tpr, thresholds = roc_curve(y_train_roc, neigh.predict_proba(X_train_Bow)[:,1])\n",
    "test_fpr, test_tpr, thresholds = roc_curve(y_test_roc, neigh.predict_proba(X_test_Bow)[:,1])\n",
    "\n",
    "plt.plot(train_fpr, train_tpr, label=\"train AUC =\"+str(auc(train_fpr, train_tpr)))\n",
    "plt.plot(test_fpr, test_tpr, label=\"test AUC =\"+str(auc(test_fpr, test_tpr)))\n",
    "plt.legend()\n",
    "plt.xlabel(\"FPR\")\n",
    "plt.ylabel(\"TPR\")\n",
    "plt.title(\"ROC Curve Train vs Test\")\n",
    "plt.show()\n",
    "\n",
    "print(\"=\"*100)\n",
    "\n",
    "from sklearn.metrics import confusion_matrix\n",
    "cmTrain = confusion_matrix(y_train, neigh.predict(X_train_Bow))\n",
    "cmTest = confusion_matrix(y_test, neigh.predict(X_test_Bow))\n",
    "print(\"Train confusion matrix\")\n",
    "print(cmTrain)\n",
    "print(\"Test confusion matrix\")\n",
    "print(cmTest)"
   ]
  },
  {
   "cell_type": "code",
   "execution_count": 164,
   "metadata": {},
   "outputs": [],
   "source": [
    "#https://stackoverflow.com/questions/19233771/sklearn-plot-confusion-matrix-with-labels/31720054\n",
    "\n",
    "\n",
    "def cm_analysis(y_true, y_pred, labels, ymap=None, figsize=(10,10)):\n",
    "    \"\"\"\n",
    "    Generate matrix plot of confusion matrix with pretty annotations.\n",
    "    The plot image is saved to disk.\n",
    "    args: \n",
    "      y_true:    true label of the data, with shape (nsamples,)\n",
    "      y_pred:    prediction of the data, with shape (nsamples,)\n",
    "      filename:  filename of figure file to save\n",
    "      labels:    string array, name the order of class labels in the confusion matrix.\n",
    "                 use `clf.classes_` if using scikit-learn models.\n",
    "                 with shape (nclass,).\n",
    "      ymap:      dict: any -> string, length == nclass.\n",
    "                 if not None, map the labels & ys to more understandable strings.\n",
    "                 Caution: original y_true, y_pred and labels must align.\n",
    "      figsize:   the size of the figure plotted.\n",
    "    \"\"\"\n",
    "    if ymap is not None:\n",
    "        y_pred = [ymap[yi] for yi in y_pred]\n",
    "        y_true = [ymap[yi] for yi in y_true]\n",
    "        labels = [ymap[yi] for yi in labels]\n",
    "    cm = confusion_matrix(y_true, y_pred, labels=labels)\n",
    "    cm_sum = np.sum(cm, axis=1, keepdims=True)\n",
    "    cm_perc = cm / cm_sum.astype(float) * 100\n",
    "    annot = np.empty_like(cm).astype(str)\n",
    "    nrows, ncols = cm.shape\n",
    "    for i in range(nrows):\n",
    "        for j in range(ncols):\n",
    "            c = cm[i, j]\n",
    "            p = cm_perc[i, j]\n",
    "            if i == j:\n",
    "                s = cm_sum[i]\n",
    "                annot[i, j] = '%.1f%%\\n%d/%d' % (p, c, s)\n",
    "            elif c == 0:\n",
    "                annot[i, j] = ''\n",
    "            else:\n",
    "                annot[i, j] = '%.1f%%\\n%d' % (p, c)\n",
    "    cm = pd.DataFrame(cm, index=labels, columns=labels)\n",
    "    cm.index.name = 'Actual'\n",
    "    cm.columns.name = 'Predicted'\n",
    "    fig, ax = plt.subplots(figsize=figsize)\n",
    "    sns.heatmap(cm, annot=annot, fmt='', ax=ax,cmap=\"Blues\")\n",
    "    #plt.savefig(filename)\n",
    "    plt.show()\n"
   ]
  },
  {
   "cell_type": "code",
   "execution_count": 165,
   "metadata": {},
   "outputs": [
    {
     "data": {
      "image/png": "[encoded data removed]",
      "text/plain": [
       "<Figure size 720x720 with 2 Axes>"
      ]
     },
     "metadata": {
      "needs_background": "light"
     },
     "output_type": "display_data"
    }
   ],
   "source": [
    "# confusion matrix on train data\n",
    "cm_analysis(y_train, neigh.predict(X_train_Bow), [\"negative\",\"positive\"], ymap=None, figsize=(10,10))"
   ]
  },
  {
   "cell_type": "code",
   "execution_count": 166,
   "metadata": {},
   "outputs": [
    {
     "data": {
      "image/png": "[encoded data removed]",
      "text/plain": [
       "<Figure size 720x720 with 2 Axes>"
      ]
     },
     "metadata": {
      "needs_background": "light"
     },
     "output_type": "display_data"
    }
   ],
   "source": [
    "# confusion matrix on test data\n",
    "\n",
    "cm_analysis(y_test, neigh.predict(X_test_Bow), [\"negative\",\"positive\"], ymap=None, figsize=(10,10))"
   ]
  },
  {
   "cell_type": "code",
   "execution_count": null,
   "metadata": {},
   "outputs": [],
   "source": []
  },
  {
   "cell_type": "markdown",
   "metadata": {},
   "source": [
    "### [5.1.2] Applying KNN brute force on TFIDF,<font color='red'> SET 2</font>"
   ]
  },
  {
   "cell_type": "code",
   "execution_count": 167,
   "metadata": {
    "scrolled": true
   },
   "outputs": [
    {
     "name": "stdout",
     "output_type": "stream",
     "text": [
      "(20680, 27190)\n",
      "(10187, 27190)\n",
      "(15204, 27190)\n",
      "==================================================\n"
     ]
    }
   ],
   "source": [
    "# Please write all the code with proper documentation\n",
    "#BoW\n",
    "tfidf_vect = TfidfVectorizer() #in scikit-learn\n",
    "tfidf_vect.fit(X_train)\n",
    "\n",
    "X_train_tfidf = tfidf_vect.transform(X_train) \n",
    "X_cv_tfidf = tfidf_vect.transform(X_cv) \n",
    "X_test_tfidf = tfidf_vect.transform(X_test) \n",
    "\n",
    "print(X_train_tfidf.shape)\n",
    "print(X_cv_tfidf.shape)\n",
    "print(X_test_tfidf.shape)\n",
    "\n",
    "print(\"=\"*50)"
   ]
  },
  {
   "cell_type": "code",
   "execution_count": 174,
   "metadata": {},
   "outputs": [],
   "source": [
    "X_train_tfidf = StandardScaler(with_mean=False).fit_transform(X_train_tfidf)\n",
    "X_cv_tfidf = StandardScaler(with_mean=False).fit_transform(X_cv_tfidf)\n",
    "X_test_tfidf = StandardScaler(with_mean=False).fit_transform(X_test_tfidf)"
   ]
  },
  {
   "cell_type": "code",
   "execution_count": 175,
   "metadata": {},
   "outputs": [
    {
     "data": {
      "image/png": "[encoded data removed]",
      "text/plain": [
       "<Figure size 432x288 with 1 Axes>"
      ]
     },
     "metadata": {
      "needs_background": "light"
     },
     "output_type": "display_data"
    }
   ],
   "source": [
    "\n",
    "\"\"\"\n",
    "y_true : array, shape = [n_samples] or [n_samples, n_classes]\n",
    "True binary labels or binary label indicators.\n",
    "\n",
    "y_score : array, shape = [n_samples] or [n_samples, n_classes]\n",
    "Target scores, can either be probability estimates of the positive class, confidence values, or non-thresholded measure of\n",
    "decisions (as returned by “decision_function” on some classifiers). \n",
    "For binary y_true, y_score is supposed to be the score of the class with greater label.\n",
    "\n",
    "\"\"\"\n",
    "train_auctf = []\n",
    "cv_auctf = []\n",
    "K = [1, 7, 14, 21, 28,35 , 42,50]\n",
    "for i in K:\n",
    "    neigh = KNeighborsClassifier(n_neighbors=i,algorithm = 'brute')\n",
    "    neigh.fit(X_train_tfidf, y_train)\n",
    "    y_train_pred =  neigh.predict_proba(X_train_tfidf)[:,1]\n",
    "    y_cv_pred =  neigh.predict_proba(X_cv_tfidf)[:,1]\n",
    "    \n",
    "    train_auctf.append(roc_auc_score(y_train,y_train_pred))\n",
    "    cv_auctf.append(roc_auc_score(y_cv, y_cv_pred))\n",
    "    # roc_auc_score(y_true, y_score) the 2nd parameter should be probability estimates of the positive class\n",
    "    # not the predicted outputs\n",
    "    \n",
    "    \n",
    "plt.plot(K, train_auctf, label='Train AUC')\n",
    "plt.plot(K, cv_auctf, label='CV AUC')\n",
    "plt.legend()\n",
    "plt.xlabel(\"K: hyperparameter\")\n",
    "plt.ylabel(\"AUC\")\n",
    "plt.title(\"ERROR PLOTS\")\n",
    "plt.show()"
   ]
  },
  {
   "cell_type": "code",
   "execution_count": 176,
   "metadata": {},
   "outputs": [
    {
     "data": {
      "text/plain": [
       "50"
      ]
     },
     "execution_count": 176,
     "metadata": {},
     "output_type": "execute_result"
    }
   ],
   "source": [
    "#here we are choosing the best_k based on forloop cv_auc results\n",
    "best_k = K[cv_auctf.index(max(cv_auctf))]\n",
    "best_k"
   ]
  },
  {
   "cell_type": "markdown",
   "metadata": {},
   "source": [
    "## Testing with Test data"
   ]
  },
  {
   "cell_type": "code",
   "execution_count": 177,
   "metadata": {},
   "outputs": [
    {
     "data": {
      "image/png": "[encoded data removed]",
      "text/plain": [
       "<Figure size 432x288 with 1 Axes>"
      ]
     },
     "metadata": {
      "needs_background": "light"
     },
     "output_type": "display_data"
    },
    {
     "name": "stdout",
     "output_type": "stream",
     "text": [
      "====================================================================================================\n",
      "Train confusion matrix\n",
      "[[    0  3427]\n",
      " [    0 17253]]\n",
      "Test confusion matrix\n",
      "[[    0  2475]\n",
      " [    0 12729]]\n"
     ]
    }
   ],
   "source": [
    "\n",
    "# https://scikit-learn.org/stable/modules/generated/sklearn.metrics.roc_curve.html\n",
    "#sklearn.metrics.roc_curve\n",
    "from sklearn.metrics import roc_curve, auc\n",
    "\n",
    "\n",
    "neigh = KNeighborsClassifier(n_neighbors=best_k,algorithm = 'brute')\n",
    "neigh.fit(X_train_tfidf, y_train)\n",
    "# roc_auc_score(y_true, y_score) the 2nd parameter should be probability estimates of the positive class\n",
    "# not the predicted outputs\n",
    "train_fpr, train_tpr, thresholds = roc_curve(y_train_roc, neigh.predict_proba(X_train_tfidf)[:,1])\n",
    "test_fpr, test_tpr, thresholds = roc_curve(y_test_roc, neigh.predict_proba(X_test_tfidf)[:,1])\n",
    "\n",
    "plt.plot(train_fpr, train_tpr, label=\"train AUC =\"+str(auc(train_fpr, train_tpr)))\n",
    "plt.plot(test_fpr, test_tpr, label=\"test AUC =\"+str(auc(test_fpr, test_tpr)))\n",
    "plt.legend()\n",
    "plt.xlabel(\"FPR\")\n",
    "plt.ylabel(\"TPR\")\n",
    "plt.title(\"ROC Curve Train vs Test\")\n",
    "plt.show()\n",
    "\n",
    "print(\"=\"*100)\n",
    "\n",
    "from sklearn.metrics import confusion_matrix\n",
    "cmTrain = confusion_matrix(y_train, neigh.predict(X_train_tfidf))\n",
    "cmTest = confusion_matrix(y_test, neigh.predict(X_test_tfidf))\n",
    "print(\"Train confusion matrix\")\n",
    "print(cmTrain)\n",
    "print(\"Test confusion matrix\")\n",
    "print(cmTest)"
   ]
  },
  {
   "cell_type": "code",
   "execution_count": 178,
   "metadata": {},
   "outputs": [
    {
     "data": {
      "image/png": "[encoded data removed]",
      "text/plain": [
       "<Figure size 720x720 with 2 Axes>"
      ]
     },
     "metadata": {
      "needs_background": "light"
     },
     "output_type": "display_data"
    }
   ],
   "source": [
    "# confusion matrix on train data\n",
    "\n",
    "cm_analysis(y_train, neigh.predict(X_train_tfidf), [\"negative\",\"positive\"], ymap=None, figsize=(10,10))"
   ]
  },
  {
   "cell_type": "code",
   "execution_count": 179,
   "metadata": {},
   "outputs": [
    {
     "data": {
      "image/png": "[encoded data removed]",
      "text/plain": [
       "<Figure size 720x720 with 2 Axes>"
      ]
     },
     "metadata": {
      "needs_background": "light"
     },
     "output_type": "display_data"
    }
   ],
   "source": [
    "# confusion matrix on test data\n",
    "\n",
    "cm_analysis(y_test, neigh.predict(X_test_tfidf), [\"negative\",\"positive\"], ymap=None, figsize=(10,10))"
   ]
  },
  {
   "cell_type": "markdown",
   "metadata": {},
   "source": [
    "### [5.1.3] Applying KNN brute force on AVG W2V,<font color='red'> SET 3</font>"
   ]
  },
  {
   "cell_type": "code",
   "execution_count": 180,
   "metadata": {},
   "outputs": [],
   "source": [
    "list_of_sentance=[]\n",
    "for sentance in X_train:\n",
    "    list_of_sentance.append(sentance.split())"
   ]
  },
  {
   "cell_type": "code",
   "execution_count": 181,
   "metadata": {},
   "outputs": [
    {
     "name": "stdout",
     "output_type": "stream",
     "text": [
      "number of words that occured minimum 5 times  8719\n",
      "sample words  ['usually', 'purchase', 'loose', 'tea', 'england', 'bring', 'back', 'enough', 'last', 'year', 'unfortunately', 'not', 'able', 'make', 'trip', 'wonderful', 'full', 'flavored', 'mellow', 'would', 'recommend', 'highly', 'cheers', 'purchased', 'amazon', 'yet', 'still', 'elsewhere', 'noticed', 'many', 'people', 'buying', 'one', 'pound', 'bag', 'let', 'know', 'equals', 'lbs', 'buy', 'something', 'never', 'goes', 'bad', 'get', 'double', 'dollars', 'dr', 'comments', 'regarding']\n"
     ]
    }
   ],
   "source": [
    "# Please write all the code with proper documentation\n",
    "w2v_model=Word2Vec(list_of_sentance,min_count=5,size=50, workers=4)\n",
    "\n",
    "w2v_words = list(w2v_model.wv.vocab)\n",
    "print(\"number of words that occured minimum 5 times \",len(w2v_words))\n",
    "print(\"sample words \", w2v_words[0:50])\n"
   ]
  },
  {
   "cell_type": "code",
   "execution_count": 182,
   "metadata": {},
   "outputs": [],
   "source": [
    "# average Word2Vec\n",
    "# compute average word2vec for each review.\n",
    "# the avg-w2v for each sentence/review is stored in this list\n",
    "def getAvgW2vec(list_of_sentance):\n",
    "    sent_vectors = []\n",
    "    for sent in list_of_sentance: # for each review/sentence\n",
    "        sent_vec = np.zeros(50) # as word vectors are of zero length 50, you might need to change this to 300 if you use google's w2v\n",
    "        cnt_words =0; # num of words with a valid vector in the sentence/review\n",
    "        for word in sent: # for each word in a review/sentence\n",
    "            if word in w2v_words:\n",
    "                vec = w2v_model.wv[word]\n",
    "                sent_vec += vec\n",
    "                cnt_words += 1\n",
    "        if cnt_words != 0:\n",
    "            sent_vec /= cnt_words\n",
    "        sent_vectors.append(sent_vec)\n",
    "    \n",
    "    print(len(sent_vectors))\n",
    "    print(len(sent_vectors[0]))\n",
    "    return np.array(sent_vectors)\n"
   ]
  },
  {
   "cell_type": "code",
   "execution_count": 183,
   "metadata": {},
   "outputs": [
    {
     "name": "stdout",
     "output_type": "stream",
     "text": [
      "20680\n",
      "50\n",
      "(20680, 50)\n"
     ]
    }
   ],
   "source": [
    "X_train_avgw2vec = getAvgW2vec(X_train) \n",
    "print(X_train_avgw2vec.shape)"
   ]
  },
  {
   "cell_type": "code",
   "execution_count": 184,
   "metadata": {},
   "outputs": [
    {
     "name": "stdout",
     "output_type": "stream",
     "text": [
      "10187\n",
      "50\n",
      "(10187, 50)\n"
     ]
    }
   ],
   "source": [
    "X_cv_avgw2vec = getAvgW2vec(X_cv) \n",
    "print(X_cv_avgw2vec.shape)"
   ]
  },
  {
   "cell_type": "code",
   "execution_count": 185,
   "metadata": {},
   "outputs": [
    {
     "name": "stdout",
     "output_type": "stream",
     "text": [
      "15204\n",
      "50\n",
      "(15204, 50)\n"
     ]
    }
   ],
   "source": [
    "\n",
    "X_test_avgw2vec = getAvgW2vec(X_test) \n",
    "print(X_test_avgw2vec.shape)"
   ]
  },
  {
   "cell_type": "code",
   "execution_count": 186,
   "metadata": {},
   "outputs": [],
   "source": [
    "X_train_avgw2vec = StandardScaler(with_mean=False).fit_transform(X_train_avgw2vec)\n",
    "X_cv_avgw2vec = StandardScaler(with_mean=False).fit_transform(X_cv_avgw2vec)\n",
    "X_test_avgw2vec = StandardScaler(with_mean=False).fit_transform(X_test_avgw2vec)"
   ]
  },
  {
   "cell_type": "code",
   "execution_count": 187,
   "metadata": {},
   "outputs": [
    {
     "data": {
      "image/png": "[encoded data removed]",
      "text/plain": [
       "<Figure size 432x288 with 1 Axes>"
      ]
     },
     "metadata": {
      "needs_background": "light"
     },
     "output_type": "display_data"
    }
   ],
   "source": [
    "\n",
    "\"\"\"\n",
    "y_true : array, shape = [n_samples] or [n_samples, n_classes]\n",
    "True binary labels or binary label indicators.\n",
    "\n",
    "y_score : array, shape = [n_samples] or [n_samples, n_classes]\n",
    "Target scores, can either be probability estimates of the positive class, confidence values, or non-thresholded measure of\n",
    "decisions (as returned by “decision_function” on some classifiers). \n",
    "For binary y_true, y_score is supposed to be the score of the class with greater label.\n",
    "\n",
    "\"\"\"\n",
    "train_auc = []\n",
    "cv_auc = []\n",
    "K = [1, 7, 14, 21, 28,35 , 42,50]\n",
    "for i in K:\n",
    "    neigh = KNeighborsClassifier(n_neighbors=i,algorithm = 'brute')\n",
    "    neigh.fit(X_train_avgw2vec, y_train)\n",
    "    y_train_pred =  neigh.predict_proba(X_train_avgw2vec)[:,1]\n",
    "    y_cv_pred =  neigh.predict_proba(X_cv_avgw2vec)[:,1]\n",
    "    \n",
    "    train_auc.append(roc_auc_score(y_train,y_train_pred))\n",
    "    cv_auc.append(roc_auc_score(y_cv, y_cv_pred))\n",
    "    # roc_auc_score(y_true, y_score) the 2nd parameter should be probability estimates of the positive class\n",
    "    # not the predicted outputs\n",
    "    \n",
    "    \n",
    "plt.plot(K, train_auc, label='Train AUC')\n",
    "plt.plot(K, cv_auc, label='CV AUC')\n",
    "plt.legend()\n",
    "plt.xlabel(\"K: hyperparameter\")\n",
    "plt.ylabel(\"AUC\")\n",
    "plt.title(\"ERROR PLOTS\")\n",
    "plt.show()"
   ]
  },
  {
   "cell_type": "code",
   "execution_count": 188,
   "metadata": {},
   "outputs": [
    {
     "data": {
      "text/plain": [
       "42"
      ]
     },
     "execution_count": 188,
     "metadata": {},
     "output_type": "execute_result"
    }
   ],
   "source": [
    "\n",
    "#here we are choosing the best_k based on forloop cv_auc results\n",
    "best_k = K[cv_auc.index(max(cv_auc))]\n",
    "best_k"
   ]
  },
  {
   "cell_type": "markdown",
   "metadata": {},
   "source": [
    "## Testing with Test data\n"
   ]
  },
  {
   "cell_type": "code",
   "execution_count": 189,
   "metadata": {},
   "outputs": [
    {
     "data": {
      "image/png": "[encoded data removed]",
      "text/plain": [
       "<Figure size 432x288 with 1 Axes>"
      ]
     },
     "metadata": {
      "needs_background": "light"
     },
     "output_type": "display_data"
    },
    {
     "name": "stdout",
     "output_type": "stream",
     "text": [
      "====================================================================================================\n",
      "Train confusion matrix\n",
      "[[    2  3425]\n",
      " [    1 17252]]\n",
      "Test confusion matrix\n",
      "[[    0  2475]\n",
      " [    0 12729]]\n"
     ]
    }
   ],
   "source": [
    "\n",
    "# https://scikit-learn.org/stable/modules/generated/sklearn.metrics.roc_curve.html\n",
    "#sklearn.metrics.roc_curve\n",
    "from sklearn.metrics import roc_curve, auc\n",
    "\n",
    "\n",
    "neigh = KNeighborsClassifier(n_neighbors=best_k,algorithm = 'brute')\n",
    "neigh.fit(X_train_avgw2vec, y_train)\n",
    "# roc_auc_score(y_true, y_score) the 2nd parameter should be probability estimates of the positive class\n",
    "# not the predicted outputs\n",
    "train_fpr, train_tpr, thresholds = roc_curve(y_train_roc, neigh.predict_proba(X_train_avgw2vec)[:,1])\n",
    "test_fpr, test_tpr, thresholds = roc_curve(y_test_roc, neigh.predict_proba(X_test_avgw2vec)[:,1])\n",
    "\n",
    "plt.plot(train_fpr, train_tpr, label=\"train AUC =\"+str(auc(train_fpr, train_tpr)))\n",
    "plt.plot(test_fpr, test_tpr, label=\"test AUC =\"+str(auc(test_fpr, test_tpr)))\n",
    "plt.legend()\n",
    "plt.xlabel(\"FPR\")\n",
    "plt.ylabel(\"TPR\")\n",
    "plt.title(\"ROC Curve Train vs Test\")\n",
    "plt.show()\n",
    "\n",
    "print(\"=\"*100)"
   ]
  },
  {
   "cell_type": "code",
   "execution_count": 190,
   "metadata": {},
   "outputs": [
    {
     "data": {
      "image/png": "[encoded data removed]",
      "text/plain": [
       "<Figure size 720x720 with 2 Axes>"
      ]
     },
     "metadata": {
      "needs_background": "light"
     },
     "output_type": "display_data"
    }
   ],
   "source": [
    "# confusion matrix on train data\n",
    "\n",
    "cm_analysis(y_train, neigh.predict(X_train_avgw2vec), [\"negative\",\"positive\"], ymap=None, figsize=(10,10))"
   ]
  },
  {
   "cell_type": "code",
   "execution_count": 191,
   "metadata": {},
   "outputs": [
    {
     "data": {
      "image/png": "[encoded data removed]",
      "text/plain": [
       "<Figure size 720x720 with 2 Axes>"
      ]
     },
     "metadata": {
      "needs_background": "light"
     },
     "output_type": "display_data"
    }
   ],
   "source": [
    "# confusion matrix on test data\n",
    "\n",
    "cm_analysis(y_test, neigh.predict(X_test_avgw2vec), [\"negative\",\"positive\"], ymap=None, figsize=(10,10))"
   ]
  },
  {
   "cell_type": "markdown",
   "metadata": {},
   "source": [
    "### [5.1.4] Applying KNN brute force on TFIDF W2V,<font color='red'> SET 4</font>"
   ]
  },
  {
   "cell_type": "code",
   "execution_count": 192,
   "metadata": {},
   "outputs": [
    {
     "data": {
      "text/plain": [
       "{'aa': 9.550676322232786,\n",
       " 'aaa': 10.243823502792731,\n",
       " 'aaaa': 10.243823502792731,\n",
       " 'aaaaa': 10.243823502792731,\n",
       " 'aaaaaaahhhhhh': 10.243823502792731,\n",
       " 'aaaaaawwwwwwwwww': 10.243823502792731,\n",
       " 'aadp': 10.243823502792731,\n",
       " 'aaf': 10.243823502792731,\n",
       " 'aafco': 10.243823502792731,\n",
       " 'aah': 10.243823502792731,\n",
       " 'aahhhs': 10.243823502792731,\n",
       " 'aahing': 10.243823502792731,\n",
       " 'aahs': 10.243823502792731,\n",
       " 'ab': 9.550676322232786,\n",
       " 'aback': 8.991060534297363,\n",
       " 'abandon': 9.550676322232786,\n",
       " 'abandoned': 8.991060534297363,\n",
       " 'abberline': 10.243823502792731,\n",
       " 'abbott': 10.243823502792731,\n",
       " 'abbreviated': 10.243823502792731,\n",
       " 'abby': 10.243823502792731,\n",
       " 'abcessed': 10.243823502792731,\n",
       " 'abdominal': 9.327532770918577,\n",
       " 'abhor': 10.243823502792731,\n",
       " 'abide': 10.243823502792731,\n",
       " 'abig': 10.243823502792731,\n",
       " 'abilities': 10.243823502792731,\n",
       " 'ability': 7.535773301690521,\n",
       " 'abilling': 10.243823502792731,\n",
       " 'abit': 10.243823502792731,\n",
       " 'able': 4.567069700524449,\n",
       " 'ablity': 10.243823502792731,\n",
       " 'ablution': 10.243823502792731,\n",
       " 'abnormalities': 10.243823502792731,\n",
       " 'abnormally': 9.838358394684567,\n",
       " 'abnoxious': 10.243823502792731,\n",
       " 'abomination': 10.243823502792731,\n",
       " 'aboout': 9.838358394684567,\n",
       " 'abot': 10.243823502792731,\n",
       " 'abou': 10.243823502792731,\n",
       " 'abound': 10.243823502792731,\n",
       " 'abounds': 10.243823502792731,\n",
       " 'abour': 10.243823502792731,\n",
       " 'aboutamazon': 10.243823502792731,\n",
       " 'aboutthe': 9.838358394684567,\n",
       " 'abovei': 10.243823502792731,\n",
       " 'aboveour': 10.243823502792731,\n",
       " 'aboviously': 10.243823502792731,\n",
       " 'abrasive': 9.838358394684567,\n",
       " 'abreast': 10.243823502792731,\n",
       " 'abroad': 9.550676322232786,\n",
       " 'abruptly': 10.243823502792731,\n",
       " 'absence': 8.539075410554306,\n",
       " 'absent': 8.991060534297363,\n",
       " 'absinthe': 10.243823502792731,\n",
       " 'absoloutely': 10.243823502792731,\n",
       " 'absolustely': 10.243823502792731,\n",
       " 'absolut': 10.243823502792731,\n",
       " 'absolute': 6.702864178755417,\n",
       " 'absolutelly': 10.243823502792731,\n",
       " 'absolutely': 4.619805996605392,\n",
       " 'absolutelydelicious': 10.243823502792731,\n",
       " 'absolutey': 10.243823502792731,\n",
       " 'absolutlely': 10.243823502792731,\n",
       " 'absolutley': 9.145211214124622,\n",
       " 'absolutly': 9.145211214124622,\n",
       " 'absorb': 7.381622621863262,\n",
       " 'absorbable': 9.838358394684567,\n",
       " 'absorbed': 8.164381961112895,\n",
       " 'absorber': 9.838358394684567,\n",
       " 'absorbing': 8.991060534297363,\n",
       " 'absorbs': 8.37202132589114,\n",
       " 'absorbtion': 10.243823502792731,\n",
       " 'absorption': 9.550676322232786,\n",
       " 'absoultly': 10.243823502792731,\n",
       " 'absurd': 8.991060534297363,\n",
       " 'abt': 10.243823502792731,\n",
       " 'abu': 10.243823502792731,\n",
       " 'abuelita': 9.550676322232786,\n",
       " 'abundance': 9.145211214124622,\n",
       " 'abundant': 8.739746106016458,\n",
       " 'abuse': 9.550676322232786,\n",
       " 'abused': 10.243823502792731,\n",
       " 'abusing': 10.243823502792731,\n",
       " 'abut': 9.550676322232786,\n",
       " 'abv': 10.243823502792731,\n",
       " 'abysmal': 10.243823502792731,\n",
       " 'ac': 10.243823502792731,\n",
       " 'acabaron': 10.243823502792731,\n",
       " 'acacia': 9.550676322232786,\n",
       " 'academy': 8.85752914167284,\n",
       " 'acai': 7.892448245629254,\n",
       " 'acaia': 10.243823502792731,\n",
       " 'acana': 10.243823502792731,\n",
       " 'accelerated': 10.243823502792731,\n",
       " 'accelerates': 10.243823502792731,\n",
       " 'accent': 8.85752914167284,\n",
       " 'accented': 9.327532770918577,\n",
       " 'accents': 10.243823502792731,\n",
       " 'accentuate': 9.838358394684567,\n",
       " 'accentuates': 10.243823502792731,\n",
       " 'accept': 8.164381961112895,\n",
       " 'acceptable': 7.299384523626291,\n",
       " 'acceptance': 9.838358394684567,\n",
       " 'accepted': 7.992531704186236,\n",
       " 'accepting': 9.327532770918577,\n",
       " 'accepts': 10.243823502792731,\n",
       " 'access': 7.84592822999436,\n",
       " 'accessable': 10.243823502792731,\n",
       " 'accessible': 10.243823502792731,\n",
       " 'accessing': 10.243823502792731,\n",
       " 'accessories': 9.838358394684567,\n",
       " 'accessory': 10.243823502792731,\n",
       " 'accident': 7.4404631218861965,\n",
       " 'accidental': 10.243823502792731,\n",
       " 'accidentally': 7.569674853366203,\n",
       " 'accidently': 9.145211214124622,\n",
       " 'accidents': 8.452064033564676,\n",
       " 'acclaimed': 10.243823502792731,\n",
       " 'acclimate': 10.243823502792731,\n",
       " 'acclimated': 9.838358394684567,\n",
       " 'acclimatization': 10.243823502792731,\n",
       " 'accolades': 10.243823502792731,\n",
       " 'accommodate': 10.243823502792731,\n",
       " 'accommodated': 10.243823502792731,\n",
       " 'accommodating': 10.243823502792731,\n",
       " 'accomodate': 10.243823502792731,\n",
       " 'accomodation': 10.243823502792731,\n",
       " 'accompained': 10.243823502792731,\n",
       " 'accompanied': 9.838358394684567,\n",
       " 'accompanies': 9.327532770918577,\n",
       " 'accompaniment': 9.327532770918577,\n",
       " 'accompany': 9.550676322232786,\n",
       " 'accompanying': 9.550676322232786,\n",
       " 'accomplice': 10.243823502792731,\n",
       " 'accomplish': 8.63438559035863,\n",
       " 'accomplished': 9.327532770918577,\n",
       " 'accomplishes': 10.243823502792731,\n",
       " 'accomplishment': 9.550676322232786,\n",
       " 'accord': 10.243823502792731,\n",
       " 'accordance': 9.550676322232786,\n",
       " 'according': 6.3418508332180865,\n",
       " 'accordingly': 8.297913353737417,\n",
       " 'account': 7.892448245629254,\n",
       " 'accountable': 9.838358394684567,\n",
       " 'accountant': 10.243823502792731,\n",
       " 'accounted': 10.243823502792731,\n",
       " 'accounting': 9.550676322232786,\n",
       " 'accounts': 9.327532770918577,\n",
       " 'accredited': 10.243823502792731,\n",
       " 'accross': 9.838358394684567,\n",
       " 'acctually': 10.243823502792731,\n",
       " 'accumulate': 10.243823502792731,\n",
       " 'accumulated': 9.838358394684567,\n",
       " 'accumulation': 9.838358394684567,\n",
       " 'accuracy': 9.327532770918577,\n",
       " 'accurate': 7.678874145331195,\n",
       " 'accurately': 9.327532770918577,\n",
       " 'accusatory': 10.243823502792731,\n",
       " 'accuse': 10.243823502792731,\n",
       " 'accused': 10.243823502792731,\n",
       " 'accustomed': 7.992531704186236,\n",
       " 'acd': 10.243823502792731,\n",
       " 'ace': 10.243823502792731,\n",
       " 'acehardwareoutlet': 9.838358394684567,\n",
       " 'acerola': 8.164381961112895,\n",
       " 'aces': 10.243823502792731,\n",
       " 'acess': 10.243823502792731,\n",
       " 'acesulfame': 9.838358394684567,\n",
       " 'acetate': 9.550676322232786,\n",
       " 'acetic': 9.838358394684567,\n",
       " 'ache': 8.164381961112895,\n",
       " 'aches': 8.297913353737417,\n",
       " 'achieve': 8.63438559035863,\n",
       " 'achieved': 8.991060534297363,\n",
       " 'achieving': 9.550676322232786,\n",
       " 'achin': 10.243823502792731,\n",
       " 'aching': 9.550676322232786,\n",
       " 'acid': 5.628702985951471,\n",
       " 'acidic': 6.876527672806257,\n",
       " 'acidify': 10.243823502792731,\n",
       " 'acidity': 7.02494767792453,\n",
       " 'acidolphilus': 10.243823502792731,\n",
       " 'acidophilus': 9.550676322232786,\n",
       " 'acids': 7.678874145331195,\n",
       " 'acknowledge': 8.991060534297363,\n",
       " 'acknowledged': 9.838358394684567,\n",
       " 'acknowledgment': 9.838358394684567,\n",
       " 'acl': 9.550676322232786,\n",
       " 'acme': 10.243823502792731,\n",
       " 'acne': 9.327532770918577,\n",
       " 'acommodate': 10.243823502792731,\n",
       " 'acompetitive': 10.243823502792731,\n",
       " 'acorbic': 10.243823502792731,\n",
       " 'acording': 10.243823502792731,\n",
       " 'acoustic': 10.243823502792731,\n",
       " 'acquaintance': 9.838358394684567,\n",
       " 'acquaintances': 9.550676322232786,\n",
       " 'acquainted': 10.243823502792731,\n",
       " 'acquire': 8.991060534297363,\n",
       " 'acquired': 7.410610158736515,\n",
       " 'acquiring': 9.327532770918577,\n",
       " 'acquisition': 9.550676322232786,\n",
       " 'acres': 10.243823502792731,\n",
       " 'acrid': 9.145211214124622,\n",
       " 'across': 6.002496750221985,\n",
       " 'act': 7.678874145331195,\n",
       " 'acted': 9.145211214124622,\n",
       " 'acting': 8.539075410554306,\n",
       " 'action': 7.84592822999436,\n",
       " 'activa': 10.243823502792731,\n",
       " 'activate': 9.327532770918577,\n",
       " 'activated': 10.243823502792731,\n",
       " 'activating': 10.243823502792731,\n",
       " 'activator': 10.243823502792731,\n",
       " 'active': 7.086823081642618,\n",
       " 'actively': 9.550676322232786,\n",
       " 'activia': 10.243823502792731,\n",
       " 'activities': 8.739746106016458,\n",
       " 'activity': 7.892448245629254,\n",
       " 'actlly': 10.243823502792731,\n",
       " 'actor': 9.838358394684567,\n",
       " 'acts': 8.539075410554306,\n",
       " 'actual': 6.166286058887011,\n",
       " 'actuality': 9.838358394684567,\n",
       " 'actually': 4.183532764754897,\n",
       " 'actualy': 9.838358394684567,\n",
       " 'acura': 10.243823502792731,\n",
       " 'acutal': 10.243823502792731,\n",
       " 'acutally': 10.243823502792731,\n",
       " 'acute': 9.838358394684567,\n",
       " 'ad': 7.892448245629254,\n",
       " 'adage': 10.243823502792731,\n",
       " 'adagio': 9.838358394684567,\n",
       " 'adana': 10.243823502792731,\n",
       " 'adapt': 8.63438559035863,\n",
       " 'adaptable': 9.838358394684567,\n",
       " 'adaptation': 10.243823502792731,\n",
       " 'adapted': 9.327532770918577,\n",
       " 'adapter': 9.838358394684567,\n",
       " 'adaptogen': 10.243823502792731,\n",
       " 'adaptor': 9.838358394684567,\n",
       " 'adapts': 10.243823502792731,\n",
       " 'add': 3.9541079318837338,\n",
       " 'addded': 9.838358394684567,\n",
       " 'adddres': 10.243823502792731,\n",
       " 'added': 4.473941226432006,\n",
       " 'addedrecommended': 10.243823502792731,\n",
       " 'addendum': 8.991060534297363,\n",
       " 'adder': 10.243823502792731,\n",
       " 'addiciton': 10.243823502792731,\n",
       " 'addict': 7.199301065069308,\n",
       " 'addictable': 10.243823502792731,\n",
       " 'addicted': 6.218471812057582,\n",
       " 'addicting': 7.108329286863581,\n",
       " 'addiction': 7.4404631218861965,\n",
       " 'addictioni': 10.243823502792731,\n",
       " 'addictive': 6.352003204682104,\n",
       " 'addicts': 9.550676322232786,\n",
       " 'adding': 5.3274988881677166,\n",
       " 'addison': 10.243823502792731,\n",
       " 'addition': 5.623764704310889,\n",
       " 'additional': 6.254839456228456,\n",
       " 'additionally': 7.941238409798685,\n",
       " 'additions': 9.145211214124622,\n",
       " 'additive': 8.452064033564676,\n",
       " 'additives': 6.632905590148507,\n",
       " 'additon': 10.243823502792731,\n",
       " 'addled': 10.243823502792731,\n",
       " 'address': 7.892448245629254,\n",
       " 'addressed': 8.63438559035863,\n",
       " 'addresses': 10.243823502792731,\n",
       " 'addressesit': 10.243823502792731,\n",
       " 'addressing': 9.838358394684567,\n",
       " 'adds': 5.9130901625064,\n",
       " 'addsbounce': 10.243823502792731,\n",
       " 'addsthat': 10.243823502792731,\n",
       " 'ade': 9.838358394684567,\n",
       " 'adem': 10.243823502792731,\n",
       " 'adept': 9.838358394684567,\n",
       " 'adequacy': 10.243823502792731,\n",
       " 'adequate': 7.892448245629254,\n",
       " 'adequately': 9.145211214124622,\n",
       " 'adfvnouadv': 10.243823502792731,\n",
       " 'adheared': 9.838358394684567,\n",
       " 'adhere': 9.550676322232786,\n",
       " 'adhered': 10.243823502792731,\n",
       " 'adhesive': 9.838358394684567,\n",
       " 'adiago': 10.243823502792731,\n",
       " 'adicted': 9.838358394684567,\n",
       " 'adjacent': 10.243823502792731,\n",
       " 'adjectives': 9.550676322232786,\n",
       " 'adjunct': 10.243823502792731,\n",
       " 'adjust': 7.353451744896566,\n",
       " 'adjustability': 10.243823502792731,\n",
       " 'adjustable': 10.243823502792731,\n",
       " 'adjusted': 8.103757339296461,\n",
       " 'adjusting': 9.327532770918577,\n",
       " 'adjustment': 9.145211214124622,\n",
       " 'adjustments': 8.739746106016458,\n",
       " 'administer': 10.243823502792731,\n",
       " 'administering': 9.838358394684567,\n",
       " 'administeringpills': 10.243823502792731,\n",
       " 'administration': 10.243823502792731,\n",
       " 'admirable': 10.243823502792731,\n",
       " 'admire': 10.243823502792731,\n",
       " 'admired': 9.838358394684567,\n",
       " 'admit': 6.100688776401198,\n",
       " 'admitedly': 10.243823502792731,\n",
       " 'admits': 10.243823502792731,\n",
       " 'admitted': 10.243823502792731,\n",
       " 'admittedly': 8.164381961112895,\n",
       " 'admitting': 9.838358394684567,\n",
       " 'admonishing': 10.243823502792731,\n",
       " 'admonition': 10.243823502792731,\n",
       " 'adobo': 10.243823502792731,\n",
       " 'adolescent': 10.243823502792731,\n",
       " 'adopt': 10.243823502792731,\n",
       " 'adopted': 7.175770567659114,\n",
       " 'adopters': 10.243823502792731,\n",
       " 'adopting': 9.550676322232786,\n",
       " 'adoption': 10.243823502792731,\n",
       " 'adoptions': 10.243823502792731,\n",
       " 'adoptogen': 10.243823502792731,\n",
       " 'adopts': 10.243823502792731,\n",
       " 'adora': 10.243823502792731,\n",
       " 'adorable': 8.539075410554306,\n",
       " 'adore': 7.4404631218861965,\n",
       " 'adored': 9.145211214124622,\n",
       " 'adores': 8.297913353737417,\n",
       " 'adorn': 10.243823502792731,\n",
       " 'ados': 10.243823502792731,\n",
       " 'adoted': 10.243823502792731,\n",
       " 'adrenal': 9.838358394684567,\n",
       " 'ads': 9.550676322232786,\n",
       " 'adujstment': 10.243823502792731,\n",
       " 'adult': 6.482623387099169,\n",
       " 'adulterate': 10.243823502792731,\n",
       " 'adulterated': 10.243823502792731,\n",
       " 'adulthood': 10.243823502792731,\n",
       " 'adults': 7.00514505062835,\n",
       " 'adv': 10.243823502792731,\n",
       " 'advance': 7.941238409798685,\n",
       " 'advanced': 8.739746106016458,\n",
       " 'advantage': 7.199301065069308,\n",
       " 'advantageous': 10.243823502792731,\n",
       " 'advantages': 9.550676322232786,\n",
       " 'advent': 10.243823502792731,\n",
       " 'adventure': 8.739746106016458,\n",
       " 'adventurous': 8.63438559035863,\n",
       " 'adventurously': 10.243823502792731,\n",
       " 'adverse': 8.539075410554306,\n",
       " 'adversely': 10.243823502792731,\n",
       " 'adversing': 10.243823502792731,\n",
       " 'advertise': 8.85752914167284,\n",
       " 'advertised': 6.437161013022411,\n",
       " 'advertisement': 8.539075410554306,\n",
       " 'advertisements': 10.243823502792731,\n",
       " 'advertises': 8.63438559035863,\n",
       " 'advertising': 7.50298347886753,\n",
       " 'advertize': 10.243823502792731,\n",
       " 'advertized': 9.327532770918577,\n",
       " 'advertizes': 10.243823502792731,\n",
       " 'advertizing': 10.243823502792731,\n",
       " 'adviace': 10.243823502792731,\n",
       " 'advice': 7.086823081642618,\n",
       " 'advisable': 10.243823502792731,\n",
       " 'advise': 7.718094858484475,\n",
       " 'advised': 8.297913353737417,\n",
       " 'advises': 9.838358394684567,\n",
       " 'advising': 10.243823502792731,\n",
       " 'advisor': 9.838358394684567,\n",
       " 'advisory': 9.838358394684567,\n",
       " 'advocare': 10.243823502792731,\n",
       " 'advocate': 10.243823502792731,\n",
       " 'adwance': 10.243823502792731,\n",
       " 'ae': 10.243823502792731,\n",
       " 'aenough': 10.243823502792731,\n",
       " 'aeration': 10.243823502792731,\n",
       " 'aerobic': 10.243823502792731,\n",
       " 'aerolatte': 10.243823502792731,\n",
       " 'aeropress': 9.838358394684567,\n",
       " 'aesthetically': 9.838358394684567,\n",
       " 'aesthetics': 9.550676322232786,\n",
       " 'af': 9.838358394684567,\n",
       " 'afew': 10.243823502792731,\n",
       " 'affair': 9.550676322232786,\n",
       " 'affairs': 9.838358394684567,\n",
       " 'affect': 7.4404631218861965,\n",
       " 'affected': 8.046598925456511,\n",
       " 'affectedby': 10.243823502792731,\n",
       " 'affecting': 9.327532770918577,\n",
       " 'affection': 10.243823502792731,\n",
       " 'affectionate': 10.243823502792731,\n",
       " 'affectionately': 10.243823502792731,\n",
       " 'affective': 10.243823502792731,\n",
       " 'affects': 7.992531704186236,\n",
       " 'afficianado': 9.838358394684567,\n",
       " 'afficionado': 10.243823502792731,\n",
       " 'affiliated': 9.327532770918577,\n",
       " 'affiliation': 10.243823502792731,\n",
       " 'affinity': 9.838358394684567,\n",
       " 'affirm': 9.838358394684567,\n",
       " 'affirms': 10.243823502792731,\n",
       " 'affixed': 10.243823502792731,\n",
       " 'afflicted': 9.838358394684567,\n",
       " 'affliction': 10.243823502792731,\n",
       " 'afford': 6.809836298307585,\n",
       " 'affordable': 6.3418508332180865,\n",
       " 'affordably': 10.243823502792731,\n",
       " 'afforded': 9.838358394684567,\n",
       " 'affords': 10.243823502792731,\n",
       " 'afghan': 10.243823502792731,\n",
       " 'afghanistan': 8.539075410554306,\n",
       " 'afghans': 10.243823502792731,\n",
       " 'aficionado': 8.37202132589114,\n",
       " 'aficionadoes': 10.243823502792731,\n",
       " 'aficionados': 10.243823502792731,\n",
       " 'aflame': 10.243823502792731,\n",
       " 'aflatoxin': 10.243823502792731,\n",
       " 'afnkjganfpbgneonb': 10.243823502792731,\n",
       " 'afordable': 9.838358394684567,\n",
       " 'afore': 10.243823502792731,\n",
       " 'aforementioned': 8.85752914167284,\n",
       " 'afraid': 6.660304564336621,\n",
       " 'africa': 8.63438559035863,\n",
       " 'africafe': 10.243823502792731,\n",
       " 'african': 8.046598925456511,\n",
       " 'afront': 10.243823502792731,\n",
       " 'afterall': 10.243823502792731,\n",
       " 'afterbite': 9.838358394684567,\n",
       " 'afterholiday': 10.243823502792731,\n",
       " 'aftering': 10.243823502792731,\n",
       " 'aftermath': 10.243823502792731,\n",
       " 'afternoon': 6.016989757524551,\n",
       " 'afternoons': 8.85752914167284,\n",
       " 'afteroon': 10.243823502792731,\n",
       " 'afterschool': 10.243823502792731,\n",
       " 'aftertase': 9.550676322232786,\n",
       " 'aftertaste': 5.229860418603801,\n",
       " 'aftertastes': 9.838358394684567,\n",
       " 'afterthey': 10.243823502792731,\n",
       " 'afterthought': 9.838358394684567,\n",
       " 'afterward': 9.145211214124622,\n",
       " 'afterwards': 7.381622621863262,\n",
       " 'afterwords': 10.243823502792731,\n",
       " 'afull': 10.243823502792731,\n",
       " 'agaib': 10.243823502792731,\n",
       " 'againgst': 10.243823502792731,\n",
       " 'agaist': 10.243823502792731,\n",
       " 'aganist': 10.243823502792731,\n",
       " 'agar': 9.327532770918577,\n",
       " 'agava': 10.243823502792731,\n",
       " 'agave': 6.660304564336621,\n",
       " 'age': 6.732278063961711,\n",
       " 'aged': 8.046598925456511,\n",
       " 'ageing': 10.243823502792731,\n",
       " 'agency': 9.838358394684567,\n",
       " 'agent': 8.37202132589114,\n",
       " 'agentina': 10.243823502792731,\n",
       " 'agents': 9.838358394684567,\n",
       " 'ages': 7.569674853366203,\n",
       " 'aggervated': 10.243823502792731,\n",
       " 'aggie': 10.243823502792731,\n",
       " 'aggravate': 9.550676322232786,\n",
       " 'aggravated': 10.243823502792731,\n",
       " 'aggreavate': 10.243823502792731,\n",
       " 'aggressive': 7.941238409798685,\n",
       " 'aggressively': 9.838358394684567,\n",
       " 'aghhh': 10.243823502792731,\n",
       " 'agility': 9.838358394684567,\n",
       " 'agine': 10.243823502792731,\n",
       " 'aging': 8.103757339296461,\n",
       " 'agitating': 10.243823502792731,\n",
       " 'agitation': 10.243823502792731,\n",
       " 'aglio': 10.243823502792731,\n",
       " 'agni': 10.243823502792731,\n",
       " 'ago': 4.710434014065211,\n",
       " 'agonized': 10.243823502792731,\n",
       " 'agony': 9.838358394684567,\n",
       " 'agood': 10.243823502792731,\n",
       " 'agoraphobic': 10.243823502792731,\n",
       " 'agostino': 10.243823502792731,\n",
       " 'agree': 6.002496750221985,\n",
       " 'agreeable': 10.243823502792731,\n",
       " 'agreed': 7.4404631218861965,\n",
       " 'agreeded': 10.243823502792731,\n",
       " 'agreeing': 10.243823502792731,\n",
       " 'agreement': 10.243823502792731,\n",
       " 'agrees': 8.452064033564676,\n",
       " 'agressive': 10.243823502792731,\n",
       " 'agricultural': 10.243823502792731,\n",
       " 'agriculture': 10.243823502792731,\n",
       " 'agua': 10.243823502792731,\n",
       " 'aguave': 9.838358394684567,\n",
       " 'ah': 8.85752914167284,\n",
       " 'aha': 9.838358394684567,\n",
       " 'ahead': 6.554944048678795,\n",
       " 'ahem': 10.243823502792731,\n",
       " 'ahhh': 8.991060534297363,\n",
       " 'ahhhaahhh': 10.243823502792731,\n",
       " 'ahhhhh': 10.243823502792731,\n",
       " 'ahhhhhhhhhhhhh': 10.243823502792731,\n",
       " 'ahing': 10.243823502792731,\n",
       " 'ahmad': 9.327532770918577,\n",
       " 'ahmed': 10.243823502792731,\n",
       " 'ahold': 10.243823502792731,\n",
       " 'aholic': 10.243823502792731,\n",
       " 'ahoy': 8.228920482250466,\n",
       " 'ahs': 10.243823502792731,\n",
       " 'ai': 8.63438559035863,\n",
       " 'aid': 7.175770567659114,\n",
       " 'aide': 10.243823502792731,\n",
       " 'aided': 9.550676322232786,\n",
       " 'aiding': 9.327532770918577,\n",
       " 'aids': 8.37202132589114,\n",
       " 'aig': 10.243823502792731,\n",
       " 'aikou': 10.243823502792731,\n",
       " 'ailes': 10.243823502792731,\n",
       " 'ailing': 9.838358394684567,\n",
       " 'ailment': 10.243823502792731,\n",
       " 'ailments': 9.145211214124622,\n",
       " 'ails': 10.243823502792731,\n",
       " 'aim': 10.243823502792731,\n",
       " 'aimlessly': 10.243823502792731,\n",
       " 'aint': 9.550676322232786,\n",
       " 'air': 6.054168760766306,\n",
       " 'airbags': 9.550676322232786,\n",
       " 'airborne': 9.838358394684567,\n",
       " 'aircraft': 10.243823502792731,\n",
       " 'airedale': 10.243823502792731,\n",
       " 'airedales': 10.243823502792731,\n",
       " 'aires': 9.838358394684567,\n",
       " 'airline': 10.243823502792731,\n",
       " 'airlines': 9.838358394684567,\n",
       " 'airlock': 10.243823502792731,\n",
       " 'airplane': 9.550676322232786,\n",
       " 'airplanes': 9.838358394684567,\n",
       " 'airplus': 10.243823502792731,\n",
       " 'airpocket': 10.243823502792731,\n",
       " 'airpop': 10.243823502792731,\n",
       " 'airport': 8.85752914167284,\n",
       " 'airtight': 7.992531704186236,\n",
       " 'airway': 10.243823502792731,\n",
       " 'airways': 10.243823502792731,\n",
       " 'airy': 8.103757339296461,\n",
       " 'aisle': 7.84592822999436,\n",
       " 'aisles': 8.991060534297363,\n",
       " 'aji': 10.243823502792731,\n",
       " 'ajitsuke': 10.243823502792731,\n",
       " 'ajowan': 10.243823502792731,\n",
       " 'ajwan': 10.243823502792731,\n",
       " 'aka': 8.228920482250466,\n",
       " 'akc': 9.550676322232786,\n",
       " 'akg': 9.550676322232786,\n",
       " 'akin': 8.452064033564676,\n",
       " 'akita': 9.327532770918577,\n",
       " 'akitas': 10.243823502792731,\n",
       " 'al': 7.678874145331195,\n",
       " 'ala': 9.327532770918577,\n",
       " 'alabama': 10.243823502792731,\n",
       " 'alacrity': 10.243823502792731,\n",
       " 'alaea': 10.243823502792731,\n",
       " 'alan': 10.243823502792731,\n",
       " 'alarm': 9.838358394684567,\n",
       " 'alarmed': 9.327532770918577,\n",
       " 'alarming': 9.550676322232786,\n",
       " 'alarmingly': 10.243823502792731,\n",
       " 'alas': 7.718094858484475,\n",
       " 'alaska': 8.63438559035863,\n",
       " 'alaskan': 9.327532770918577,\n",
       " 'albacore': 9.838358394684567,\n",
       " 'albeit': 8.297913353737417,\n",
       " 'albersons': 10.243823502792731,\n",
       " 'albertson': 9.327532770918577,\n",
       " 'albertsons': 9.838358394684567,\n",
       " 'albiet': 10.243823502792731,\n",
       " 'albite': 10.243823502792731,\n",
       " 'albondigas': 10.243823502792731,\n",
       " 'albumin': 10.243823502792731,\n",
       " 'albums': 10.243823502792731,\n",
       " 'alcohol': 7.50298347886753,\n",
       " 'alcoholic': 8.991060534297363,\n",
       " 'alcohols': 8.85752914167284,\n",
       " 'ale': 7.299384523626291,\n",
       " 'alea': 10.243823502792731,\n",
       " 'alec': 10.243823502792731,\n",
       " 'alergia': 10.243823502792731,\n",
       " 'alergies': 9.327532770918577,\n",
       " 'alert': 8.452064033564676,\n",
       " 'alerted': 10.243823502792731,\n",
       " 'alertness': 8.85752914167284,\n",
       " 'ales': 10.243823502792731,\n",
       " 'alessi': 10.243823502792731,\n",
       " 'alex': 9.838358394684567,\n",
       " 'alexandre': 10.243823502792731,\n",
       " 'alfalfa': 8.297913353737417,\n",
       " 'alfredo': 8.37202132589114,\n",
       " 'algae': 9.550676322232786,\n",
       " 'algam': 10.243823502792731,\n",
       " 'algerian': 10.243823502792731,\n",
       " 'alginate': 10.243823502792731,\n",
       " 'algorithm': 10.243823502792731,\n",
       " 'ali': 9.838358394684567,\n",
       " 'alia': 9.838358394684567,\n",
       " 'alice': 10.243823502792731,\n",
       " 'alien': 10.243823502792731,\n",
       " 'alienating': 10.243823502792731,\n",
       " 'alike': 8.164381961112895,\n",
       " 'alimentari': 10.243823502792731,\n",
       " 'alimentum': 9.550676322232786,\n",
       " 'alittle': 8.63438559035863,\n",
       " 'alive': 7.604766173177472,\n",
       " 'alka': 9.838358394684567,\n",
       " 'alkali': 9.145211214124622,\n",
       " 'alkaline': 9.327532770918577,\n",
       " 'alkalizing': 9.838358394684567,\n",
       " 'alkaloid': 10.243823502792731,\n",
       " 'alkaloids': 9.838358394684567,\n",
       " 'alkylamides': 10.243823502792731,\n",
       " 'alla': 10.243823502792731,\n",
       " 'allbuy': 10.243823502792731,\n",
       " 'allduring': 10.243823502792731,\n",
       " 'alleged': 9.145211214124622,\n",
       " 'allegedly': 9.550676322232786,\n",
       " 'alleging': 10.243823502792731,\n",
       " 'allegro': 10.243823502792731,\n",
       " 'allergen': 8.85752914167284,\n",
       " 'allergenic': 9.550676322232786,\n",
       " 'allergens': 8.63438559035863,\n",
       " 'allergic': 6.200772234958181,\n",
       " 'allergies': 6.039130883401765,\n",
       " 'allergiesthat': 10.243823502792731,\n",
       " 'allergist': 10.243823502792731,\n",
       " 'allergy': 6.448334313620537,\n",
       " 'alles': 10.243823502792731,\n",
       " 'alleviate': 9.327532770918577,\n",
       " 'alleviated': 9.838358394684567,\n",
       " 'alleviates': 10.243823502792731,\n",
       " 'alley': 8.991060534297363,\n",
       " 'allgeries': 10.243823502792731,\n",
       " 'alli': 10.243823502792731,\n",
       " 'alliance': 8.37202132589114,\n",
       " 'alligator': 9.550676322232786,\n",
       " 'alliteration': 10.243823502792731,\n",
       " 'allmy': 10.243823502792731,\n",
       " 'allocated': 10.243823502792731,\n",
       " 'allot': 9.327532770918577,\n",
       " 'allotment': 9.838358394684567,\n",
       " 'allotmore': 10.243823502792731,\n",
       " 'allotted': 10.243823502792731,\n",
       " 'allow': 6.518130075556078,\n",
       " 'allowable': 9.838358394684567,\n",
       " 'allowance': 8.228920482250466,\n",
       " 'allowed': 6.793835956961144,\n",
       " 'allowes': 10.243823502792731,\n",
       " 'allowing': 7.718094858484475,\n",
       " 'allows': 6.593165261498992,\n",
       " 'allrecipes': 10.243823502792731,\n",
       " 'allspice': 10.243823502792731,\n",
       " 'alludes': 10.243823502792731,\n",
       " 'allure': 10.243823502792731,\n",
       " 'alluring': 10.243823502792731,\n",
       " 'allways': 10.243823502792731,\n",
       " 'ally': 9.838358394684567,\n",
       " 'alma': 10.243823502792731,\n",
       " 'almighty': 10.243823502792731,\n",
       " 'almond': 5.777915384138147,\n",
       " 'almondina': 9.838358394684567,\n",
       " 'almonds': 5.507625054398235,\n",
       " 'almondsalmonds': 8.991060534297363,\n",
       " 'almondt': 10.243823502792731,\n",
       " 'almondy': 10.243823502792731,\n",
       " 'almost': 4.213138242531468,\n",
       " 'almosta': 10.243823502792731,\n",
       " 'almowt': 10.243823502792731,\n",
       " 'alo': 9.838358394684567,\n",
       " 'aloe': 8.85752914167284,\n",
       " 'aloha': 9.145211214124622,\n",
       " 'alone': 5.960236940932102,\n",
       " 'along': 5.334851862472975,\n",
       " 'alongside': 8.63438559035863,\n",
       " 'alookin': 10.243823502792731,\n",
       " 'alopecia': 10.243823502792731,\n",
       " 'alot': 6.245622801123533,\n",
       " 'alotof': 10.243823502792731,\n",
       " 'alouette': 10.243823502792731,\n",
       " 'alow': 10.243823502792731,\n",
       " 'alpenz': 10.243823502792731,\n",
       " 'alpha': 8.739746106016458,\n",
       " 'alphabet': 9.550676322232786,\n",
       " 'alphabetical': 10.243823502792731,\n",
       " 'alphabets': 10.243823502792731,\n",
       " 'alpine': 9.550676322232786,\n",
       " 'alpo': 9.838358394684567,\n",
       " 'alps': 10.243823502792731,\n",
       " 'already': 5.2844815030840255,\n",
       " 'alreday': 10.243823502792731,\n",
       " 'alright': 8.103757339296461,\n",
       " 'als': 10.243823502792731,\n",
       " 'also': 3.0752436055286956,\n",
       " 'alsohelped': 10.243823502792731,\n",
       " 'alsoknow': 10.243823502792731,\n",
       " 'alsway': 10.243823502792731,\n",
       " 'alt': 10.243823502792731,\n",
       " 'alter': 8.37202132589114,\n",
       " 'alteration': 9.838358394684567,\n",
       " 'altered': 8.991060534297363,\n",
       " 'altering': 9.838358394684567,\n",
       " 'alternaive': 10.243823502792731,\n",
       " 'alternataly': 10.243823502792731,\n",
       " 'alternate': 7.758916853004731,\n",
       " 'alternated': 10.243823502792731,\n",
       " 'alternately': 10.243823502792731,\n",
       " 'alternates': 10.243823502792731,\n",
       " 'alternating': 9.145211214124622,\n",
       " 'alternative': 5.10802506574247,\n",
       " 'alternatively': 9.838358394684567,\n",
       " 'alternatives': 7.175770567659114,\n",
       " 'alterra': 10.243823502792731,\n",
       " 'alters': 9.838358394684567,\n",
       " 'altho': 9.145211214124622,\n",
       " 'although': 4.779991697767121,\n",
       " 'althought': 10.243823502792731,\n",
       " 'altitude': 9.550676322232786,\n",
       " 'altogether': 8.37202132589114,\n",
       " 'altogther': 10.243823502792731,\n",
       " 'altoid': 9.145211214124622,\n",
       " 'altoids': 7.410610158736515,\n",
       " 'altough': 10.243823502792731,\n",
       " 'altria': 10.243823502792731,\n",
       " 'altrnative': 10.243823502792731,\n",
       " 'altruism': 10.243823502792731,\n",
       " 'altura': 9.327532770918577,\n",
       " 'aluminium': 10.243823502792731,\n",
       " 'aluminum': 7.535773301690521,\n",
       " 'alvita': 9.550676322232786,\n",
       " 'alway': 9.550676322232786,\n",
       " 'always': 3.8510692189870652,\n",
       " 'alwaysdirect': 10.243823502792731,\n",
       " 'alyssia': 10.243823502792731,\n",
       " 'alzheimer': 10.243823502792731,\n",
       " 'alzheimers': 10.243823502792731,\n",
       " 'ama': 9.550676322232786,\n",
       " 'amade': 9.838358394684567,\n",
       " 'amamzon': 10.243823502792731,\n",
       " 'amanda': 9.838358394684567,\n",
       " 'amango': 10.243823502792731,\n",
       " 'amaon': 10.243823502792731,\n",
       " 'amaranth': 8.991060534297363,\n",
       " 'amarena': 10.243823502792731,\n",
       " 'amaretto': 8.85752914167284,\n",
       " 'amart': 10.243823502792731,\n",
       " 'amash': 10.243823502792731,\n",
       " 'amason': 10.243823502792731,\n",
       " 'amateur': 9.550676322232786,\n",
       " 'amateurs': 10.243823502792731,\n",
       " 'amatuer': 10.243823502792731,\n",
       " 'amatureflowers': 10.243823502792731,\n",
       " 'amay': 10.243823502792731,\n",
       " 'amayzing': 10.243823502792731,\n",
       " 'amazaing': 10.243823502792731,\n",
       " 'amaze': 9.327532770918577,\n",
       " 'amazed': 6.632905590148507,\n",
       " 'amazement': 9.145211214124622,\n",
       " 'amazes': 10.243823502792731,\n",
       " 'amazing': 4.866232955350187,\n",
       " 'amazingggggggggg': 10.243823502792731,\n",
       " 'amazingly': 7.152781049434415,\n",
       " 'amazn': 10.243823502792731,\n",
       " 'amazon': 3.0710152694191746,\n",
       " 'amazonbox': 10.243823502792731,\n",
       " 'amazoncustomer': 10.243823502792731,\n",
       " 'amazondid': 10.243823502792731,\n",
       " 'amazonians': 10.243823502792731,\n",
       " 'amazonprime': 10.243823502792731,\n",
       " 'amazons': 8.739746106016458,\n",
       " 'amazonthey': 10.243823502792731,\n",
       " 'ambassador': 10.243823502792731,\n",
       " 'amber': 7.84592822999436,\n",
       " 'ambien': 10.243823502792731,\n",
       " 'ambient': 9.838358394684567,\n",
       " 'ambiguously': 10.243823502792731,\n",
       " 'ambitious': 10.243823502792731,\n",
       " 'ambivalent': 10.243823502792731,\n",
       " 'ambrosia': 8.85752914167284,\n",
       " 'ambulance': 10.243823502792731,\n",
       " 'amd': 10.243823502792731,\n",
       " 'amdthe': 10.243823502792731,\n",
       " 'ameal': 10.243823502792731,\n",
       " 'amedei': 9.838358394684567,\n",
       " 'amedicinal': 10.243823502792731,\n",
       " 'ameliorate': 10.243823502792731,\n",
       " 'amen': 9.838358394684567,\n",
       " 'amenable': 10.243823502792731,\n",
       " 'amend': 9.838358394684567,\n",
       " 'amendments': 10.243823502792731,\n",
       " 'america': 6.893919415518126,\n",
       " 'americamarmite': 10.243823502792731,\n",
       " 'american': 6.141180137755935,\n",
       " 'americanized': 9.145211214124622,\n",
       " 'americano': 9.327532770918577,\n",
       " 'americans': 8.103757339296461,\n",
       " 'americas': 9.838358394684567,\n",
       " 'americolor': 10.243823502792731,\n",
       " 'amexican': 10.243823502792731,\n",
       " 'amid': 9.838358394684567,\n",
       " 'amiddle': 10.243823502792731,\n",
       " 'amidst': 10.243823502792731,\n",
       " 'amilk': 10.243823502792731,\n",
       " 'amini': 10.243823502792731,\n",
       " 'amino': 8.63438559035863,\n",
       " 'aminopterin': 10.243823502792731,\n",
       " 'aminos': 10.243823502792731,\n",
       " 'amisc': 10.243823502792731,\n",
       " 'amish': 8.991060534297363,\n",
       " 'amiss': 10.243823502792731,\n",
       " 'amix': 9.838358394684567,\n",
       " 'amla': 9.550676322232786,\n",
       " 'ammish': 10.243823502792731,\n",
       " 'ammonium': 9.838358394684567,\n",
       " 'ammount': 9.327532770918577,\n",
       " 'amnio': 10.243823502792731,\n",
       " 'amon': 9.145211214124622,\n",
       " 'among': 6.580261856663085,\n",
       " 'amongst': 8.63438559035863,\n",
       " 'amont': 10.243823502792731,\n",
       " 'amore': 9.145211214124622,\n",
       " 'amorphous': 10.243823502792731,\n",
       " 'amos': 10.243823502792731,\n",
       " 'amoujt': 10.243823502792731,\n",
       " 'amoung': 10.243823502792731,\n",
       " 'amount': 4.477066228975142,\n",
       " 'amounted': 10.243823502792731,\n",
       " 'amounts': 6.632905590148507,\n",
       " 'amountthat': 10.243823502792731,\n",
       " 'amountyou': 10.243823502792731,\n",
       " 'amour': 10.243823502792731,\n",
       " 'amout': 9.838358394684567,\n",
       " 'amoxicillin': 10.243823502792731,\n",
       " 'amozon': 9.550676322232786,\n",
       " 'amozons': 10.243823502792731,\n",
       " 'amp': 9.550676322232786,\n",
       " 'amped': 10.243823502792731,\n",
       " 'ample': 8.739746106016458,\n",
       " 'ampliamente': 10.243823502792731,\n",
       " 'amplified': 10.243823502792731,\n",
       " 'amplify': 9.838358394684567,\n",
       " 'amply': 10.243823502792731,\n",
       " 'amps': 10.243823502792731,\n",
       " 'amstaff': 9.838358394684567,\n",
       " 'amt': 9.550676322232786,\n",
       " 'amukhwas': 10.243823502792731,\n",
       " 'amulti': 10.243823502792731,\n",
       " 'amused': 9.145211214124622,\n",
       " 'amusement': 9.838358394684567,\n",
       " 'amuses': 10.243823502792731,\n",
       " 'amusing': 10.243823502792731,\n",
       " 'amy': 8.164381961112895,\n",
       " 'amyps': 10.243823502792731,\n",
       " 'amystery': 10.243823502792731,\n",
       " 'amzaon': 10.243823502792731,\n",
       " 'amzazon': 10.243823502792731,\n",
       " 'amzing': 10.243823502792731,\n",
       " 'amzn': 9.838358394684567,\n",
       " 'amzon': 10.243823502792731,\n",
       " 'ana': 10.243823502792731,\n",
       " 'anaheim': 10.243823502792731,\n",
       " 'anal': 9.145211214124622,\n",
       " 'analgesic': 10.243823502792731,\n",
       " 'analize': 10.243823502792731,\n",
       " 'analog': 10.243823502792731,\n",
       " 'analogy': 9.550676322232786,\n",
       " 'analysis': 8.164381961112895,\n",
       " 'analyze': 10.243823502792731,\n",
       " 'analyzed': 10.243823502792731,\n",
       " 'analyzing': 10.243823502792731,\n",
       " 'ananomously': 10.243823502792731,\n",
       " 'anaphylactic': 10.243823502792731,\n",
       " 'anaphylaxis': 10.243823502792731,\n",
       " 'anardana': 10.243823502792731,\n",
       " 'anatomic': 10.243823502792731,\n",
       " 'anatomy': 10.243823502792731,\n",
       " 'ance': 10.243823502792731,\n",
       " 'ancestors': 9.838358394684567,\n",
       " 'ancestry': 10.243823502792731,\n",
       " 'ancho': 9.838358394684567,\n",
       " 'anchony': 10.243823502792731,\n",
       " 'anchor': 9.550676322232786,\n",
       " 'anchorage': 10.243823502792731,\n",
       " 'anchored': 10.243823502792731,\n",
       " 'anchovies': 9.145211214124622,\n",
       " 'anchovy': 9.145211214124622,\n",
       " 'anchoy': 10.243823502792731,\n",
       " 'ancient': 9.838358394684567,\n",
       " 'anda': 9.550676322232786,\n",
       " 'andall': 10.243823502792731,\n",
       " 'andare': 10.243823502792731,\n",
       " 'andblue': 10.243823502792731,\n",
       " 'andcheese': 10.243823502792731,\n",
       " 'andconcerns': 10.243823502792731,\n",
       " 'anddecided': 10.243823502792731,\n",
       " 'ande': 10.243823502792731,\n",
       " 'andernette': 10.243823502792731,\n",
       " 'anderson': 9.550676322232786,\n",
       " 'andersons': 9.838358394684567,\n",
       " 'andes': 10.243823502792731,\n",
       " 'andexcellent': 10.243823502792731,\n",
       " 'andfell': 10.243823502792731,\n",
       " 'andfollow': 10.243823502792731,\n",
       " 'andfreeze': 10.243823502792731,\n",
       " 'andhe': 10.243823502792731,\n",
       " 'andi': 9.838358394684567,\n",
       " 'andit': 10.243823502792731,\n",
       " 'andlet': 10.243823502792731,\n",
       " 'andmicrobiological': 10.243823502792731,\n",
       " 'andnot': 10.243823502792731,\n",
       " 'andour': 10.243823502792731,\n",
       " 'andpassed': 10.243823502792731,\n",
       " 'andpink': 10.243823502792731,\n",
       " 'andre': 10.243823502792731,\n",
       " 'andreja': 10.243823502792731,\n",
       " 'andrew': 9.550676322232786,\n",
       " 'andtaste': 10.243823502792731,\n",
       " 'andthey': 10.243823502792731,\n",
       " 'andthis': 9.838358394684567,\n",
       " 'anduse': 10.243823502792731,\n",
       " 'andworcestershire': 10.243823502792731,\n",
       " 'andyway': 10.243823502792731,\n",
       " 'aneasy': 10.243823502792731,\n",
       " 'anecdotally': 10.243823502792731,\n",
       " 'anecdote': 10.243823502792731,\n",
       " 'anemia': 9.838358394684567,\n",
       " 'anemic': 9.327532770918577,\n",
       " 'anesthesia': 9.838358394684567,\n",
       " 'angel': 7.678874145331195,\n",
       " 'angeles': 9.838358394684567,\n",
       " 'angelic': 10.243823502792731,\n",
       " 'angelina': 9.550676322232786,\n",
       " 'angels': 10.243823502792731,\n",
       " 'anger': 10.243823502792731,\n",
       " 'angle': 8.991060534297363,\n",
       " 'angles': 10.243823502792731,\n",
       " 'angora': 9.838358394684567,\n",
       " 'angrily': 9.838358394684567,\n",
       " 'angry': 8.539075410554306,\n",
       " 'anguish': 9.550676322232786,\n",
       " 'anguished': 10.243823502792731,\n",
       " 'angustifolia': 10.243823502792731,\n",
       " 'animal': 6.606237343066345,\n",
       " 'animals': 6.966678769800555,\n",
       " 'animated': 10.243823502792731,\n",
       " 'animation': 10.243823502792731,\n",
       " 'animator': 10.243823502792731,\n",
       " 'anime': 10.243823502792731,\n",
       " 'anise': 8.103757339296461,\n",
       " 'aniseed': 10.243823502792731,\n",
       " 'anisette': 10.243823502792731,\n",
       " 'anjou': 10.243823502792731,\n",
       " 'anjoyed': 10.243823502792731,\n",
       " 'ankles': 9.838358394684567,\n",
       " 'ann': 9.838358394684567,\n",
       " 'anna': 9.838358394684567,\n",
       " 'annabelle': 10.243823502792731,\n",
       " 'annatto': 9.838358394684567,\n",
       " 'annd': 10.243823502792731,\n",
       " 'anneeavon': 10.243823502792731,\n",
       " 'annette': 10.243823502792731,\n",
       " 'annie': 7.718094858484475,\n",
       " 'annies': 9.838358394684567,\n",
       " 'annihilated': 10.243823502792731,\n",
       " 'anniv': 10.243823502792731,\n",
       " 'anniversary': 9.145211214124622,\n",
       " 'announce': 9.838358394684567,\n",
       " 'announced': 10.243823502792731,\n",
       " 'announcement': 9.838358394684567,\n",
       " 'announces': 10.243823502792731,\n",
       " 'announcing': 10.243823502792731,\n",
       " 'annoyance': 9.550676322232786,\n",
       " 'annoyed': 8.37202132589114,\n",
       " 'annoying': 7.718094858484475,\n",
       " 'annoyingly': 10.243823502792731,\n",
       " 'annual': 8.85752914167284,\n",
       " 'anny': 10.243823502792731,\n",
       " 'anomaly': 10.243823502792731,\n",
       " 'anonymous': 10.243823502792731,\n",
       " 'anorexia': 10.243823502792731,\n",
       " 'anorexic': 10.243823502792731,\n",
       " 'another': 4.18938415652336,\n",
       " 'anotherdecision': 10.243823502792731,\n",
       " 'anoutstanding': 10.243823502792731,\n",
       " 'ans': 10.243823502792731,\n",
       " 'answer': 6.826096819179365,\n",
       " 'answered': 8.452064033564676,\n",
       " 'answering': 9.838358394684567,\n",
       " 'answers': 9.327532770918577,\n",
       " 'ant': 9.550676322232786,\n",
       " 'antacid': 9.145211214124622,\n",
       " 'antacids': 10.243823502792731,\n",
       " 'antar': 10.243823502792731,\n",
       " ...}"
      ]
     },
     "execution_count": 192,
     "metadata": {},
     "output_type": "execute_result"
    }
   ],
   "source": [
    "model = TfidfVectorizer()\n",
    "tf_idf_matrix = model.fit_transform(X_train)\n",
    "# we are converting a dictionary with word as a key, and the idf as a value\n",
    "dictionary = dict(zip(model.get_feature_names(), list(model.idf_)))\n",
    "dictionary"
   ]
  },
  {
   "cell_type": "code",
   "execution_count": 193,
   "metadata": {},
   "outputs": [],
   "source": [
    "# TF-IDF weighted Word2Vec\n",
    "tfidf_feat = model.get_feature_names() # tfidf words/col-names\n",
    "# final_tf_idf is the sparse matrix with row= sentence, col=word and cell_val = tfidf\n",
    "def getTFIDFW2vec(list_of_sentance):\n",
    "    tfidf_sent_vectors = []; # the tfidf-w2v for each sentence/review is stored in this list\n",
    "    row=0;\n",
    "    for sent in list_of_sentance: # for each review/sentence \n",
    "        sent_vec = np.zeros(50) # as word vectors are of zero length\n",
    "        weight_sum =0; # num of words with a valid vector in the sentence/review\n",
    "        for word in sent.split(' '): # for each word in a review/sentence\n",
    "#             print(len(word))\n",
    "            if word in w2v_words and word in tfidf_feat:\n",
    "#                 print(word)\n",
    "                vec = w2v_model.wv[word]\n",
    "#                 print(vec)\n",
    "                # tf_idf = tf_idf_matrix[row, tfidf_feat.index(word)]\n",
    "                # to reduce the computation we are \n",
    "                # dictionary[word] = idf value of word in whole courpus\n",
    "                # sent.count(word) = tf valeus of word in this review\n",
    "                tf_idf = dictionary[word]*(sent.count(word)/len(sent))\n",
    "                sent_vec += (vec * tf_idf)\n",
    "                weight_sum += tf_idf\n",
    "        if weight_sum != 0:\n",
    "            sent_vec /= weight_sum\n",
    "#         print(sent_vec)\n",
    "        tfidf_sent_vectors.append(sent_vec)\n",
    "        row += 1\n",
    "#     print(tfidf_sent_vectors)\n",
    "    return np.array(tfidf_sent_vectors)\n"
   ]
  },
  {
   "cell_type": "code",
   "execution_count": 194,
   "metadata": {},
   "outputs": [
    {
     "data": {
      "text/plain": [
       "15204"
      ]
     },
     "execution_count": 194,
     "metadata": {},
     "output_type": "execute_result"
    }
   ],
   "source": [
    "len(X_test)"
   ]
  },
  {
   "cell_type": "code",
   "execution_count": 195,
   "metadata": {},
   "outputs": [
    {
     "name": "stdout",
     "output_type": "stream",
     "text": [
      "(20680, 50)\n"
     ]
    }
   ],
   "source": [
    "X_train_tfidfw2vec = getTFIDFW2vec(X_train) \n",
    "print(X_train_tfidfw2vec.shape)"
   ]
  },
  {
   "cell_type": "code",
   "execution_count": 196,
   "metadata": {},
   "outputs": [
    {
     "name": "stdout",
     "output_type": "stream",
     "text": [
      "(10187, 50)\n"
     ]
    }
   ],
   "source": [
    "X_cv_tfidfw2vec = getTFIDFW2vec(X_cv) \n",
    "print(X_cv_tfidfw2vec.shape)"
   ]
  },
  {
   "cell_type": "code",
   "execution_count": 197,
   "metadata": {},
   "outputs": [
    {
     "name": "stdout",
     "output_type": "stream",
     "text": [
      "(15204, 50)\n"
     ]
    }
   ],
   "source": [
    "X_test_tfidfw2vec = getTFIDFW2vec(X_test) \n",
    "print(X_test_tfidfw2vec.shape)"
   ]
  },
  {
   "cell_type": "code",
   "execution_count": 198,
   "metadata": {},
   "outputs": [],
   "source": [
    "X_train_tfidfw2vec = StandardScaler(with_mean=False).fit_transform(X_train_tfidfw2vec)\n",
    "X_cv_tfidfw2vec = StandardScaler(with_mean=False).fit_transform(X_cv_tfidfw2vec)\n",
    "X_test_tfidfw2vec = StandardScaler(with_mean=False).fit_transform(X_test_tfidfw2vec)"
   ]
  },
  {
   "cell_type": "code",
   "execution_count": 199,
   "metadata": {},
   "outputs": [
    {
     "data": {
      "image/png": "[encoded data removed]",
      "text/plain": [
       "<Figure size 432x288 with 1 Axes>"
      ]
     },
     "metadata": {
      "needs_background": "light"
     },
     "output_type": "display_data"
    }
   ],
   "source": [
    "\n",
    "\"\"\"\n",
    "y_true : array, shape = [n_samples] or [n_samples, n_classes]\n",
    "True binary labels or binary label indicators.\n",
    "\n",
    "y_score : array, shape = [n_samples] or [n_samples, n_classes]\n",
    "Target scores, can either be probability estimates of the positive class, confidence values, or non-thresholded measure of\n",
    "decisions (as returned by “decision_function” on some classifiers). \n",
    "For binary y_true, y_score is supposed to be the score of the class with greater label.\n",
    "\n",
    "\"\"\"\n",
    "train_auc = []\n",
    "cv_auc = []\n",
    "K = [1, 7, 14, 21, 28,35 , 42,50]\n",
    "for i in K:\n",
    "    neigh = KNeighborsClassifier(n_neighbors=i,algorithm = 'brute')\n",
    "    neigh.fit(X_train_tfidfw2vec, y_train)\n",
    "    y_train_pred =  neigh.predict_proba(X_train_tfidfw2vec)[:,1]\n",
    "    y_cv_pred =  neigh.predict_proba(X_cv_tfidfw2vec)[:,1]\n",
    "    \n",
    "    train_auc.append(roc_auc_score(y_train,y_train_pred))\n",
    "    cv_auc.append(roc_auc_score(y_cv, y_cv_pred))\n",
    "    # roc_auc_score(y_true, y_score) the 2nd parameter should be probability estimates of the positive class\n",
    "    # not the predicted outputs\n",
    "    \n",
    "    \n",
    "plt.plot(K, train_auc, label='Train AUC')\n",
    "plt.plot(K, cv_auc, label='CV AUC')\n",
    "plt.legend()\n",
    "plt.xlabel(\"K: hyperparameter\")\n",
    "plt.ylabel(\"AUC\")\n",
    "plt.title(\"ERROR PLOTS\")\n",
    "plt.show()"
   ]
  },
  {
   "cell_type": "code",
   "execution_count": 200,
   "metadata": {},
   "outputs": [
    {
     "data": {
      "text/plain": [
       "42"
      ]
     },
     "execution_count": 200,
     "metadata": {},
     "output_type": "execute_result"
    }
   ],
   "source": [
    "#here we are choosing the best_k based on forloop cv_auc results\n",
    "best_k = K[cv_auc.index(max(cv_auc))]\n",
    "best_k"
   ]
  },
  {
   "cell_type": "markdown",
   "metadata": {},
   "source": [
    "## Testing with Test data"
   ]
  },
  {
   "cell_type": "code",
   "execution_count": 201,
   "metadata": {},
   "outputs": [
    {
     "data": {
      "image/png": "[encoded data removed]",
      "text/plain": [
       "<Figure size 432x288 with 1 Axes>"
      ]
     },
     "metadata": {
      "needs_background": "light"
     },
     "output_type": "display_data"
    },
    {
     "name": "stdout",
     "output_type": "stream",
     "text": [
      "====================================================================================================\n",
      "Train confusion matrix\n",
      "[[  760  2667]\n",
      " [  215 17038]]\n",
      "Test confusion matrix\n",
      "[[  431  2044]\n",
      " [  189 12540]]\n"
     ]
    }
   ],
   "source": [
    "\n",
    "# https://scikit-learn.org/stable/modules/generated/sklearn.metrics.roc_curve.html\n",
    "#sklearn.metrics.roc_curve\n",
    "from sklearn.metrics import roc_curve, auc\n",
    "\n",
    "\n",
    "neigh = KNeighborsClassifier(n_neighbors=best_k,algorithm = 'brute')\n",
    "neigh.fit(X_train_tfidfw2vec, y_train)\n",
    "# roc_auc_score(y_true, y_score) the 2nd parameter should be probability estimates of the positive class\n",
    "# not the predicted outputs\n",
    "train_fpr, train_tpr, thresholds = roc_curve(y_train_roc, neigh.predict_proba(X_train_tfidfw2vec)[:,1])\n",
    "test_fpr, test_tpr, thresholds = roc_curve(y_test_roc, neigh.predict_proba(X_test_tfidfw2vec)[:,1])\n",
    "\n",
    "plt.plot(train_fpr, train_tpr, label=\"train AUC =\"+str(auc(train_fpr, train_tpr)))\n",
    "plt.plot(test_fpr, test_tpr, label=\"test AUC =\"+str(auc(test_fpr, test_tpr)))\n",
    "plt.legend()\n",
    "plt.xlabel(\"FPR\")\n",
    "plt.ylabel(\"TPR\")\n",
    "plt.title(\"ROC Curve Train vs Test\")\n",
    "plt.show()\n",
    "\n",
    "print(\"=\"*100)\n",
    "\n",
    "from sklearn.metrics import confusion_matrix\n",
    "cmTraintfidfw2vec = confusion_matrix(y_train, neigh.predict(X_train_tfidfw2vec))\n",
    "cmTesttfidfw2vec = confusion_matrix(y_test, neigh.predict(X_test_tfidfw2vec))\n",
    "print(\"Train confusion matrix\")\n",
    "print(cmTraintfidfw2vec)\n",
    "print(\"Test confusion matrix\")\n",
    "print(cmTesttfidfw2vec)"
   ]
  },
  {
   "cell_type": "code",
   "execution_count": 202,
   "metadata": {},
   "outputs": [
    {
     "data": {
      "image/png": "[encoded data removed]",
      "text/plain": [
       "<Figure size 720x720 with 2 Axes>"
      ]
     },
     "metadata": {
      "needs_background": "light"
     },
     "output_type": "display_data"
    }
   ],
   "source": [
    "# confusion matrix on train data\n",
    "\n",
    "cm_analysis(y_train, neigh.predict(X_train_tfidfw2vec), [\"negative\",\"positive\"], ymap=None, figsize=(10,10))"
   ]
  },
  {
   "cell_type": "code",
   "execution_count": 203,
   "metadata": {},
   "outputs": [
    {
     "data": {
      "image/png": "[encoded data removed]",
      "text/plain": [
       "<Figure size 720x720 with 2 Axes>"
      ]
     },
     "metadata": {
      "needs_background": "light"
     },
     "output_type": "display_data"
    }
   ],
   "source": [
    "# confusion matrix on test data\n",
    "\n",
    "cm_analysis(y_test, neigh.predict(X_test_tfidfw2vec), [\"negative\",\"positive\"], ymap=None, figsize=(10,10))"
   ]
  },
  {
   "cell_type": "markdown",
   "metadata": {},
   "source": [
    "## [5.2] Applying KNN kd-tree on 20000 datapoints"
   ]
  },
  {
   "cell_type": "code",
   "execution_count": 205,
   "metadata": {},
   "outputs": [
    {
     "data": {
      "text/plain": [
       "20000"
      ]
     },
     "execution_count": 205,
     "metadata": {},
     "output_type": "execute_result"
    }
   ],
   "source": [
    "preprocessed_reviewsknn = np.array(preprocessed_reviews[:20000])\n",
    "len(preprocessed_reviewsknn)"
   ]
  },
  {
   "cell_type": "code",
   "execution_count": 206,
   "metadata": {},
   "outputs": [],
   "source": [
    "finalvalues = np.array((final['Score'].values)[:20000])"
   ]
  },
  {
   "cell_type": "code",
   "execution_count": 207,
   "metadata": {},
   "outputs": [
    {
     "data": {
      "text/plain": [
       "20000"
      ]
     },
     "execution_count": 207,
     "metadata": {},
     "output_type": "execute_result"
    }
   ],
   "source": [
    "len(finalvalues) "
   ]
  },
  {
   "cell_type": "code",
   "execution_count": 208,
   "metadata": {},
   "outputs": [
    {
     "name": "stdout",
     "output_type": "stream",
     "text": [
      "3236\n",
      "16764\n"
     ]
    }
   ],
   "source": [
    "print(list(finalvalues).count(\"negative\"))\n",
    "print(list(finalvalues).count(\"positive\"))"
   ]
  },
  {
   "cell_type": "code",
   "execution_count": 209,
   "metadata": {},
   "outputs": [
    {
     "name": "stdout",
     "output_type": "stream",
     "text": [
      "(8978,) (8978,)\n",
      "(4422,) (4422,)\n",
      "(6600,) (6600,)\n",
      "==================================================\n"
     ]
    }
   ],
   "source": [
    "# https://scikit-learn.org/stable/modules/generated/sklearn.model_selection.train_test_split.html\n",
    "from sklearn.model_selection import train_test_split\n",
    "X_train, X_test, y_train, y_test = train_test_split( np.asarray(preprocessed_reviewsknn), finalvalues, test_size=0.33, random_state=0)\n",
    "X_train, X_cv, y_train, y_cv = train_test_split(X_train, y_train, test_size=0.33) \n",
    "\n",
    "# https://scikit-learn.org/stable/modules/generated/sklearn.model_selection.train_test_split.html\n",
    "from sklearn.model_selection import train_test_split\n",
    "X_train, X_test, y_train, y_test = train_test_split( np.asarray(preprocessed_reviewsknn), finalvalues, test_size=0.33, random_state=0)\n",
    "X_train, X_cv, y_train, y_cv = train_test_split(X_train, y_train, test_size=0.33) \n",
    "\n",
    "\n",
    "print(X_train.shape, y_train.shape)\n",
    "print(X_cv.shape, y_cv.shape)\n",
    "print(X_test.shape, y_test.shape)\n",
    "\n",
    "print(\"=\"*50)\n"
   ]
  },
  {
   "cell_type": "markdown",
   "metadata": {},
   "source": [
    "### [5.2.1] Applying KNN kd-tree on BOW,<font color='red'> SET 5</font>"
   ]
  },
  {
   "cell_type": "code",
   "execution_count": 210,
   "metadata": {},
   "outputs": [
    {
     "name": "stdout",
     "output_type": "stream",
     "text": [
      "(8978, 18338)\n",
      "(4422, 18338)\n",
      "(6600, 18338)\n",
      "==================================================\n"
     ]
    }
   ],
   "source": [
    "\n",
    "#BoW\n",
    "count_vect = CountVectorizer() #in scikit-learn\n",
    "count_vect.fit(X_train)\n",
    "\n",
    "X_train_Bow = count_vect.transform(X_train).todense()\n",
    "X_cv_Bow = count_vect.transform(X_cv).todense() \n",
    "X_test_Bow = count_vect.transform(X_test).todense()\n",
    "\n",
    "print(X_train_Bow.shape)\n",
    "print(X_cv_Bow.shape)\n",
    "print(X_test_Bow.shape)\n",
    "\n",
    "print(\"=\"*50)"
   ]
  },
  {
   "cell_type": "code",
   "execution_count": 211,
   "metadata": {},
   "outputs": [],
   "source": [
    "X_train_Bow = StandardScaler(with_mean=False).fit_transform(X_train_Bow)\n",
    "X_cv_Bow = StandardScaler(with_mean=False).fit_transform(X_cv_Bow)\n",
    "X_test_Bow = StandardScaler(with_mean=False).fit_transform(X_test_Bow)"
   ]
  },
  {
   "cell_type": "code",
   "execution_count": 33,
   "metadata": {},
   "outputs": [
    {
     "name": "stderr",
     "output_type": "stream",
     "text": [
      "100%|████████████████████████████████████████████████████████████████████████████████| 4/4 [5:43:14<00:00, 5106.63s/it]\n"
     ]
    },
    {
     "data": {
      "image/png": "[encoded data removed]",
      "text/plain": [
       "<Figure size 432x288 with 1 Axes>"
      ]
     },
     "metadata": {
      "needs_background": "light"
     },
     "output_type": "display_data"
    }
   ],
   "source": [
    "# Please write all the code with proper documentation\n",
    "\n",
    "\"\"\"\n",
    "y_true : array, shape = [n_samples] or [n_samples, n_classes]\n",
    "True binary labels or binary label indicators.\n",
    "\n",
    "y_score : array, shape = [n_samples] or [n_samples, n_classes]\n",
    "Target scores, can either be probability estimates of the positive class, confidence values, or non-thresholded measure of\n",
    "decisions (as returned by “decision_function” on some classifiers). \n",
    "For binary y_true, y_score is supposed to be the score of the class with greater label.\n",
    "\n",
    "\"\"\"\n",
    "train_auc = []\n",
    "cv_auc = []\n",
    "K = [1,14, 21,50]\n",
    "for i in tqdm(K):\n",
    "    neigh = KNeighborsClassifier(n_neighbors=i,algorithm = \"kd_tree\")\n",
    "    neigh.fit(X_train_Bow, y_train)\n",
    "    y_train_pred =  neigh.predict_proba(X_train_Bow)[:,1]\n",
    "    y_cv_pred =  neigh.predict_proba(X_cv_Bow)[:,1]\n",
    "  \n",
    "    \n",
    "    train_auc.append(roc_auc_score(y_train,y_train_pred))\n",
    "    cv_auc.append(roc_auc_score(y_cv, y_cv_pred))\n",
    "    # roc_auc_score(y_true, y_score) the 2nd parameter should be probability estimates of the positive class\n",
    "    # not the predicted outputs\n",
    "    \n",
    "    \n",
    "plt.plot(K, train_auc, label='Train AUC')\n",
    "plt.plot(K, cv_auc, label='CV AUC')\n",
    "plt.legend()\n",
    "plt.xlabel(\"K: hyperparameter\")\n",
    "plt.ylabel(\"AUC\")\n",
    "plt.title(\"ERROR PLOTS\")\n",
    "plt.show()"
   ]
  },
  {
   "cell_type": "markdown",
   "metadata": {},
   "source": [
    "## Testing with Test data"
   ]
  },
  {
   "cell_type": "code",
   "execution_count": 218,
   "metadata": {},
   "outputs": [
    {
     "data": {
      "text/plain": [
       "42"
      ]
     },
     "execution_count": 218,
     "metadata": {},
     "output_type": "execute_result"
    }
   ],
   "source": [
    "#here we are choosing the best_k based on forloop cv_auc results\n",
    "best_k = K[cv_auc.index(max(cv_auc))]\n",
    "best_k"
   ]
  },
  {
   "cell_type": "code",
   "execution_count": 213,
   "metadata": {},
   "outputs": [],
   "source": [
    "def into01(n):\n",
    "    if(n==\"positive\"):\n",
    "        return 1\n",
    "    else :\n",
    "        return 0\n",
    "\n"
   ]
  },
  {
   "cell_type": "code",
   "execution_count": 214,
   "metadata": {},
   "outputs": [],
   "source": [
    "y_train_roc = list(map(into01,y_train))\n",
    "y_test_roc = list(map(into01,y_test))"
   ]
  },
  {
   "cell_type": "code",
   "execution_count": 215,
   "metadata": {},
   "outputs": [
    {
     "data": {
      "image/png": "[encoded data removed]",
      "text/plain": [
       "<Figure size 432x288 with 1 Axes>"
      ]
     },
     "metadata": {
      "needs_background": "light"
     },
     "output_type": "display_data"
    },
    {
     "name": "stdout",
     "output_type": "stream",
     "text": [
      "====================================================================================================\n"
     ]
    }
   ],
   "source": [
    "# https://scikit-learn.org/stable/modules/generated/sklearn.metrics.roc_curve.html\n",
    "#sklearn.metrics.roc_curve\n",
    "from sklearn.metrics import roc_curve, auc\n",
    "\n",
    "\n",
    "neigh = KNeighborsClassifier(n_neighbors=best_k,algorithm = \"kd_tree\")\n",
    "neigh.fit(X_train_Bow, y_train)\n",
    "# roc_auc_score(y_true, y_score) the 2nd parameter should be probability estimates of the positive class\n",
    "# not the predicted outputs\n",
    "train_fpr, train_tpr, thresholds = roc_curve(y_train_roc, neigh.predict_proba(X_train_Bow)[:,1])\n",
    "test_fpr, test_tpr, thresholds = roc_curve(y_test_roc, neigh.predict_proba(X_test_Bow)[:,1])\n",
    "\n",
    "plt.plot(train_fpr, train_tpr, label=\"train AUC =\"+str(auc(train_fpr, train_tpr)))\n",
    "plt.plot(test_fpr, test_tpr, label=\"test AUC =\"+str(auc(test_fpr, test_tpr)))\n",
    "plt.legend()\n",
    "plt.xlabel(\"FPR\")\n",
    "plt.ylabel(\"TPR\")\n",
    "plt.title(\"ROC Curve Train vs Test\")\n",
    "plt.show()\n",
    "\n",
    "print(\"=\"*100)"
   ]
  },
  {
   "cell_type": "code",
   "execution_count": 216,
   "metadata": {},
   "outputs": [
    {
     "data": {
      "image/png": "[encoded data removed]",
      "text/plain": [
       "<Figure size 720x720 with 2 Axes>"
      ]
     },
     "metadata": {
      "needs_background": "light"
     },
     "output_type": "display_data"
    }
   ],
   "source": [
    "# confusion matrix on train data\n",
    "\n",
    "cm_analysis(y_train, neigh.predict(X_train_Bow), [\"negative\",\"positive\"], ymap=None, figsize=(10,10))"
   ]
  },
  {
   "cell_type": "code",
   "execution_count": 217,
   "metadata": {},
   "outputs": [
    {
     "data": {
      "image/png": "[encoded data removed]",
      "text/plain": [
       "<Figure size 720x720 with 2 Axes>"
      ]
     },
     "metadata": {
      "needs_background": "light"
     },
     "output_type": "display_data"
    }
   ],
   "source": [
    "# confusion matrix on test data\n",
    "\n",
    "cm_analysis(y_test, neigh.predict(X_test_Bow), [\"negative\",\"positive\"], ymap=None, figsize=(10,10))"
   ]
  },
  {
   "cell_type": "markdown",
   "metadata": {},
   "source": [
    "### [5.2.2] Applying KNN kd-tree on TFIDF,<font color='red'> SET 6</font>"
   ]
  },
  {
   "cell_type": "code",
   "execution_count": 3,
   "metadata": {},
   "outputs": [],
   "source": [
    "# Please write all the code with proper documentation"
   ]
  },
  {
   "cell_type": "code",
   "execution_count": 219,
   "metadata": {},
   "outputs": [
    {
     "name": "stdout",
     "output_type": "stream",
     "text": [
      "(8978, 18338)\n",
      "(4422, 18338)\n",
      "(6600, 18338)\n",
      "==================================================\n"
     ]
    }
   ],
   "source": [
    "\n",
    "tfidf_vect = TfidfVectorizer() #in scikit-learn\n",
    "tfidf_vect.fit(X_train)\n",
    "\n",
    "X_train_tfidf = tfidf_vect.transform(X_train).todense()\n",
    "X_cv_tfidf = tfidf_vect.transform(X_cv).todense()\n",
    "X_test_tfidf = tfidf_vect.transform(X_test).todense()\n",
    "\n",
    "print(X_train_tfidf.shape)\n",
    "print(X_cv_tfidf.shape)\n",
    "print(X_test_tfidf.shape)\n",
    "\n",
    "print(\"=\"*50)"
   ]
  },
  {
   "cell_type": "code",
   "execution_count": 220,
   "metadata": {},
   "outputs": [],
   "source": [
    "X_train_tfidf = StandardScaler(with_mean=False).fit_transform(X_train_tfidf)\n",
    "X_cv_tfidf = StandardScaler(with_mean=False).fit_transform(X_cv_tfidf)\n",
    "X_test_tfidf = StandardScaler(with_mean=False).fit_transform(X_test_tfidf)"
   ]
  },
  {
   "cell_type": "code",
   "execution_count": 43,
   "metadata": {},
   "outputs": [
    {
     "data": {
      "image/png": "[encoded data removed]",
      "text/plain": [
       "<Figure size 432x288 with 1 Axes>"
      ]
     },
     "metadata": {
      "needs_background": "light"
     },
     "output_type": "display_data"
    }
   ],
   "source": [
    "train_auctf = []\n",
    "cv_auctf = []\n",
    "K = [1, 7 , 42,50]\n",
    "for i in K:\n",
    "    neigh = KNeighborsClassifier(n_neighbors=i,algorithm = \"kd_tree\")\n",
    "    neigh.fit(X_train_tfidf, y_train)\n",
    "    y_train_pred =  neigh.predict_proba(X_train_tfidf)[:,1]\n",
    "    y_cv_pred =  neigh.predict_proba(X_cv_tfidf)[:,1]\n",
    "    \n",
    "    train_auctf.append(roc_auc_score(y_train,y_train_pred))\n",
    "    cv_auctf.append(roc_auc_score(y_cv, y_cv_pred))\n",
    "    # roc_auc_score(y_true, y_score) the 2nd parameter should be probability estimates of the positive class\n",
    "    # not the predicted outputs\n",
    "    \n",
    "    \n",
    "plt.plot(K, train_auctf, label='Train AUC')\n",
    "plt.plot(K, cv_auctf, label='CV AUC')\n",
    "plt.legend()\n",
    "plt.xlabel(\"K: hyperparameter\")\n",
    "plt.ylabel(\"AUC\")\n",
    "plt.title(\"ERROR PLOTS\")\n",
    "plt.show()"
   ]
  },
  {
   "cell_type": "code",
   "execution_count": 45,
   "metadata": {},
   "outputs": [
    {
     "data": {
      "text/plain": [
       "50"
      ]
     },
     "execution_count": 45,
     "metadata": {},
     "output_type": "execute_result"
    }
   ],
   "source": [
    "#here we are choosing the best_k based on forloop cv_auc results\n",
    "best_k = K[cv_auctf.index(max(cv_auctf))]\n",
    "best_k"
   ]
  },
  {
   "cell_type": "markdown",
   "metadata": {},
   "source": [
    "## Testing with Test data"
   ]
  },
  {
   "cell_type": "code",
   "execution_count": 221,
   "metadata": {},
   "outputs": [
    {
     "data": {
      "image/png": "[encoded data removed]",
      "text/plain": [
       "<Figure size 432x288 with 1 Axes>"
      ]
     },
     "metadata": {
      "needs_background": "light"
     },
     "output_type": "display_data"
    },
    {
     "name": "stdout",
     "output_type": "stream",
     "text": [
      "====================================================================================================\n"
     ]
    }
   ],
   "source": [
    "# https://scikit-learn.org/stable/modules/generated/sklearn.metrics.roc_curve.html\n",
    "#sklearn.metrics.roc_curve\n",
    "from sklearn.metrics import roc_curve, auc\n",
    "\n",
    "\n",
    "neigh = KNeighborsClassifier(n_neighbors=best_k,algorithm = \"kd_tree\")\n",
    "neigh.fit(X_train_tfidf, y_train)\n",
    "# roc_auc_score(y_true, y_score) the 2nd parameter should be probability estimates of the positive class\n",
    "# not the predicted outputs\n",
    "train_fpr, train_tpr, thresholds = roc_curve(y_train_roc, neigh.predict_proba(X_train_tfidf)[:,1])\n",
    "test_fpr, test_tpr, thresholds = roc_curve(y_test_roc, neigh.predict_proba(X_test_tfidf)[:,1])\n",
    "\n",
    "plt.plot(train_fpr, train_tpr, label=\"train AUC =\"+str(auc(train_fpr, train_tpr)))\n",
    "plt.plot(test_fpr, test_tpr, label=\"test AUC =\"+str(auc(test_fpr, test_tpr)))\n",
    "plt.legend()\n",
    "plt.xlabel(\"FPR\")\n",
    "plt.ylabel(\"TPR\")\n",
    "plt.title(\"ROC Curve Train vs Test\")\n",
    "plt.show()\n",
    "\n",
    "print(\"=\"*100)"
   ]
  },
  {
   "cell_type": "code",
   "execution_count": 222,
   "metadata": {},
   "outputs": [
    {
     "data": {
      "image/png": "[encoded data removed]",
      "text/plain": [
       "<Figure size 720x720 with 2 Axes>"
      ]
     },
     "metadata": {
      "needs_background": "light"
     },
     "output_type": "display_data"
    }
   ],
   "source": [
    "# confusion matrix on train data\n",
    "\n",
    "cm_analysis(y_train, neigh.predict(X_train_tfidf), [\"negative\",\"positive\"], ymap=None, figsize=(10,10))"
   ]
  },
  {
   "cell_type": "code",
   "execution_count": 223,
   "metadata": {},
   "outputs": [
    {
     "data": {
      "image/png": "[encoded data removed]",
      "text/plain": [
       "<Figure size 720x720 with 2 Axes>"
      ]
     },
     "metadata": {
      "needs_background": "light"
     },
     "output_type": "display_data"
    }
   ],
   "source": [
    "# confusion matrix on test data\n",
    "\n",
    "cm_analysis(y_test, neigh.predict(X_test_tfidf), [\"negative\",\"positive\"], ymap=None, figsize=(10,10))"
   ]
  },
  {
   "cell_type": "markdown",
   "metadata": {},
   "source": [
    "### [5.2.3] Applying KNN kd-tree on AVG W2V,<font color='red'> SET 3</font>"
   ]
  },
  {
   "cell_type": "code",
   "execution_count": 3,
   "metadata": {},
   "outputs": [],
   "source": [
    "# Please write all the code with proper documentation"
   ]
  },
  {
   "cell_type": "code",
   "execution_count": 224,
   "metadata": {},
   "outputs": [],
   "source": [
    "list_of_sentance=[]\n",
    "for sentance in X_train:\n",
    "    list_of_sentance.append(sentance.split())\n",
    "    "
   ]
  },
  {
   "cell_type": "code",
   "execution_count": 225,
   "metadata": {},
   "outputs": [
    {
     "name": "stdout",
     "output_type": "stream",
     "text": [
      "number of words that occured minimum 5 times  5575\n",
      "sample words  ['love', 'popcorn', 'use', 'bar', 'everybody', 'loves', 'big', 'hit', 'customers', 'no', 'microwave', 'us', 'much', 'even', 'buy', 'home', 'bought', 'product', 'amazon', 'times', 'basically', 'go', 'whenever', 'plan', 'vacation', 'friends', 'relatives', 'types', 'chocolates', 'particular', 'packet', 'contains', 'favorites', 'also', 'delivery', 'done', 'business', 'days', 'usps', 'recommended', 'getting', 'price', 'however', 'afraid', 'not', 'stocking', 'anymore', 'reduced', 'think', 'one']\n"
     ]
    }
   ],
   "source": [
    "# Please write all the code with proper documentation\n",
    "w2v_model=Word2Vec(list_of_sentance,min_count=5,size=50, workers=4)\n",
    "\n",
    "w2v_words = list(w2v_model.wv.vocab)\n",
    "print(\"number of words that occured minimum 5 times \",len(w2v_words))\n",
    "print(\"sample words \", w2v_words[0:50])"
   ]
  },
  {
   "cell_type": "code",
   "execution_count": 228,
   "metadata": {},
   "outputs": [],
   "source": [
    "# average Word2Vec\n",
    "# compute average word2vec for each review.\n",
    "# the avg-w2v for each sentence/review is stored in this list\n",
    "def getAvgW2vec(list_of_sentance):\n",
    "    sent_vectors = []\n",
    "    for sent in list_of_sentance: # for each review/sentence\n",
    "        sent_vec = np.zeros(50) # as word vectors are of zero length 50, you might need to change this to 300 if you use google's w2v\n",
    "        cnt_words =0; # num of words with a valid vector in the sentence/review\n",
    "        for word in sent: # for each word in a review/sentence\n",
    "            if word in w2v_words:\n",
    "                vec = w2v_model.wv[word]\n",
    "                sent_vec += vec\n",
    "                cnt_words += 1\n",
    "        if cnt_words != 0:\n",
    "            sent_vec /= cnt_words\n",
    "        sent_vectors.append(sent_vec)\n",
    "    \n",
    "    print(len(sent_vectors))\n",
    "    print(len(sent_vectors[0]))\n",
    "    return np.array(sent_vectors)"
   ]
  },
  {
   "cell_type": "code",
   "execution_count": 229,
   "metadata": {},
   "outputs": [
    {
     "name": "stdout",
     "output_type": "stream",
     "text": [
      "8978\n",
      "50\n",
      "4422\n",
      "50\n",
      "6600\n",
      "50\n",
      "(8978, 50)\n",
      "(4422, 50)\n",
      "(6600, 50)\n",
      "==================================================\n"
     ]
    }
   ],
   "source": [
    "X_train_avgw2vec = getAvgW2vec(X_train) \n",
    "X_cv_avgw2vec = getAvgW2vec(X_cv) \n",
    "X_test_avgw2vec = getAvgW2vec(X_test) \n",
    "\n",
    "print(X_train_avgw2vec.shape)\n",
    "print(X_cv_avgw2vec.shape)\n",
    "print(X_test_avgw2vec.shape)\n",
    "\n",
    "print(\"=\"*50)"
   ]
  },
  {
   "cell_type": "code",
   "execution_count": null,
   "metadata": {},
   "outputs": [],
   "source": []
  },
  {
   "cell_type": "code",
   "execution_count": 230,
   "metadata": {},
   "outputs": [],
   "source": [
    "X_train_avgw2vec = StandardScaler(with_mean=False).fit_transform(X_train_avgw2vec)\n",
    "X_cv_avgw2vec = StandardScaler(with_mean=False).fit_transform(X_cv_avgw2vec)\n",
    "X_test_avgw2vec = StandardScaler(with_mean=False).fit_transform(X_test_avgw2vec)"
   ]
  },
  {
   "cell_type": "code",
   "execution_count": 60,
   "metadata": {},
   "outputs": [
    {
     "name": "stderr",
     "output_type": "stream",
     "text": [
      "100%|████████████████████████████████████████████████████████████████████████████████████| 8/8 [00:35<00:00,  4.92s/it]\n"
     ]
    },
    {
     "data": {
      "image/png": "[encoded data removed]",
      "text/plain": [
       "<Figure size 432x288 with 1 Axes>"
      ]
     },
     "metadata": {
      "needs_background": "light"
     },
     "output_type": "display_data"
    }
   ],
   "source": [
    "\"\"\"\n",
    "y_true : array, shape = [n_samples] or [n_samples, n_classes]\n",
    "True binary labels or binary label indicators.\n",
    "\n",
    "y_score : array, shape = [n_samples] or [n_samples, n_classes]\n",
    "Target scores, can either be probability estimates of the positive class, confidence values, or non-thresholded measure of\n",
    "decisions (as returned by “decision_function” on some classifiers). \n",
    "For binary y_true, y_score is supposed to be the score of the class with greater label.\n",
    "\n",
    "\"\"\"\n",
    "train_auc = []\n",
    "cv_auc = []\n",
    "K = [1, 7, 14, 21, 28,35 , 42,50]\n",
    "for i in tqdm(K):\n",
    "    neigh = KNeighborsClassifier(n_neighbors=i,algorithm = \"kd_tree\")\n",
    "    neigh.fit(X_train_avgw2vec, y_train)\n",
    "    y_train_pred =  neigh.predict_proba(X_train_avgw2vec)[:,1]\n",
    "    y_cv_pred =  neigh.predict_proba(X_cv_avgw2vec)[:,1]\n",
    "    \n",
    "    train_auc.append(roc_auc_score(y_train,y_train_pred))\n",
    "    cv_auc.append(roc_auc_score(y_cv, y_cv_pred))\n",
    "    # roc_auc_score(y_true, y_score) the 2nd parameter should be probability estimates of the positive class\n",
    "    # not the predicted outputs\n",
    "    \n",
    "    \n",
    "plt.plot(K, train_auc, label='Train AUC')\n",
    "plt.plot(K, cv_auc, label='CV AUC')\n",
    "plt.legend()\n",
    "plt.xlabel(\"K: hyperparameter\")\n",
    "plt.ylabel(\"AUC\")\n",
    "plt.title(\"ERROR PLOTS\")\n",
    "plt.show()"
   ]
  },
  {
   "cell_type": "code",
   "execution_count": 248,
   "metadata": {},
   "outputs": [
    {
     "data": {
      "text/plain": [
       "42"
      ]
     },
     "execution_count": 248,
     "metadata": {},
     "output_type": "execute_result"
    }
   ],
   "source": [
    "#here we are choosing the best_k based on forloop cv_auc results\n",
    "best_k = K[cv_auc.index(max(cv_auc))]\n",
    "best_k"
   ]
  },
  {
   "cell_type": "code",
   "execution_count": 232,
   "metadata": {},
   "outputs": [],
   "source": [
    "## Testing with Test data"
   ]
  },
  {
   "cell_type": "code",
   "execution_count": 233,
   "metadata": {},
   "outputs": [
    {
     "data": {
      "image/png": "[encoded data removed]",
      "text/plain": [
       "<Figure size 432x288 with 1 Axes>"
      ]
     },
     "metadata": {
      "needs_background": "light"
     },
     "output_type": "display_data"
    },
    {
     "name": "stdout",
     "output_type": "stream",
     "text": [
      "====================================================================================================\n"
     ]
    }
   ],
   "source": [
    "# https://scikit-learn.org/stable/modules/generated/sklearn.metrics.roc_curve.html\n",
    "#sklearn.metrics.roc_curve\n",
    "from sklearn.metrics import roc_curve, auc\n",
    "\n",
    "\n",
    "neigh = KNeighborsClassifier(n_neighbors=best_k,algorithm = \"kd_tree\")\n",
    "neigh.fit(X_train_avgw2vec, y_train)\n",
    "# roc_auc_score(y_true, y_score) the 2nd parameter should be probability estimates of the positive class\n",
    "# not the predicted outputs\n",
    "train_fpr, train_tpr, thresholds = roc_curve(y_train_roc, neigh.predict_proba(X_train_avgw2vec)[:,1])\n",
    "test_fpr, test_tpr, thresholds = roc_curve(y_test_roc, neigh.predict_proba(X_test_avgw2vec)[:,1])\n",
    "\n",
    "plt.plot(train_fpr, train_tpr, label=\"train AUC =\"+str(auc(train_fpr, train_tpr)))\n",
    "plt.plot(test_fpr, test_tpr, label=\"test AUC =\"+str(auc(test_fpr, test_tpr)))\n",
    "plt.legend()\n",
    "plt.xlabel(\"FPR\")\n",
    "plt.ylabel(\"TPR\")\n",
    "plt.title(\"ROC Curve Train vs Test\")\n",
    "plt.show()\n",
    "\n",
    "print(\"=\"*100)\n"
   ]
  },
  {
   "cell_type": "code",
   "execution_count": 234,
   "metadata": {},
   "outputs": [
    {
     "data": {
      "image/png": "[encoded data removed]",
      "text/plain": [
       "<Figure size 720x720 with 2 Axes>"
      ]
     },
     "metadata": {
      "needs_background": "light"
     },
     "output_type": "display_data"
    }
   ],
   "source": [
    "# confusion matrix on train data\n",
    "\n",
    "cm_analysis(y_train, neigh.predict(X_train_avgw2vec), [\"negative\",\"positive\"], ymap=None, figsize=(10,10))"
   ]
  },
  {
   "cell_type": "code",
   "execution_count": 235,
   "metadata": {},
   "outputs": [
    {
     "data": {
      "image/png": "[encoded data removed]",
      "text/plain": [
       "<Figure size 720x720 with 2 Axes>"
      ]
     },
     "metadata": {
      "needs_background": "light"
     },
     "output_type": "display_data"
    }
   ],
   "source": [
    "# confusion matrix on test data\n",
    "\n",
    "cm_analysis(y_test, neigh.predict(X_test_avgw2vec), [\"negative\",\"positive\"], ymap=None, figsize=(10,10))"
   ]
  },
  {
   "cell_type": "markdown",
   "metadata": {},
   "source": [
    "### [5.2.4] Applying KNN kd-tree on TFIDF W2V,<font color='red'> SET 4</font>"
   ]
  },
  {
   "cell_type": "code",
   "execution_count": 236,
   "metadata": {},
   "outputs": [],
   "source": [
    "# Please write all the code with proper documentation"
   ]
  },
  {
   "cell_type": "code",
   "execution_count": 237,
   "metadata": {},
   "outputs": [],
   "source": [
    "model = TfidfVectorizer()\n",
    "tf_idf_matrix = model.fit_transform(X_train)\n",
    "# we are converting a dictionary with word as a key, and the idf as a value\n",
    "dictionary = dict(zip(model.get_feature_names(), list(model.idf_)))"
   ]
  },
  {
   "cell_type": "code",
   "execution_count": 238,
   "metadata": {},
   "outputs": [],
   "source": [
    "# TF-IDF weighted Word2Vec\n",
    "tfidf_feat = model.get_feature_names() # tfidf words/col-names\n",
    "# final_tf_idf is the sparse matrix with row= sentence, col=word and cell_val = tfidf\n",
    "def getTFIDFW2vec(list_of_sentance):\n",
    "    tfidf_sent_vectors = []; # the tfidf-w2v for each sentence/review i\n",
    "# TF-IDF weighted Word2Vec\n",
    "tfidf_feat = model.get_feature_names() # tfidf words/col-names\n",
    "# final_tf_idf is the sparse matrix with row= sentence, col=word and cell_val = tfidf\n",
    "def getTFIDFW2vec(list_of_sentance):\n",
    "    tfidf_sent_vectors = []; # the tfidf-w2v for each sentence/review is stored in this list\n",
    "    row=0;\n",
    "    for sent in list_of_sentance: # for each review/sentence \n",
    "        sent_vec = np.zeros(50) # as word vectors are of zero length\n",
    "        weight_sum =0; # num of words with a valid vector in the sentence/review\n",
    "        for word in sent.split(' '): # for each word in a review/sentence\n",
    "#             print(len(word))\n",
    "            if word in w2v_words and word in tfidf_feat:\n",
    "#                 print(word)\n",
    "                vec = w2v_model.wv[word]\n",
    "#                 print(vec)\n",
    "                # tf_idf = tf_idf_matrix[row, tfidf_feat.index(word)]\n",
    "                # to reduce the computation we are \n",
    "                # dictionary[word] = idf value of word in whole courpus\n",
    "                # sent.count(word) = tf valeus of word in this review\n",
    "                tf_idf = dictionary[word]*(sent.count(word)/len(sent))\n",
    "                sent_vec += (vec * tf_idf)\n",
    "                weight_sum += tf_idf\n",
    "        if weight_sum != 0:\n",
    "            sent_vec /= weight_sum\n",
    "#         print(sent_vec)\n",
    "        tfidf_sent_vectors.append(sent_vec)\n",
    "        row += 1\n",
    "#     print(tfidf_sent_vectors)\n",
    "    return np.array(tfidf_sent_vectors)\n"
   ]
  },
  {
   "cell_type": "code",
   "execution_count": 239,
   "metadata": {},
   "outputs": [
    {
     "name": "stdout",
     "output_type": "stream",
     "text": [
      "(8978, 50)\n",
      "(4422, 50)\n",
      "(6600, 50)\n",
      "==================================================\n"
     ]
    }
   ],
   "source": [
    "X_train_tfidfw2vec = getTFIDFW2vec(X_train) \n",
    "print(X_train_tfidfw2vec.shape)\n",
    "\n",
    "X_cv_tfidfw2vec = getTFIDFW2vec(X_cv) \n",
    "print(X_cv_tfidfw2vec.shape)\n",
    "\n",
    "X_test_tfidfw2vec = getTFIDFW2vec(X_test) \n",
    "print(X_test_tfidfw2vec.shape)\n",
    "\n",
    "print(\"=\"*50)"
   ]
  },
  {
   "cell_type": "code",
   "execution_count": 240,
   "metadata": {},
   "outputs": [],
   "source": [
    "X_train_tfidfw2vec = StandardScaler(with_mean=False).fit_transform(X_train_tfidfw2vec)\n",
    "X_cv_tfidfw2vec = StandardScaler(with_mean=False).fit_transform(X_cv_tfidfw2vec)\n",
    "X_test_tfidfw2vec = StandardScaler(with_mean=False).fit_transform(X_test_tfidfw2vec)"
   ]
  },
  {
   "cell_type": "code",
   "execution_count": null,
   "metadata": {},
   "outputs": [],
   "source": []
  },
  {
   "cell_type": "code",
   "execution_count": 86,
   "metadata": {},
   "outputs": [
    {
     "name": "stderr",
     "output_type": "stream",
     "text": [
      "100%|████████████████████████████████████████████████████████████████████████████████████| 8/8 [01:20<00:00, 10.71s/it]\n"
     ]
    },
    {
     "data": {
      "image/png": "[encoded data removed]",
      "text/plain": [
       "<Figure size 432x288 with 1 Axes>"
      ]
     },
     "metadata": {
      "needs_background": "light"
     },
     "output_type": "display_data"
    }
   ],
   "source": [
    "\"\"\"\n",
    "y_true : array, shape = [n_samples] or [n_samples, n_classes]\n",
    "True binary labels or binary label indicators.\n",
    "\n",
    "y_score : array, shape = [n_samples] or [n_samples, n_classes]\n",
    "Target scores, can either be probability estimates of the positive class, confidence values, or non-thresholded measure of\n",
    "decisions (as returned by “decision_function” on some classifiers). \n",
    "For binary y_true, y_score is supposed to be the score of the class with greater label.\n",
    "\n",
    "\"\"\"\n",
    "train_auc = []\n",
    "cv_auc = []\n",
    "K = [1, 7, 14, 21, 28,35 , 42,50]\n",
    "for i in tqdm(K):\n",
    "    neigh = KNeighborsClassifier(n_neighbors=i,algorithm = \"kd_tree\")\n",
    "    neigh.fit(X_train_tfidfw2vec, y_train)\n",
    "    y_train_pred =  neigh.predict_proba(X_train_tfidfw2vec)[:,1]\n",
    "    y_cv_pred =  neigh.predict_proba(X_cv_tfidfw2vec)[:,1]\n",
    "    \n",
    "    train_auc.append(roc_auc_score(y_train,y_train_pred))\n",
    "    cv_auc.append(roc_auc_score(y_cv, y_cv_pred))\n",
    "    # roc_auc_score(y_true, y_score) the 2nd parameter should be probability estimates of the positive class\n",
    "    # not the predicted outputs\n",
    "    \n",
    "    \n",
    "plt.plot(K, train_auc, label='Train AUC')\n",
    "plt.plot(K, cv_auc, label='CV AUC')\n",
    "plt.legend()\n",
    "plt.xlabel(\"K: hyperparameter\")\n",
    "plt.ylabel(\"AUC\")\n",
    "plt.title(\"ERROR PLOTS\")\n",
    "plt.show()"
   ]
  },
  {
   "cell_type": "code",
   "execution_count": 250,
   "metadata": {},
   "outputs": [
    {
     "data": {
      "text/plain": [
       "50"
      ]
     },
     "execution_count": 250,
     "metadata": {},
     "output_type": "execute_result"
    }
   ],
   "source": [
    "#here we are choosing the best_k based on forloop cv_auc results\n",
    "best_k = K[cv_auc.index(max(cv_auc))]\n",
    "best_k"
   ]
  },
  {
   "cell_type": "code",
   "execution_count": 242,
   "metadata": {},
   "outputs": [],
   "source": [
    "## Testing with Test data"
   ]
  },
  {
   "cell_type": "code",
   "execution_count": 243,
   "metadata": {},
   "outputs": [
    {
     "data": {
      "image/png": "[encoded data removed]",
      "text/plain": [
       "<Figure size 432x288 with 1 Axes>"
      ]
     },
     "metadata": {
      "needs_background": "light"
     },
     "output_type": "display_data"
    },
    {
     "name": "stdout",
     "output_type": "stream",
     "text": [
      "====================================================================================================\n"
     ]
    }
   ],
   "source": [
    "# https://scikit-learn.org/stable/modules/generated/sklearn.metrics.roc_curve.html\n",
    "#sklearn.metrics.roc_curve\n",
    "from sklearn.metrics import roc_curve, auc\n",
    "\n",
    "\n",
    "neigh = KNeighborsClassifier(n_neighbors=best_k,algorithm = \"kd_tree\")\n",
    "neigh.fit(X_train_tfidfw2vec, y_train)\n",
    "# roc_auc_score(y_true, y_score) the 2nd parameter should be probability estimates of the positive class\n",
    "# not the predicted outputs\n",
    "train_fpr, train_tpr, thresholds = roc_curve(y_train_roc, neigh.predict_proba(X_train_tfidfw2vec)[:,1])\n",
    "test_fpr, test_tpr, thresholds = roc_curve(y_test_roc, neigh.predict_proba(X_test_tfidfw2vec)[:,1])\n",
    "\n",
    "plt.plot(train_fpr, train_tpr, label=\"train AUC =\"+str(auc(train_fpr, train_tpr)))\n",
    "plt.plot(test_fpr, test_tpr, label=\"test AUC =\"+str(auc(test_fpr, test_tpr)))\n",
    "plt.legend()\n",
    "plt.xlabel(\"FPR\")\n",
    "plt.ylabel(\"TPR\")\n",
    "plt.title(\"ROC Curve Train vs Test\")\n",
    "plt.show()\n",
    "\n",
    "print(\"=\"*100)"
   ]
  },
  {
   "cell_type": "code",
   "execution_count": 244,
   "metadata": {},
   "outputs": [
    {
     "data": {
      "image/png": "[encoded data removed]",
      "text/plain": [
       "<Figure size 720x720 with 2 Axes>"
      ]
     },
     "metadata": {
      "needs_background": "light"
     },
     "output_type": "display_data"
    }
   ],
   "source": [
    "# confusion matrix on train data\n",
    "cm_analysis(y_train, neigh.predict(X_train_tfidfw2vec), [\"negative\",\"positive\"], ymap=None, figsize=(10,10))"
   ]
  },
  {
   "cell_type": "code",
   "execution_count": 245,
   "metadata": {},
   "outputs": [
    {
     "data": {
      "image/png": "[encoded data removed]",
      "text/plain": [
       "<Figure size 720x720 with 2 Axes>"
      ]
     },
     "metadata": {
      "needs_background": "light"
     },
     "output_type": "display_data"
    }
   ],
   "source": [
    "# confusion matrix on test data\n",
    "cm_analysis(y_test, neigh.predict(X_test_tfidfw2vec), [\"negative\",\"positive\"], ymap=None, figsize=(10,10))"
   ]
  },
  {
   "cell_type": "markdown",
   "metadata": {},
   "source": [
    "# [6] Conclusions"
   ]
  },
  {
   "cell_type": "code",
   "execution_count": 255,
   "metadata": {},
   "outputs": [
    {
     "name": "stdout",
     "output_type": "stream",
     "text": [
      "+------------+---------+-----------------+----------+\n",
      "| Vectorizer |  Model  | Hyper Parameter | Test AUC |\n",
      "+------------+---------+-----------------+----------+\n",
      "|    BOW     |  Brute  |        7        |   0.62   |\n",
      "|   TFIDF    |  Brute  |        50       |   0.53   |\n",
      "|  AVGW2VEC  |  Brute  |        42       |   0.58   |\n",
      "| TFIDFW2VEC |  Brute  |        42       |   0.82   |\n",
      "|    BOW     | Kd Tree |        42       |   0.61   |\n",
      "|   TFIDF    | Kd Tree |        50       |   0.53   |\n",
      "|  AVGW2VEC  | Kd Tree |        42       |   0.57   |\n",
      "| TFIDFW2VEC | Kd Tree |        50       |   0.7    |\n",
      "+------------+---------+-----------------+----------+\n"
     ]
    }
   ],
   "source": [
    "# Please compare all your models using Prettytable library\n",
    "\n",
    "from prettytable import PrettyTable\n",
    "    \n",
    "x = PrettyTable()\n",
    "x.field_names = [\"Vectorizer\", \"Model\", \"Hyper Parameter\", \"Test AUC\"]\n",
    "\n",
    "x.add_row([\"BOW\",\"Brute\", 7, 0.62])\n",
    "x.add_row([\"TFIDF\", \"Brute\", 50, 0.53])\n",
    "x.add_row([\"AVGW2VEC\", \"Brute\", 42, 0.58])\n",
    "x.add_row([\"TFIDFW2VEC\", \"Brute\", 42, 0.82])\n",
    "\n",
    "x.add_row([\"BOW\",\"Kd Tree\", 42, 0.61])\n",
    "x.add_row([\"TFIDF\", \"Kd Tree\", 50, 0.53])\n",
    "x.add_row([\"AVGW2VEC\", \"Kd Tree\", 42,0.57])\n",
    "x.add_row([\"TFIDFW2VEC\", \"Kd Tree\", 50,0.70])\n",
    "\n",
    "\n",
    "\n",
    "print(x)\n",
    "\n"
   ]
  },
  {
   "cell_type": "markdown",
   "metadata": {},
   "source": [
    "# Conclusions"
   ]
  },
  {
   "cell_type": "markdown",
   "metadata": {},
   "source": [
    "1) knn with k = 42 with TFIDFW2VEC gave best AUC value 0.82 in brute force implementation.\n",
    "\n",
    "2) As the train dataset is imbalanced, False Negative Rate(FNR) is high because of very less negative points.\n",
    "\n",
    "3) True positive rate is high as we increase k because majority of the points are negative positive."
   ]
  }
 ],
 "metadata": {
  "kernelspec": {
   "display_name": "Python 3",
   "language": "python",
   "name": "python3"
  },
  "language_info": {
   "codemirror_mode": {
    "name": "ipython",
    "version": 3
   },
   "file_extension": ".py",
   "mimetype": "text/x-python",
   "name": "python",
   "nbconvert_exporter": "python",
   "pygments_lexer": "ipython3",
   "version": "3.6.8"
  }
 },
 "nbformat": 4,
 "nbformat_minor": 2
}
